{
  "nbformat": 4,
  "nbformat_minor": 0,
  "metadata": {
    "colab": {
      "provenance": []
    },
    "kernelspec": {
      "name": "python3",
      "display_name": "Python 3"
    },
    "language_info": {
      "name": "python"
    }
  },
  "cells": [
    {
      "cell_type": "code",
      "execution_count": null,
      "metadata": {
        "id": "ODfPwBjOaT54"
      },
      "outputs": [],
      "source": [
        "import pandas as pd\n",
        "import numpy as np\n",
        "import seaborn as sns"
      ]
    },
    {
      "cell_type": "code",
      "source": [
        "#!sudo apt-get install -y fonts-nanum\n",
        "#!sudo fc-cache -fv\n",
        "#!rm ~/.cache/matplotlib -rf"
      ],
      "metadata": {
        "id": "YiR60tZiZX9H"
      },
      "execution_count": null,
      "outputs": []
    },
    {
      "cell_type": "code",
      "source": [
        "import matplotlib.pyplot as plt\n",
        "plt.rc('font', family='NanumBarunGothic')\n",
        "plt.rcParams['axes.unicode_minus'] =False"
      ],
      "metadata": {
        "id": "zu_0JOYQZZ2d"
      },
      "execution_count": null,
      "outputs": []
    },
    {
      "cell_type": "code",
      "source": [
        "from google.colab import drive\n",
        "drive.mount('/content/drive')"
      ],
      "metadata": {
        "colab": {
          "base_uri": "https://localhost:8080/"
        },
        "id": "nE9PXgp_pV47",
        "outputId": "38397c86-4e42-4823-a503-478629d4c6da"
      },
      "execution_count": null,
      "outputs": [
        {
          "output_type": "stream",
          "name": "stdout",
          "text": [
            "Mounted at /content/drive\n"
          ]
        }
      ]
    },
    {
      "cell_type": "code",
      "source": [
        "import pandas as pd\n",
        "\n",
        "# 🔹 처리할 연도 및 월 목록 정의 (2023년 6월~12월)\n",
        "year = \"2023\"\n",
        "months = [f\"{i:02d}\" for i in range(1, 13)]  # 01 ~ 12 형식으로 월 생성"
      ],
      "metadata": {
        "id": "TxvXfpxZ8cAK"
      },
      "execution_count": null,
      "outputs": []
    },
    {
      "cell_type": "code",
      "source": [
        "# 🔹 반복문을 사용하여 여러 개의 파일을 처리\n",
        "for month in months:\n",
        "    csv_file_path = f\"/content/drive/MyDrive/원본/TN_MNBY_TASTE_RSTRNT_FD_GRW_ADVRTS_EXCUT_DATABASE_INFO_{year}{month}.csv\"\n",
        "\n",
        "    try:\n",
        "        # 데이터 불러오기\n",
        "        data = pd.read_csv(csv_file_path, encoding=\"utf-8-sig\")\n",
        "\n",
        "        # 🔹 Step 1: 불필요한 열 삭제\n",
        "        columns_to_drop = [\n",
        "            'ADVRTS_CD', 'ADVRTS_DE', 'ADVRTS_CL_NM', 'ADVRTS_BRDCST_AREA_NM', 'ADVRTSR_NM', 'ADVRTSR_CD',\n",
        "            'BRAND_NM', 'BRAND_CD', 'INDUTY_LCLAS_NM', 'INDUTY_LCLAS_CD', 'INDUTY_MLSFC_NM', 'INDUTY_MLSFC_CD',\n",
        "            'INDUTY_SCLAS_CD', 'PROGRM_BRDCST_AREA_NM', 'ADVRTS_PROGRM_NM', 'PROGRM_BEGIN_TIME', 'PROGRM_END_TIME'\n",
        "        ]\n",
        "        data = data.drop(columns=[col for col in columns_to_drop if col in data.columns], errors=\"ignore\")\n",
        "\n",
        "        # 🔹 Step 2: 모든 노출률(`NT01_EXPSR_REACH_RT` ~ `NT05_EXPSR_REACH_RT`)이 NaN 또는 0인 행 제거\n",
        "        exposure_cols = ['NT01_EXPSR_REACH_RT', 'NT02_EXPSR_REACH_RT',\n",
        "                         'NT03_EXPSR_REACH_RT', 'NT04_EXPSR_REACH_RT', 'NT05_EXPSR_REACH_RT']\n",
        "        data = data[~(data[exposure_cols].isna().all(axis=1) | (data[exposure_cols] == 0).all(axis=1))]\n",
        "\n",
        "        # 🔹 Step 3: `AREA_NM`이 `\"전국\"`인 행 제거\n",
        "        data = data[data['AREA_NM'] != \"전국\"]\n",
        "\n",
        "        # 🔹 Step 4: `CHNNEL_NM`이 `\"MBC\"`, `\"SBS\"`, `\"KBS\"` 중 하나인 경우만 유지\n",
        "        data = data[data['CHNNEL_NM'].isin([\"MBC\", \"SBS\", \"KBS2\"])]\n",
        "\n",
        "        # 🔹 Step 5: `frequency` 컬럼 생성 (노출 빈도 계산)\n",
        "        data['exposure_count'] = data[exposure_cols].gt(0).sum(axis=1)  # 0이 아닌 노출률 개수 계산\n",
        "        data['frequency'] = data['exposure_count'].apply(lambda x: 0 if x < 3 else 1)  # 3회 미만이면 0, 아니면 1\n",
        "\n",
        "        # 임시로 사용한 `exposure_count` 컬럼 삭제\n",
        "        data.drop(columns=['exposure_count'], inplace=True)\n",
        "\n",
        "        # 🔹 Step 6: `NT01` ~ `NT05` 컬럼 삭제\n",
        "        data.drop(columns=exposure_cols, inplace=True)\n",
        "\n",
        "        # 🔹 Step 7: 처리된 데이터 저장\n",
        "        processed_file_path = f\"/content/drive/MyDrive/월별/{year}_{month}.csv\"\n",
        "        data.to_csv(processed_file_path, index=False, encoding=\"utf-8-sig\")\n",
        "\n",
        "        print(f\"✔ {year}_{month}.csv 파일 저장 완료!\")\n",
        "\n",
        "    except FileNotFoundError:\n",
        "        print(f\"⚠ {csv_file_path} 파일이 존재하지 않습니다. 확인 후 다시 실행하세요.\")\n"
      ],
      "metadata": {
        "colab": {
          "base_uri": "https://localhost:8080/"
        },
        "id": "jwfx4io867sj",
        "outputId": "71fd918a-2e19-4a84-f622-1a12d7700ce2"
      },
      "execution_count": null,
      "outputs": [
        {
          "output_type": "stream",
          "name": "stdout",
          "text": [
            "✔ 2023_01.csv 파일 저장 완료!\n",
            "✔ 2023_02.csv 파일 저장 완료!\n",
            "✔ 2023_03.csv 파일 저장 완료!\n",
            "✔ 2023_04.csv 파일 저장 완료!\n",
            "✔ 2023_05.csv 파일 저장 완료!\n"
          ]
        },
        {
          "output_type": "stream",
          "name": "stderr",
          "text": [
            "<ipython-input-9-502444709fae>:29: SettingWithCopyWarning: \n",
            "A value is trying to be set on a copy of a slice from a DataFrame.\n",
            "Try using .loc[row_indexer,col_indexer] = value instead\n",
            "\n",
            "See the caveats in the documentation: https://pandas.pydata.org/pandas-docs/stable/user_guide/indexing.html#returning-a-view-versus-a-copy\n",
            "  data['exposure_count'] = data[exposure_cols].gt(0).sum(axis=1)  # 0이 아닌 노출률 개수 계산\n",
            "<ipython-input-9-502444709fae>:30: SettingWithCopyWarning: \n",
            "A value is trying to be set on a copy of a slice from a DataFrame.\n",
            "Try using .loc[row_indexer,col_indexer] = value instead\n",
            "\n",
            "See the caveats in the documentation: https://pandas.pydata.org/pandas-docs/stable/user_guide/indexing.html#returning-a-view-versus-a-copy\n",
            "  data['frequency'] = data['exposure_count'].apply(lambda x: 0 if x < 3 else 1)  # 3회 미만이면 0, 아니면 1\n",
            "<ipython-input-9-502444709fae>:33: SettingWithCopyWarning: \n",
            "A value is trying to be set on a copy of a slice from a DataFrame\n",
            "\n",
            "See the caveats in the documentation: https://pandas.pydata.org/pandas-docs/stable/user_guide/indexing.html#returning-a-view-versus-a-copy\n",
            "  data.drop(columns=['exposure_count'], inplace=True)\n",
            "<ipython-input-9-502444709fae>:36: SettingWithCopyWarning: \n",
            "A value is trying to be set on a copy of a slice from a DataFrame\n",
            "\n",
            "See the caveats in the documentation: https://pandas.pydata.org/pandas-docs/stable/user_guide/indexing.html#returning-a-view-versus-a-copy\n",
            "  data.drop(columns=exposure_cols, inplace=True)\n"
          ]
        },
        {
          "output_type": "stream",
          "name": "stdout",
          "text": [
            "✔ 2023_06.csv 파일 저장 완료!\n",
            "✔ 2023_07.csv 파일 저장 완료!\n",
            "✔ 2023_08.csv 파일 저장 완료!\n",
            "✔ 2023_09.csv 파일 저장 완료!\n",
            "✔ 2023_10.csv 파일 저장 완료!\n",
            "✔ 2023_11.csv 파일 저장 완료!\n",
            "✔ 2023_12.csv 파일 저장 완료!\n"
          ]
        }
      ]
    },
    {
      "cell_type": "code",
      "source": [
        "import os\n",
        "\n",
        "# 빈 리스트 생성 (각 데이터프레임 저장용)\n",
        "dataframes = []\n",
        "\n",
        "# 🔹 각 파일의 크기(shape) 출력 및 데이터 읽기\n",
        "for month in months:\n",
        "    csv_file_path = f\"/content/drive/MyDrive/월별/{year}_{month}.csv\"  # 파일 경로 설정\n",
        "\n",
        "    if os.path.exists(csv_file_path):  # 파일 존재 여부 확인\n",
        "        # 데이터 불러오기\n",
        "        data = pd.read_csv(csv_file_path, encoding=\"utf-8-sig\")\n",
        "\n",
        "        # 데이터 크기 출력\n",
        "        print(f\"📊 {year}_{month}.csv 파일 크기: {data.shape}\")\n",
        "\n",
        "        # 데이터프레임 리스트에 추가\n",
        "        dataframes.append(data)\n",
        "    else:\n",
        "        print(f\"⚠ {csv_file_path} 파일이 존재하지 않습니다.\")\n",
        "\n",
        "# 🔹 모든 데이터를 하나의 데이터프레임으로 병합\n",
        "if dataframes:\n",
        "    merged_data = pd.concat(dataframes, ignore_index=True)\n",
        "\n",
        "    # 병합된 데이터 저장\n",
        "    merged_file_path = \"/content/drive/MyDrive/merged2023.csv\"\n",
        "    merged_data.to_csv(merged_file_path, index=False, encoding=\"utf-8-sig\")\n",
        "\n",
        "    print(f\"✔ 병합된 데이터 저장 완료: {merged_file_path}\")\n",
        "\n",
        "else:\n",
        "    print(\"❌ 병합할 데이터가 없습니다. 파일을 확인해주세요.\")"
      ],
      "metadata": {
        "colab": {
          "base_uri": "https://localhost:8080/"
        },
        "id": "m2P1TRY_8VTa",
        "outputId": "2b29d2d9-2af3-4137-9ad4-8405b1f472dc"
      },
      "execution_count": null,
      "outputs": [
        {
          "output_type": "stream",
          "name": "stdout",
          "text": [
            "📊 2023_01.csv 파일 크기: (80166, 14)\n",
            "📊 2023_02.csv 파일 크기: (72385, 14)\n",
            "📊 2023_03.csv 파일 크기: (80155, 14)\n",
            "📊 2023_04.csv 파일 크기: (47324, 14)\n",
            "📊 2023_05.csv 파일 크기: (90075, 14)\n",
            "📊 2023_06.csv 파일 크기: (123997, 14)\n",
            "📊 2023_07.csv 파일 크기: (58614, 14)\n",
            "📊 2023_08.csv 파일 크기: (109292, 14)\n",
            "📊 2023_09.csv 파일 크기: (128252, 14)\n",
            "📊 2023_10.csv 파일 크기: (107156, 14)\n",
            "📊 2023_11.csv 파일 크기: (89262, 14)\n",
            "📊 2023_12.csv 파일 크기: (146934, 14)\n",
            "✔ 병합된 데이터 저장 완료: /content/drive/MyDrive/merged2023.csv\n"
          ]
        }
      ]
    },
    {
      "cell_type": "code",
      "source": [
        "df = pd.read_csv(\"/content/drive/MyDrive/merged2023.csv\")\n",
        "df.shape"
      ],
      "metadata": {
        "colab": {
          "base_uri": "https://localhost:8080/"
        },
        "id": "xvbYFncCeGX0",
        "outputId": "2f9e4761-cf3b-40e3-d99c-4cb5c9aeb0d3"
      },
      "execution_count": null,
      "outputs": [
        {
          "output_type": "execute_result",
          "data": {
            "text/plain": [
              "(1133612, 14)"
            ]
          },
          "metadata": {},
          "execution_count": 11
        }
      ]
    },
    {
      "cell_type": "code",
      "source": [],
      "metadata": {
        "id": "Xl-kjVZXeKaV"
      },
      "execution_count": null,
      "outputs": []
    }
  ]
}