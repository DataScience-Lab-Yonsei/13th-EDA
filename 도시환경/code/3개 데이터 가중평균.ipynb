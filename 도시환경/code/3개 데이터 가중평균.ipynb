{
 "cells": [
  {
   "cell_type": "code",
   "execution_count": 2,
   "id": "ec3c295d-6177-4425-96b4-4c9a842e1e95",
   "metadata": {},
   "outputs": [
    {
     "name": "stdout",
     "output_type": "stream",
     "text": [
      "모든 파일의 고유 조합 개수: 307\n",
      "최종 파일의 행 수: 307\n",
      "검증 완료: 고유 조합의 개수와 최종 파일의 행 수가 일치합니다.\n"
     ]
    }
   ],
   "source": [
    "import pandas as pd\n",
    "\n",
    "# 파일 경로 정의\n",
    "file1 = '[0131최종]상위40퍼센트_구간정보_1번째.xlsx'\n",
    "file2 = '[0131최종]상위40퍼센트_구간정보_2번째.xlsx'\n",
    "file3 = '[0131최종]상위40퍼센트_구간정보_3번째.xlsx'\n",
    "\n",
    "# 각 파일을 DataFrame으로 불러오기\n",
    "df1 = pd.read_excel(file1)\n",
    "df2 = pd.read_excel(file2)\n",
    "df3 = pd.read_excel(file3)\n",
    "\n",
    "# 관련 열 선택 (transfer_info 제외)\n",
    "columns = ['start_station', 'end_station', 'lines', 'cumulative_passenger', 'climate_pass']\n",
    "df1 = df1[columns].copy()\n",
    "df2 = df2[columns].copy()\n",
    "df3 = df3[columns].copy()\n",
    "\n",
    "# 'cumulative_passenger' 열 이름 변경 (출처 식별을 위해)\n",
    "df1.rename(columns={'cumulative_passenger': 'cumulative_passenger_1'}, inplace=True)\n",
    "df2.rename(columns={'cumulative_passenger': 'cumulative_passenger_2'}, inplace=True)\n",
    "df3.rename(columns={'cumulative_passenger': 'cumulative_passenger_3'}, inplace=True)\n",
    "\n",
    "# DataFrame 병합 (외부 조인)\n",
    "merged_df = pd.merge(df1, df2, on=['start_station', 'end_station', 'lines', 'climate_pass'], how='outer')\n",
    "merged_df = pd.merge(merged_df, df3, on=['start_station', 'end_station', 'lines', 'climate_pass'], how='outer')\n",
    "\n",
    "# 누락된 값을 0으로 채우기\n",
    "merged_df[['cumulative_passenger_1', 'cumulative_passenger_2', 'cumulative_passenger_3']] = merged_df[\n",
    "    ['cumulative_passenger_1', 'cumulative_passenger_2', 'cumulative_passenger_3']\n",
    "].fillna(0)\n",
    "\n",
    "# 가중평균 계산\n",
    "merged_df['weighted_average'] = (5 * merged_df['cumulative_passenger_1'] +\n",
    "                                 2 * merged_df['cumulative_passenger_2'] +\n",
    "                                 2 * merged_df['cumulative_passenger_3']) / 9\n",
    "\n",
    "# 최종 열 선택 (transfer_info 제외)\n",
    "final_df = merged_df[['start_station', 'end_station', 'lines', 'weighted_average', 'climate_pass']]\n",
    "\n",
    "# 고유 조합 개수 계산\n",
    "unique_combinations = pd.concat([df1, df2, df3]).drop_duplicates(subset=['start_station', 'end_station', 'lines', 'climate_pass'])\n",
    "num_unique = unique_combinations.shape[0]\n",
    "num_final = final_df.shape[0]\n",
    "\n",
    "print(f'모든 파일의 고유 조합 개수: {num_unique}')\n",
    "print(f'최종 파일의 행 수: {num_final}')\n",
    "\n",
    "if num_unique == num_final:\n",
    "    print('검증 완료: 고유 조합의 개수와 최종 파일의 행 수가 일치합니다.')\n",
    "else:\n",
    "    print('검증 실패: 고유 조합의 개수와 최종 파일의 행 수가 일치하지 않습니다.')\n",
    "\n",
    "# 최종 데이터프레임을 새로운 엑셀 파일로 저장\n",
    "final_df.to_excel('[0131최종]상위40%_3개_데이터_가중평균.xlsx', index=False)"
   ]
  },
  {
   "cell_type": "code",
   "execution_count": null,
   "id": "f3810807-2036-4a6e-b2f5-9984b8f68755",
   "metadata": {},
   "outputs": [],
   "source": []
  }
 ],
 "metadata": {
  "kernelspec": {
   "display_name": "Python 3 (ipykernel)",
   "language": "python",
   "name": "python3"
  },
  "language_info": {
   "codemirror_mode": {
    "name": "ipython",
    "version": 3
   },
   "file_extension": ".py",
   "mimetype": "text/x-python",
   "name": "python",
   "nbconvert_exporter": "python",
   "pygments_lexer": "ipython3",
   "version": "3.12.7"
  }
 },
 "nbformat": 4,
 "nbformat_minor": 5
}
