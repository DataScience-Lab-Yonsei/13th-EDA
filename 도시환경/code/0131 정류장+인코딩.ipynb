{
 "cells": [
  {
   "cell_type": "code",
   "execution_count": 5,
   "metadata": {},
   "outputs": [
    {
     "name": "stdout",
     "output_type": "stream",
     "text": [
      "모든 시트 병합 완료! 저장된 파일: 병합_결과.xlsx\n"
     ]
    }
   ],
   "source": [
    "import pandas as pd\n",
    "\n",
    "# 파일 경로\n",
    "encoding_file = \"인코딩 완료_역정보_역행정동정보 (1).xlsx\"\n",
    "bus_stop_file = \"버스 정류장 개수.xlsx\"\n",
    "output_file = \"병합_결과.xlsx\"\n",
    "\n",
    "# '버스 정류장 개수' 파일 불러오기\n",
    "df_bus_stop = pd.read_excel(bus_stop_file)\n",
    "\n",
    "# 공백 제거 및 컬럼명 정리\n",
    "df_bus_stop.columns = df_bus_stop.columns.str.strip()\n",
    "\n",
    "# '인코딩 완료' 파일의 모든 시트 불러오기\n",
    "sheets = pd.read_excel(encoding_file, sheet_name=None)\n",
    "\n",
    "# 각 시트를 병합한 후 저장\n",
    "with pd.ExcelWriter(output_file) as writer:\n",
    "    for sheet_name, df_encoding in sheets.items():\n",
    "        # 공백 제거 및 컬럼명 정리\n",
    "        df_encoding.columns = df_encoding.columns.str.strip()\n",
    "\n",
    "        # 병합 수행\n",
    "        merged_df = df_encoding.merge(df_bus_stop, left_on=\"end_station\", right_on=\"역사명\", how=\"left\")\n",
    "\n",
    "        # 병합된 데이터 저장 (엑셀의 개별 시트로 저장)\n",
    "        merged_df.to_excel(writer, sheet_name=sheet_name, index=False)\n",
    "\n",
    "print(f\"모든 시트 병합 완료! 저장된 파일: {output_file}\")\n"
   ]
  },
  {
   "cell_type": "code",
   "execution_count": 3,
   "metadata": {},
   "outputs": [
    {
     "name": "stdout",
     "output_type": "stream",
     "text": [
      "인코딩 완료 파일의 컬럼명: ['start_station', 'end_station', 'lines', 'weighted_average', 'climate_pass', 'end_x', 'end_y', 'end_district', 'end_line_num', 'end_exit_num', '2024년 01월', '2024년 02월', '2024년 03월', '2024년 04월', '2024년 05월', '2024년 06월', '2024년 07월', '2024년 08월', '2024년 09월', '2024년 10월', '2024년 11월', '2024년 12월', '2024년 01월_copy', '2024년 02월_copy', '2024년 03월_copy', '2024년 04월_copy', '2024년 05월_copy', '2024년 06월_copy', '2024년 07월_copy', '2024년 08월_copy', '2024년 09월_copy', '2024년 10월_copy', '2024년 11월_copy', '2024년 12월_copy']\n",
      "버스 정류장 개수 파일의 컬럼명: ['start_station', 'end_station', 'lines', 'weighted_average', 'climate_pass', 'end_x', 'end_y', 'end_district', 'end_line_num', 'end_exit_num', 'end_bus stop_num', '2024년 01월', '2024년 02월', '2024년 03월', '2024년 04월', '2024년 05월', '2024년 06월', '2024년 07월', '2024년 08월', '2024년 09월', '2024년 10월', '2024년 11월', '2024년 12월', '2024년 01월_copy', '2024년 02월_copy', '2024년 03월_copy', '2024년 04월_copy', '2024년 05월_copy', '2024년 06월_copy', '2024년 07월_copy', '2024년 08월_copy', '2024년 09월_copy', '2024년 10월_copy', '2024년 11월_copy', '2024년 12월_copy']\n"
     ]
    }
   ],
   "source": [
    "print(\"인코딩 완료 파일의 컬럼명:\", list(df_encoding.columns))\n",
    "print(\"버스 정류장 개수 파일의 컬럼명:\", list(df_bus_stop.columns))\n"
   ]
  }
 ],
 "metadata": {
  "kernelspec": {
   "display_name": "base",
   "language": "python",
   "name": "python3"
  },
  "language_info": {
   "codemirror_mode": {
    "name": "ipython",
    "version": 3
   },
   "file_extension": ".py",
   "mimetype": "text/x-python",
   "name": "python",
   "nbconvert_exporter": "python",
   "pygments_lexer": "ipython3",
   "version": "3.11.5"
  }
 },
 "nbformat": 4,
 "nbformat_minor": 2
}
