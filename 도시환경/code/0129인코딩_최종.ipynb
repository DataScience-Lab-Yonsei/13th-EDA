{
 "cells": [
  {
   "cell_type": "code",
   "execution_count": 1,
   "metadata": {},
   "outputs": [],
   "source": [
    "import pandas as pd"
   ]
  },
  {
   "cell_type": "code",
   "execution_count": 2,
   "metadata": {},
   "outputs": [],
   "source": [
    "file_path = \"역정보+역행정동정보.xlsx\"  # 원본 엑셀 파일 경로\n",
    "output_file_path = \"인코딩 완료_역정보_역행정동정보.xlsx\"  # 저장할 파일 경로"
   ]
  },
  {
   "cell_type": "code",
   "execution_count": 3,
   "metadata": {},
   "outputs": [],
   "source": [
    "# 모든 시트 로드\n",
    "xls = pd.ExcelFile(file_path)\n",
    "sheets = {sheet: xls.parse(sheet) for sheet in xls.sheet_names}  # 모든 시트 읽기"
   ]
  },
  {
   "cell_type": "code",
   "execution_count": 4,
   "metadata": {},
   "outputs": [],
   "source": [
    "date_station_map = {\n",
    "    \"2024-04\": [\"양촌\", \"구래\", \"마산\", \"장기\", \"운양\", \"걸포북변\", \"사우\", \"풍무\", \"고촌\", \"김포공항\"],\n",
    "    \"2024-08\": [\"별내별가람\", \"오남\", \"진접\", \"별내\", \"다산\", \"장자호수공원\", \"구리\", \"동구릉\"],\n",
    "    \"2024-09\": [\"인천공항제1터미널\", \"인천공항제2터미널\"],\n",
    "    \"2024-11\": [\"지축\", \"삼송\", \"원흥\", \"원당\", \"화정\", \"대곡\", \"백석\", \"마두\", \"정발산\", \"주엽\", \"대화\",\n",
    "                \"한국항공대\", \"강매\", \"행신\", \"능곡\", \"대곡\", \"곡산\", \"백마\", \"풍산\", \"일산\", \"탄현\",\n",
    "                \"능곡\", \"대곡\", \"곡산\", \"백마\", \"풍산\", \"일산\",\n",
    "                \"선바위\", \"경마공원\", \"대공원\", \"과천\", \"정부과천청사\"]\n",
    "}"
   ]
  },
  {
   "cell_type": "code",
   "execution_count": 6,
   "metadata": {},
   "outputs": [
    {
     "name": "stdout",
     "output_type": "stream",
     "text": [
      "업데이트된 파일이 저장되었습니다: 인코딩 완료_역정보_역행정동정보.xlsx\n"
     ]
    }
   ],
   "source": [
    "# 모든 시트에 대해 적용\n",
    "for sheet_name, df in sheets.items():\n",
    "    # 🔹 \"2024_1월\" 등 원본 열을 복사하여 \"2024_1월_copy\" 형태의 새 열 생성\n",
    "    for col in df.columns:\n",
    "        if \"2024년\" in col and \"_copy\" not in col:  # 원본 열만 선택\n",
    "            df[col + \"_copy\"] = df[col]  # \"_copy\" 버전 추가\n",
    "\n",
    "    # 🔹 \"2024_\"와 \"copy\"가 포함된 열만 선택\n",
    "    date_columns = [col for col in df.columns if \"2024년\" in col and \"copy\" in col]\n",
    "\n",
    "    # 🔹 각 날짜별 end_station 조건 적용\n",
    "    for col in date_columns:\n",
    "        year_month = col.split(\"_\")[0].replace(\"년 \", \"-\").replace(\"월\", \"\")  # \"2024-04\" 같은 형식으로 변환\n",
    "\n",
    "        for date, stations in date_station_map.items():\n",
    "            if year_month >= date:  # 해당 날짜 이후부터 1로 설정\n",
    "                df[col] = df.apply(lambda row: 1 if row.get(\"end_station\") in stations else row[col], axis=1)\n",
    "            else:  # 지정 날짜 이전은 0으로 설정\n",
    "                df[col] = df.apply(lambda row: 0 if row.get(\"end_station\") in stations else row[col], axis=1)\n",
    "\n",
    "    # 🔹 추가 기능: date_station_map에 없는 end_station 처리\n",
    "    for col in date_columns:\n",
    "        df[col] = df.apply(\n",
    "            lambda row: 1 if row.get(\"end_station\") not in sum(date_station_map.values(), []) and row.get(\"climate_pass\") == \"O\" else row[col],\n",
    "            axis=1\n",
    "        )\n",
    "\n",
    "        df[col] = df.apply(\n",
    "            lambda row: 0 if row.get(\"end_station\") not in sum(date_station_map.values(), []) and row.get(\"climate_pass\") == \"X\" else row[col],\n",
    "            axis=1\n",
    "        )\n",
    "\n",
    "# 변경된 데이터 저장\n",
    "with pd.ExcelWriter(output_file_path) as writer:\n",
    "    for sheet_name, df in sheets.items():\n",
    "        df.to_excel(writer, sheet_name=sheet_name, index=False)\n",
    "\n",
    "print(f\"업데이트된 파일이 저장되었습니다: {output_file_path}\")"
   ]
  }
 ],
 "metadata": {
  "kernelspec": {
   "display_name": "base",
   "language": "python",
   "name": "python3"
  },
  "language_info": {
   "codemirror_mode": {
    "name": "ipython",
    "version": 3
   },
   "file_extension": ".py",
   "mimetype": "text/x-python",
   "name": "python",
   "nbconvert_exporter": "python",
   "pygments_lexer": "ipython3",
   "version": "3.11.5"
  }
 },
 "nbformat": 4,
 "nbformat_minor": 2
}
