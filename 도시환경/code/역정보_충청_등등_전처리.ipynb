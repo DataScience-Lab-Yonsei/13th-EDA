{
 "cells": [
  {
   "cell_type": "code",
   "execution_count": 1,
   "id": "43b440d8-4558-4abc-824a-d648a35c0734",
   "metadata": {},
   "outputs": [
    {
     "name": "stderr",
     "output_type": "stream",
     "text": [
      "C:\\Users\\bag43\\AppData\\Local\\Temp\\ipykernel_18372\\4222782939.py:10: FutureWarning: DataFrame.applymap has been deprecated. Use DataFrame.map instead.\n",
      "  df = df.applymap(lambda x: x.replace('인천시 남구', '인천광역시 미추홀구') if isinstance(x, str) else x)\n",
      "C:\\Users\\bag43\\AppData\\Local\\Temp\\ipykernel_18372\\4222782939.py:13: FutureWarning: DataFrame.applymap has been deprecated. Use DataFrame.map instead.\n",
      "  df = df.applymap(lambda x: x.replace('인천시', '인천광역시') if isinstance(x, str) and '인천시 남구' not in x else x)\n",
      "C:\\Users\\bag43\\AppData\\Local\\Temp\\ipykernel_18372\\4222782939.py:25: FutureWarning: DataFrame.applymap has been deprecated. Use DataFrame.map instead.\n",
      "  df = df.applymap(lambda x: x.replace('시승시', '시흥시') if isinstance(x, str) else x)\n",
      "C:\\Users\\bag43\\AppData\\Local\\Temp\\ipykernel_18372\\4222782939.py:28: FutureWarning: DataFrame.applymap has been deprecated. Use DataFrame.map instead.\n",
      "  df = df.applymap(lambda x: x.replace('서울 강서구', '서울특별시 강서구') if isinstance(x, str) else x)\n"
     ]
    },
    {
     "name": "stdout",
     "output_type": "stream",
     "text": [
      "변환 및 삭제 작업이 완료되었습니다. 파일이 '(0203최종)제거된_merged_좌표,행정구역,노선 수,출구 수,버정 수.xlsx'에 저장되었습니다.\n"
     ]
    }
   ],
   "source": [
    "import pandas as pd\n",
    "\n",
    "# 엑셀 파일 로드\n",
    "file_path = '(0203최종)merged_좌표,행정구역,노선 수,출구 수,버정 수.xlsx'  # 파일 경로를 여기에 입력하세요.\n",
    "df = pd.read_excel(file_path)\n",
    "\n",
    "# 모든 셀에 대해 작업 수행 함수 정의\n",
    "def process_all_cells(df):\n",
    "    # 1. '인천시 남구' -> '인천광역시 미추홀구' 변환\n",
    "    df = df.applymap(lambda x: x.replace('인천시 남구', '인천광역시 미추홀구') if isinstance(x, str) else x)\n",
    "\n",
    "    # 2. '인천시'가 포함된 행 중 1번 작업을 거치지 않은 경우 '인천시' -> '인천광역시' 변환\n",
    "    df = df.applymap(lambda x: x.replace('인천시', '인천광역시') if isinstance(x, str) and '인천시 남구' not in x else x)\n",
    "\n",
    "    # 3. '충남'이 포함된 경우 해당 행 삭제\n",
    "    df = df[~df.apply(lambda row: row.astype(str).str.contains('충남').any(), axis=1)]\n",
    "\n",
    "    # 4. '충청남도'가 포함된 경우 해당 행 삭제\n",
    "    df = df[~df.apply(lambda row: row.astype(str).str.contains('충청남도').any(), axis=1)]\n",
    "\n",
    "    # 5. '강원도', '춘천', 또는 '춘춘'이 포함된 경우 해당 행 삭제\n",
    "    df = df[~df.apply(lambda row: row.astype(str).str.contains('강원도|춘천|춘춘').any(), axis=1)]\n",
    "\n",
    "    # 6. '시승시' -> '시흥시' 변환\n",
    "    df = df.applymap(lambda x: x.replace('시승시', '시흥시') if isinstance(x, str) else x)\n",
    "\n",
    "    # 7. '서울 강서구' -> '서울특별시 강서구' 변환\n",
    "    df = df.applymap(lambda x: x.replace('서울 강서구', '서울특별시 강서구') if isinstance(x, str) else x)\n",
    "\n",
    "    return df\n",
    "\n",
    "# 데이터프레임에 작업 적용\n",
    "processed_df = process_all_cells(df)\n",
    "\n",
    "# 작업 결과를 엑셀로 저장\n",
    "output_file_path = '(0203최종)제거된_merged_좌표,행정구역,노선 수,출구 수,버정 수.xlsx'  # 저장할 파일 경로를 입력하세요.\n",
    "processed_df.to_excel(output_file_path, index=False)\n",
    "\n",
    "print(f\"변환 및 삭제 작업이 완료되었습니다. 파일이 '{output_file_path}'에 저장되었습니다.\")\n"
   ]
  },
  {
   "cell_type": "code",
   "execution_count": null,
   "id": "39ff4602-2434-4878-b764-4efbcbb3426e",
   "metadata": {},
   "outputs": [],
   "source": []
  }
 ],
 "metadata": {
  "kernelspec": {
   "display_name": "Python 3 (ipykernel)",
   "language": "python",
   "name": "python3"
  },
  "language_info": {
   "codemirror_mode": {
    "name": "ipython",
    "version": 3
   },
   "file_extension": ".py",
   "mimetype": "text/x-python",
   "name": "python",
   "nbconvert_exporter": "python",
   "pygments_lexer": "ipython3",
   "version": "3.12.7"
  }
 },
 "nbformat": 4,
 "nbformat_minor": 5
}
