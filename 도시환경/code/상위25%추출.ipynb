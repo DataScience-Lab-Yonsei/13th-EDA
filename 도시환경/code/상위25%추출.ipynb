{
 "cells": [
  {
   "cell_type": "code",
   "execution_count": 1,
   "id": "fa3311f1-5a30-4dbf-bba9-35dbec77962f",
   "metadata": {},
   "outputs": [
    {
     "name": "stdout",
     "output_type": "stream",
     "text": [
      "결과가 파일 '(0203최종_2)상위25%_교집합_result.xlsx'에 저장되었습니다.\n"
     ]
    }
   ],
   "source": [
    "import pandas as pd\n",
    "\n",
    "# 엑셀 파일 경로 지정\n",
    "file_path = '(0203최종_2)merged_final_result.xlsx'\n",
    "\n",
    "# 엑셀 파일 읽기\n",
    "xls = pd.ExcelFile(file_path)\n",
    "\n",
    "# 각 시트의 상위 25% 행들을 저장할 리스트\n",
    "filtered_data_frames = []\n",
    "\n",
    "# 모든 시트에 대해 작업 수행\n",
    "for sheet_name in xls.sheet_names:\n",
    "    # 시트 데이터를 읽어옴\n",
    "    df = pd.read_excel(xls, sheet_name=sheet_name)\n",
    "\n",
    "    # 열 번호로 E열(5번째 열)부터 Z열(26번째 열)까지 선택\n",
    "    columns_to_sum = df.iloc[:, 4:26]  # 0부터 시작하는 인덱스로 4번째부터 25번째 열까지\n",
    "\n",
    "    # E열부터 Z열까지의 합산\n",
    "    df['sum_E_to_Z'] = columns_to_sum.sum(axis=1)\n",
    "\n",
    "    # 합계 기준 상위 25% 행들만 선택\n",
    "    threshold = df['sum_E_to_Z'].quantile(0.75)\n",
    "    filtered_df = df[df['sum_E_to_Z'] >= threshold]\n",
    "\n",
    "    # 필요한 결과만 저장\n",
    "    filtered_data_frames.append(filtered_df)\n",
    "\n",
    "# A~D열 기준으로 공통 조합 찾기\n",
    "common_keys = filtered_data_frames[0][filtered_data_frames[0].columns[:4]].copy()\n",
    "\n",
    "for df in filtered_data_frames[1:]:\n",
    "    common_keys = pd.merge(common_keys, df[df.columns[:4]], how='inner')\n",
    "\n",
    "# 최종 결과 저장을 위한 딕셔너리\n",
    "final_results = {}\n",
    "\n",
    "# 각 시트에서 공통된 조합에 해당하는 모든 데이터를 추출\n",
    "for i, sheet_name in enumerate(xls.sheet_names):\n",
    "    # 현재 시트 데이터\n",
    "    df = filtered_data_frames[i]\n",
    "\n",
    "    # 공통 조합에 해당하는 행들만 가져옴\n",
    "    result_df = pd.merge(common_keys, df, how='inner', on=df.columns[:4].tolist())\n",
    "\n",
    "    # 결과 저장\n",
    "    final_results[sheet_name] = result_df\n",
    "\n",
    "# 하나의 엑셀 파일로 저장\n",
    "output_file = '(0203최종_2)상위25%_교집합_result.xlsx'\n",
    "with pd.ExcelWriter(output_file) as writer:\n",
    "    for sheet_name, result_df in final_results.items():\n",
    "        result_df.to_excel(writer, sheet_name=sheet_name, index=False)\n",
    "\n",
    "print(f\"결과가 파일 '{output_file}'에 저장되었습니다.\")\n"
   ]
  },
  {
   "cell_type": "code",
   "execution_count": null,
   "id": "24ea13fb-6675-4640-94d3-3dda8cdba91a",
   "metadata": {},
   "outputs": [],
   "source": []
  }
 ],
 "metadata": {
  "kernelspec": {
   "display_name": "Python 3 (ipykernel)",
   "language": "python",
   "name": "python3"
  },
  "language_info": {
   "codemirror_mode": {
    "name": "ipython",
    "version": 3
   },
   "file_extension": ".py",
   "mimetype": "text/x-python",
   "name": "python",
   "nbconvert_exporter": "python",
   "pygments_lexer": "ipython3",
   "version": "3.12.7"
  }
 },
 "nbformat": 4,
 "nbformat_minor": 5
}
