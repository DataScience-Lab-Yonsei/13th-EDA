{
 "cells": [
  {
   "cell_type": "code",
   "execution_count": 9,
   "id": "initial_id",
   "metadata": {
    "collapsed": true,
    "ExecuteTime": {
     "end_time": "2025-01-16T09:32:42.585269Z",
     "start_time": "2025-01-16T09:32:42.561291Z"
    }
   },
   "outputs": [],
   "source": [
    "import pandas as pd\n",
    "\n",
    "file_path = \"/Users/ksw00/PycharmProjects/pythonProject/DSL_EDA/서울 시민의 소비 및 이동 패턴 재현 데이터.csv\"\n",
    "\n",
    "# CSV 파일을 데이터프레임으로 읽기\n",
    "df = pd.read_csv(file_path, usecols= ['연체여부','총대출약정금액','추정연소득','할부이용금액','대출여부'])"
   ]
  },
  {
   "cell_type": "markdown",
   "source": [
    "기준 1. 상환 이력 - 연체여부\n",
    "\n",
    "상환 이력이란 기존의 대출을 얼마나 문제없이 갚았는지를 파악하는 항목입니다. 특히 ‘장기연체’가 있으면 신용점수에 있어 감점요인\n",
    "\n",
    "기준 2. 부채 수준 - 총대출약정금액과 추정연소득 비율\n",
    "\n",
    "상환이력과 같은 맥락입니다. 부채*를 잘 상환하는지, 소득 대비 부채 수준이 너무 높지 않은지를 판단해서 신용점수에 반영합니다.\n",
    "\n",
    "기준 3. 신용 거래 기간 - ?\n",
    "\n",
    "신용 거래 기간은 언뜻 보면 할부 기간이 길수록 좋은 것일까 오해할 수 있습니다. 여기에서 신용 거래 기간은 신용카드 개설 기간입니다. 신용카드 개설 기간이 길다는 것은 그만큼 신용 거래를 오래 했다는 것으로, 신용점수에 플러스 요인으로 작용합니다.\n",
    "\n",
    "기준 4. 신용 거래 형태 - 할부이용금액, 대출여부\n",
    "\n",
    "일상적인 카드 사용 형태를 기준으로 신용카드 대출이 많지는 않은지, 할부거래가 많지는 않은지를 봅니다. 이와 함께 다른 사람의 보증을 서주지는 않았는지를 봅니다"
   ],
   "metadata": {
    "collapsed": false
   },
   "id": "b1b9ee36720cabdc"
  },
  {
   "cell_type": "code",
   "outputs": [
    {
     "data": {
      "text/plain": "     대출여부  연체여부    추정연소득  총대출약정금액  할부이용금액\n0       0     0  59000.0        0     595\n1       0     0  26000.0        0       0\n2       1     0  24000.0    27600       0\n3       1     0  46000.0    12990    1628\n4       0     0  30000.0        0       0\n..    ...   ...      ...      ...     ...\n995     1     0  32000.0    40000       0\n996     1     0  74000.0    41200       0\n997     1     0  39000.0   309048       0\n998     1     0  43000.0   237000     790\n999     1     0  93000.0   136830     232\n\n[1000 rows x 5 columns]",
      "text/html": "<div>\n<style scoped>\n    .dataframe tbody tr th:only-of-type {\n        vertical-align: middle;\n    }\n\n    .dataframe tbody tr th {\n        vertical-align: top;\n    }\n\n    .dataframe thead th {\n        text-align: right;\n    }\n</style>\n<table border=\"1\" class=\"dataframe\">\n  <thead>\n    <tr style=\"text-align: right;\">\n      <th></th>\n      <th>대출여부</th>\n      <th>연체여부</th>\n      <th>추정연소득</th>\n      <th>총대출약정금액</th>\n      <th>할부이용금액</th>\n    </tr>\n  </thead>\n  <tbody>\n    <tr>\n      <th>0</th>\n      <td>0</td>\n      <td>0</td>\n      <td>59000.0</td>\n      <td>0</td>\n      <td>595</td>\n    </tr>\n    <tr>\n      <th>1</th>\n      <td>0</td>\n      <td>0</td>\n      <td>26000.0</td>\n      <td>0</td>\n      <td>0</td>\n    </tr>\n    <tr>\n      <th>2</th>\n      <td>1</td>\n      <td>0</td>\n      <td>24000.0</td>\n      <td>27600</td>\n      <td>0</td>\n    </tr>\n    <tr>\n      <th>3</th>\n      <td>1</td>\n      <td>0</td>\n      <td>46000.0</td>\n      <td>12990</td>\n      <td>1628</td>\n    </tr>\n    <tr>\n      <th>4</th>\n      <td>0</td>\n      <td>0</td>\n      <td>30000.0</td>\n      <td>0</td>\n      <td>0</td>\n    </tr>\n    <tr>\n      <th>...</th>\n      <td>...</td>\n      <td>...</td>\n      <td>...</td>\n      <td>...</td>\n      <td>...</td>\n    </tr>\n    <tr>\n      <th>995</th>\n      <td>1</td>\n      <td>0</td>\n      <td>32000.0</td>\n      <td>40000</td>\n      <td>0</td>\n    </tr>\n    <tr>\n      <th>996</th>\n      <td>1</td>\n      <td>0</td>\n      <td>74000.0</td>\n      <td>41200</td>\n      <td>0</td>\n    </tr>\n    <tr>\n      <th>997</th>\n      <td>1</td>\n      <td>0</td>\n      <td>39000.0</td>\n      <td>309048</td>\n      <td>0</td>\n    </tr>\n    <tr>\n      <th>998</th>\n      <td>1</td>\n      <td>0</td>\n      <td>43000.0</td>\n      <td>237000</td>\n      <td>790</td>\n    </tr>\n    <tr>\n      <th>999</th>\n      <td>1</td>\n      <td>0</td>\n      <td>93000.0</td>\n      <td>136830</td>\n      <td>232</td>\n    </tr>\n  </tbody>\n</table>\n<p>1000 rows × 5 columns</p>\n</div>"
     },
     "execution_count": 10,
     "metadata": {},
     "output_type": "execute_result"
    }
   ],
   "source": [
    "df"
   ],
   "metadata": {
    "collapsed": false,
    "ExecuteTime": {
     "end_time": "2025-01-16T09:32:42.648922Z",
     "start_time": "2025-01-16T09:32:42.631864Z"
    }
   },
   "id": "2a1fb2982aa9145f",
   "execution_count": 10
  },
  {
   "cell_type": "code",
   "outputs": [
    {
     "name": "stdout",
     "output_type": "stream",
     "text": [
      "1.881068382906545\n"
     ]
    },
    {
     "data": {
      "text/plain": "<Figure size 640x480 with 1 Axes>",
      "image/png": "[encoded data removed]"
     },
     "metadata": {},
     "output_type": "display_data"
    }
   ],
   "source": [
    "df['debt_ratio'] =  df['총대출약정금액'] / df['추정연소득']\n",
    "print(df['debt_ratio'].mean())\n",
    "f_df = df[df['debt_ratio'] <= 40]\n",
    "f_df['debt_ratio'].hist(bins = 50)\n",
    "\n",
    "percentiles = df['debt_ratio'].quantile([0.25, 0.5, 0.75])\n",
    "installment_percentiles = df['할부이용금액'].quantile([0.25, 0.5, 0.75])"
   ],
   "metadata": {
    "collapsed": false,
    "ExecuteTime": {
     "end_time": "2025-01-16T09:32:43.001968Z",
     "start_time": "2025-01-16T09:32:42.652396Z"
    }
   },
   "id": "3686dac10deae8c",
   "execution_count": 11
  },
  {
   "cell_type": "code",
   "outputs": [
    {
     "data": {
      "text/plain": "<Axes: >"
     },
     "execution_count": 13,
     "metadata": {},
     "output_type": "execute_result"
    },
    {
     "data": {
      "text/plain": "<Figure size 640x480 with 1 Axes>",
      "image/png": "[encoded data removed]"
     },
     "metadata": {},
     "output_type": "display_data"
    }
   ],
   "source": [
    "def calculate_credit_score(row):\n",
    "    # 상환 이력 (30%)\n",
    "    repayment_score = 100 if row['연체여부'] == 0 else 0\n",
    "    \n",
    "    # 부채 수준 (25%)\n",
    "    debt_ratio = row['총대출약정금액'] / row['추정연소득']\n",
    "\n",
    "    if debt_ratio <= percentiles[0.25]:\n",
    "        debt_score = 100  # 최상위 점수\n",
    "    elif debt_ratio <= percentiles[0.5]:\n",
    "        debt_score = 80   # 상위 점수\n",
    "    elif debt_ratio <= percentiles[0.75]:\n",
    "        debt_score = 60   # 중간 점수\n",
    "    else:\n",
    "        debt_score = 20   # 하위 점수\n",
    "    \n",
    "    # 신용거래기간 (15%) - 기본값 사용\n",
    "    transaction_duration_score = 70  # 고정 점수 예시\n",
    "    \n",
    "    # 신용거래형태 (30%)\n",
    "    # 대출 여부와 할부 이용 금액에 따른 점수\n",
    "    if row['대출여부'] == 1:\n",
    "        if row['할부이용금액'] > installment_percentiles[0.75]:\n",
    "            transaction_type_score = 30  # 대출 있음 & 할부 금액 매우 높음\n",
    "        elif row['할부이용금액'] > installment_percentiles[0.5]:\n",
    "            transaction_type_score = 50  # 대출 있음 & 할부 금액 높음\n",
    "        elif row['할부이용금액'] > installment_percentiles[0.25]:\n",
    "            transaction_type_score = 60  # 대출 있음 & 할부 금액 중간\n",
    "        else:\n",
    "            transaction_type_score = 70  # 대출 있음 & 할부 금액 낮음\n",
    "    else:\n",
    "        if row['할부이용금액'] > installment_percentiles[0.75]:\n",
    "            transaction_type_score = 70  # 대출 없음 & 할부 금액 매우 높음\n",
    "        elif row['할부이용금액'] > installment_percentiles[0.5]:\n",
    "            transaction_type_score = 85  # 대출 없음 & 할부 금액 높음\n",
    "        elif row['할부이용금액'] > installment_percentiles[0.25]:\n",
    "            transaction_type_score = 90  # 대출 없음 & 할부 금액 중간\n",
    "        else:\n",
    "            transaction_type_score = 100  # 대출 없음 & 할부 금액 낮음\n",
    "    \n",
    "    # 최종 점수 계산\n",
    "    total_score = (\n",
    "        0.3 * repayment_score +\n",
    "        0.25 * debt_score +\n",
    "        0.15 * transaction_duration_score +\n",
    "        0.3 * transaction_type_score\n",
    "    )\n",
    "    return total_score\n",
    "\n",
    "df['신용등급'] = df.apply(calculate_credit_score, axis=1)\n",
    "df['신용등급'].hist(bins=10)"
   ],
   "metadata": {
    "collapsed": false,
    "ExecuteTime": {
     "end_time": "2025-01-16T09:33:12.354118Z",
     "start_time": "2025-01-16T09:33:12.032247Z"
    }
   },
   "id": "3c3b761041a4f4e4",
   "execution_count": 13
  },
  {
   "cell_type": "code",
   "outputs": [],
   "source": [],
   "metadata": {
    "collapsed": false
   },
   "id": "8ddeb6e8aca52fee"
  }
 ],
 "metadata": {
  "kernelspec": {
   "display_name": "Python 3",
   "language": "python",
   "name": "python3"
  },
  "language_info": {
   "codemirror_mode": {
    "name": "ipython",
    "version": 2
   },
   "file_extension": ".py",
   "mimetype": "text/x-python",
   "name": "python",
   "nbconvert_exporter": "python",
   "pygments_lexer": "ipython2",
   "version": "2.7.6"
  }
 },
 "nbformat": 4,
 "nbformat_minor": 5
}
