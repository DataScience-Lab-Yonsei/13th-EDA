{
  "nbformat": 4,
  "nbformat_minor": 0,
  "metadata": {
    "colab": {
      "provenance": []
    },
    "kernelspec": {
      "name": "python3",
      "display_name": "Python 3"
    },
    "language_info": {
      "name": "python"
    }
  },
  "cells": [
    {
      "cell_type": "code",
      "source": [
        "import pandas as pd\n",
        "\n",
        "# 소트니코바 데이터\n",
        "sotnikova_data = {\n",
        "    \"Judge\": [\"J1\", \"J2\", \"J3\", \"J4\", \"J5\", \"J6\", \"J7\", \"J8\", \"J9\"],\n",
        "    \"TES_Sotnikova\": [74.33, 79.53, 70.33, 74.83, 77.63, 77.63, 80.73, 71.03, 73.33],\n",
        "    \"PCS_Sotnikova\": [76.80, 76.40, 72.80, 70.80, 76.40, 74.40, 77.20, 70.80, 72.00]\n",
        "}\n",
        "\n",
        "# 김연아 데이터\n",
        "kim_data = {\n",
        "    \"Judge\": [\"J1\", \"J2\", \"J3\", \"J4\", \"J5\", \"J6\", \"J7\", \"J8\", \"J9\"],\n",
        "    \"TES_Kim\": [70.89, 66.89, 73.79, 67.99, 69.49, 73.09, 69.99, 69.49, 68.99],\n",
        "    \"PCS_Kim\": [73.20, 67.20, 78.00, 72.40, 75.20, 76.40, 74.80, 73.60, 76.80]\n",
        "}\n",
        "\n",
        "# 아사다 마오 데이터 (예시)\n",
        "asada_data = {\n",
        "    \"Judge\": [\"J1\", \"J2\", \"J3\", \"J4\", \"J5\", \"J6\", \"J7\", \"J8\", \"J9\"],\n",
        "    \"TES_Asada\": [72.74, 71.64, 69.94, 73.54, 78.24, 73.54, 72.54, 74.94, 72.74],\n",
        "    \"PCS_Asada\": [68.40, 70.80, 68.80, 70.80, 75.20, 65.60, 66.00, 70.80, 71.60]\n",
        "}\n",
        "\n",
        "# 코스트너 데이터 (예시)\n",
        "kostner_data = {\n",
        "    \"Judge\": [\"J1\", \"J2\", \"J3\", \"J4\", \"J5\", \"J6\", \"J7\", \"J8\", \"J9\"],\n",
        "    \"TES_Kostner\": [66.35, 69.75, 68.15, 67.65, 70.25, 69.75, 73.85, 70.45, 65.15],\n",
        "    \"PCS_Kostner\": [70.40, 72.00, 73.20, 72.80, 76.40, 76.00, 75.20, 77.60, 68.40]\n",
        "}\n",
        "\n",
        "gold_data = {\n",
        "    \"Judge\": [\"J1\", \"J2\", \"J3\", \"J4\", \"J5\", \"J6\", \"J7\", \"J8\", \"J9\"],\n",
        "    \"TES_Gold\": [69.84, 72.44, 68.84, 69.14, 69.74, 67.74, 70.54, 68.44, 68.44],\n",
        "    \"PCS_Gold\": [70.00, 66.80, 70.40, 66.40, 69.60, 68.00, 68.40, 62.00, 70.00],\n",
        "}\n",
        "\n",
        "lipnitskaia_data = {\n",
        "    \"Judge\": [\"J1\", \"J2\", \"J3\", \"J4\", \"J5\", \"J6\", \"J7\", \"J8\", \"J9\"],\n",
        "    \"TES_Lipnitskaia\": [65.27, 68.37, 67.47, 65.07, 70.07, 61.47, 62.97, 65.27, 70.47],\n",
        "    \"PCS_Lipnitskaia\": [68.40, 74.40, 70.40, 66.00, 72.80, 67.60, 65.20, 73.20, 71.60],\n",
        "}\n",
        "\n",
        "# 데이터프레임 생성\n",
        "df_sotnikova = pd.DataFrame(sotnikova_data)\n",
        "df_kim = pd.DataFrame(kim_data)\n",
        "df_asada = pd.DataFrame(asada_data)\n",
        "df_kostner = pd.DataFrame(kostner_data)\n",
        "df_gold = pd.DataFrame(gold_data)\n",
        "df_lipnitskaia = pd.DataFrame(lipnitskaia_data)\n",
        "\n",
        "# 데이터 병합\n",
        "df_combined = df_sotnikova.merge(df_kim, on=\"Judge\").merge(df_asada, on=\"Judge\").merge(df_kostner, on=\"Judge\").merge(df_gold, on=\"Judge\").merge(df_lipnitskaia, on=\"Judge\")\n",
        "\n",
        "print(df_combined)"
      ],
      "metadata": {
        "colab": {
          "base_uri": "https://localhost:8080/"
        },
        "id": "Neskl_0Wtgqk",
        "outputId": "6587c36d-23fd-4ae7-f271-0f0a6e9bf472"
      },
      "execution_count": null,
      "outputs": [
        {
          "output_type": "stream",
          "name": "stdout",
          "text": [
            "  Judge  TES_Sotnikova  PCS_Sotnikova  TES_Kim  PCS_Kim  TES_Asada  PCS_Asada  \\\n",
            "0    J1          74.33           76.8    70.89     73.2      72.74       68.4   \n",
            "1    J2          79.53           76.4    66.89     67.2      71.64       70.8   \n",
            "2    J3          70.33           72.8    73.79     78.0      69.94       68.8   \n",
            "3    J4          74.83           70.8    67.99     72.4      73.54       70.8   \n",
            "4    J5          77.63           76.4    69.49     75.2      78.24       75.2   \n",
            "5    J6          77.63           74.4    73.09     76.4      73.54       65.6   \n",
            "6    J7          80.73           77.2    69.99     74.8      72.54       66.0   \n",
            "7    J8          71.03           70.8    69.49     73.6      74.94       70.8   \n",
            "8    J9          73.33           72.0    68.99     76.8      72.74       71.6   \n",
            "\n",
            "   TES_Kostner  PCS_Kostner  TES_Gold  PCS_Gold  TES_Lipnitskaia  \\\n",
            "0        66.35         70.4     69.84      70.0            65.27   \n",
            "1        69.75         72.0     72.44      66.8            68.37   \n",
            "2        68.15         73.2     68.84      70.4            67.47   \n",
            "3        67.65         72.8     69.14      66.4            65.07   \n",
            "4        70.25         76.4     69.74      69.6            70.07   \n",
            "5        69.75         76.0     67.74      68.0            61.47   \n",
            "6        73.85         75.2     70.54      68.4            62.97   \n",
            "7        70.45         77.6     68.44      62.0            65.27   \n",
            "8        65.15         68.4     68.44      70.0            70.47   \n",
            "\n",
            "   PCS_Lipnitskaia  \n",
            "0             68.4  \n",
            "1             74.4  \n",
            "2             70.4  \n",
            "3             66.0  \n",
            "4             72.8  \n",
            "5             67.6  \n",
            "6             65.2  \n",
            "7             73.2  \n",
            "8             71.6  \n"
          ]
        }
      ]
    },
    {
      "cell_type": "code",
      "source": [],
      "metadata": {
        "id": "6yoGhj3TuUgc"
      },
      "execution_count": null,
      "outputs": []
    },
    {
      "cell_type": "code",
      "source": [
        "import pandas as pd\n",
        "\n",
        "summary_data = {\n",
        "    \"Skater\": [\"Sotnikova\", \"Kim\", \"Asada\", \"Kostner\"],\n",
        "    \"TES Mean\": [\n",
        "        df_combined[\"TES_Sotnikova\"].mean(),\n",
        "        df_combined[\"TES_Kim\"].mean(),\n",
        "        df_combined[\"TES_Asada\"].mean(),\n",
        "        df_combined[\"TES_Kostner\"].mean()\n",
        "    ],\n",
        "    \"TES Std Dev\": [\n",
        "        df_combined[\"TES_Sotnikova\"].std(),\n",
        "        df_combined[\"TES_Kim\"].std(),\n",
        "        df_combined[\"TES_Asada\"].std(),\n",
        "        df_combined[\"TES_Kostner\"].std()\n",
        "    ],\n",
        "    \"PCS Mean\": [\n",
        "        df_combined[\"PCS_Sotnikova\"].mean(),\n",
        "        df_combined[\"PCS_Kim\"].mean(),\n",
        "        df_combined[\"PCS_Asada\"].mean(),\n",
        "        df_combined[\"PCS_Kostner\"].mean()\n",
        "    ],\n",
        "    \"PCS Std Dev\": [\n",
        "        df_combined[\"PCS_Sotnikova\"].std(),\n",
        "        df_combined[\"PCS_Kim\"].std(),\n",
        "        df_combined[\"PCS_Asada\"].std(),\n",
        "        df_combined[\"PCS_Kostner\"].std()\n",
        "    ]\n",
        "}\n",
        "\n",
        "df_summary = pd.DataFrame(summary_data)\n",
        "print(df_summary)"
      ],
      "metadata": {
        "id": "_hfW4VcLrBeK",
        "outputId": "a27e75a6-2203-4d89-8270-f7f46597058f",
        "colab": {
          "base_uri": "https://localhost:8080/"
        }
      },
      "execution_count": null,
      "outputs": [
        {
          "output_type": "stream",
          "name": "stdout",
          "text": [
            "      Skater   TES Mean  TES Std Dev   PCS Mean  PCS Std Dev\n",
            "0  Sotnikova  75.485556     3.638376  74.177778     2.631434\n",
            "1        Kim  70.067778     2.233706  74.177778     3.181893\n",
            "2      Asada  73.317778     2.303681  69.777778     2.967228\n",
            "3    Kostner  69.038889     2.566342  73.555556     3.016252\n"
          ]
        }
      ]
    },
    {
      "cell_type": "code",
      "source": [
        "summary_data = {\n",
        "    \"Skater\": [\"Sotnikova\", \"Kim\", \"Asada\", \"Kostner\", \"Gold\", \"Lipnitskaia\"],\n",
        "    \"TES Mean\": [\n",
        "        df_combined[\"TES_Sotnikova\"].mean(),\n",
        "        df_combined[\"TES_Kim\"].mean(),\n",
        "        df_combined[\"TES_Asada\"].mean(),\n",
        "        df_combined[\"TES_Kostner\"].mean(),\n",
        "        df_combined[\"TES_Gold\"].mean(),\n",
        "        df_combined[\"TES_Lipnitskaia\"].mean()\n",
        "    ],\n",
        "    \"TES Std Dev\": [\n",
        "        df_combined[\"TES_Sotnikova\"].std(),\n",
        "        df_combined[\"TES_Kim\"].std(),\n",
        "        df_combined[\"TES_Asada\"].std(),\n",
        "        df_combined[\"TES_Kostner\"].std(),\n",
        "        df_combined[\"TES_Gold\"].std(),\n",
        "        df_combined[\"TES_Lipnitskaia\"].std()\n",
        "    ],\n",
        "    \"PCS Mean\": [\n",
        "        df_combined[\"PCS_Sotnikova\"].mean(),\n",
        "        df_combined[\"PCS_Kim\"].mean(),\n",
        "        df_combined[\"PCS_Asada\"].mean(),\n",
        "        df_combined[\"PCS_Kostner\"].mean(),\n",
        "        df_combined[\"PCS_Gold\"].mean(),\n",
        "        df_combined[\"PCS_Lipnitskaia\"].mean()\n",
        "    ],\n",
        "    \"PCS Std Dev\": [\n",
        "        df_combined[\"PCS_Sotnikova\"].std(),\n",
        "        df_combined[\"PCS_Kim\"].std(),\n",
        "        df_combined[\"PCS_Asada\"].std(),\n",
        "        df_combined[\"PCS_Kostner\"].std(),\n",
        "        df_combined[\"PCS_Gold\"].std(),\n",
        "        df_combined[\"PCS_Lipnitskaia\"].std()\n",
        "    ]\n",
        "}\n",
        "\n",
        "# 요약 데이터프레임 생성\n",
        "df_summary = pd.DataFrame(summary_data)\n",
        "print(df_summary)"
      ],
      "metadata": {
        "colab": {
          "base_uri": "https://localhost:8080/"
        },
        "id": "sk9MgAewuVVb",
        "outputId": "026a0f74-ed95-4251-aaff-a82366be0a4d"
      },
      "execution_count": null,
      "outputs": [
        {
          "output_type": "stream",
          "name": "stdout",
          "text": [
            "        Skater   TES Mean  TES Std Dev   PCS Mean  PCS Std Dev\n",
            "0    Sotnikova  75.485556     3.638376  74.177778     2.631434\n",
            "1          Kim  70.067778     2.233706  74.177778     3.181893\n",
            "2        Asada  73.317778     2.303681  69.777778     2.967228\n",
            "3      Kostner  69.038889     2.566342  73.555556     3.016252\n",
            "4         Gold  69.462222     1.405149  67.955556     2.656648\n",
            "5  Lipnitskaia  66.270000     3.067980  69.955556     3.307231\n"
          ]
        }
      ]
    },
    {
      "cell_type": "code",
      "source": [
        "import pandas as pd\n",
        "import numpy as np\n",
        "\n",
        "# 데이터 준비\n",
        "sotnikova_short_data = {\n",
        "    \"Judge\": [\"J1\", \"J2\", \"J3\", \"J4\", \"J5\", \"J6\", \"J7\", \"J8\", \"J9\"],\n",
        "    \"TES_Sotnikova\": [37.93, 36.73, 41.03, 38.93, 39.13, 40.33, 38.63, 39.83, 39.33],\n",
        "    \"PCS_Sotnikova\": [38.20, 34.20, 36.00, 35.40, 35.20, 35.80, 37.40, 32.60, 34.80]\n",
        "}\n",
        "\n",
        "# DataFrame 생성\n",
        "df_short = pd.DataFrame(sotnikova_short_data)\n",
        "\n",
        "# TES와 PCS의 평균 및 표준편차 계산\n",
        "tes_mean, tes_std = df_short[\"TES_Sotnikova\"].mean(), df_short[\"TES_Sotnikova\"].std()\n",
        "pcs_mean, pcs_std = df_short[\"PCS_Sotnikova\"].mean(), df_short[\"PCS_Sotnikova\"].std()\n",
        "\n",
        "# 결과 출력\n",
        "print(f\"TES - 평균: {tes_mean:.2f}, 표준편차: {tes_std:.2f}\")\n",
        "print(f\"PCS - 평균: {pcs_mean:.2f}, 표준편차: {pcs_std:.2f}\")"
      ],
      "metadata": {
        "colab": {
          "base_uri": "https://localhost:8080/"
        },
        "id": "I83RTkJezFnX",
        "outputId": "a862efb8-13ee-4d3b-f241-6cda41301c47"
      },
      "execution_count": null,
      "outputs": [
        {
          "output_type": "stream",
          "name": "stdout",
          "text": [
            "TES - 평균: 39.10, 표준편차: 1.28\n",
            "PCS - 평균: 35.51, 표준편차: 1.66\n"
          ]
        }
      ]
    },
    {
      "cell_type": "code",
      "source": [
        "kim_short_data = {\n",
        "    \"Judge\": [\"J1\", \"J2\", \"J3\", \"J4\", \"J5\", \"J6\", \"J7\", \"J8\", \"J9\"],\n",
        "    \"TES_Kim\": [38.53, 39.73, 39.93, 37.03, 39.23, 37.83, 38.53, 38.73, 41.43],\n",
        "    \"PCS_Kim\": [32.40, 37.20, 38.40, 36.20, 36.40, 35.60, 32.80, 36.20, 36.40]\n",
        "}"
      ],
      "metadata": {
        "id": "CmtfWV6G0ZI5"
      },
      "execution_count": null,
      "outputs": []
    },
    {
      "cell_type": "code",
      "source": [
        "# Re-importing necessary libraries and recreating the data due to environment reset\n",
        "import pandas as pd\n",
        "import numpy as np\n",
        "\n",
        "# 소트니코바 데이터 준비\n",
        "sotnikova_short_data = {\n",
        "    \"Judge\": [\"J1\", \"J2\", \"J3\", \"J4\", \"J5\", \"J6\", \"J7\", \"J8\", \"J9\"],\n",
        "    \"TES_Sotnikova\": [37.93, 36.73, 41.03, 38.93, 39.13, 40.33, 38.63, 39.83, 39.33],\n",
        "    \"PCS_Sotnikova\": [38.20, 34.20, 36.00, 35.40, 35.20, 35.80, 37.40, 32.60, 34.80]\n",
        "}\n",
        "\n",
        "# 김연아 데이터 준비\n",
        "kim_short_data = {\n",
        "    \"Judge\": [\"J1\", \"J2\", \"J3\", \"J4\", \"J5\", \"J6\", \"J7\", \"J8\", \"J9\"],\n",
        "    \"TES_Kim\": [38.53, 39.73, 39.93, 37.03, 39.23, 37.83, 38.53, 38.73, 41.43],\n",
        "    \"PCS_Kim\": [32.40, 37.20, 38.40, 36.20, 36.40, 35.60, 32.80, 36.20, 36.40]\n",
        "}\n",
        "\n",
        "# DataFrames 생성\n",
        "df_short = pd.DataFrame(sotnikova_short_data)\n",
        "df_kim = pd.DataFrame(kim_short_data)\n",
        "\n",
        "# TES와 PCS의 평균 및 표준편차 계산 (소트니코바)\n",
        "tes_mean, tes_std = df_short[\"TES_Sotnikova\"].mean(), df_short[\"TES_Sotnikova\"].std()\n",
        "pcs_mean, pcs_std = df_short[\"PCS_Sotnikova\"].mean(), df_short[\"PCS_Sotnikova\"].std()\n",
        "\n",
        "# TES와 PCS의 평균 및 표준편차 계산 (김연아)\n",
        "tes_kim_mean, tes_kim_std = df_kim[\"TES_Kim\"].mean(), df_kim[\"TES_Kim\"].std()\n",
        "pcs_kim_mean, pcs_kim_std = df_kim[\"PCS_Kim\"].mean(), df_kim[\"PCS_Kim\"].std()\n",
        "\n",
        "# 결과 출력\n",
        "print(f\"Sotnikova TES - 평균: {tes_mean:.2f}, 표준편차: {tes_std:.2f}\")\n",
        "print(f\"Sotnikova PCS - 평균: {pcs_mean:.2f}, 표준편차: {pcs_std:.2f}\")\n",
        "print(f\"Kim TES - 평균: {tes_kim_mean:.2f}, 표준편차: {tes_kim_std:.2f}\")\n",
        "print(f\"Kim PCS - 평균: {pcs_kim_mean:.2f}, 표준편차: {pcs_kim_std:.2f}\")"
      ],
      "metadata": {
        "colab": {
          "base_uri": "https://localhost:8080/"
        },
        "id": "bpAWSt1PL2Cl",
        "outputId": "efd061ab-9502-4db6-8bb8-46cc33d9b824"
      },
      "execution_count": null,
      "outputs": [
        {
          "output_type": "stream",
          "name": "stdout",
          "text": [
            "Sotnikova TES - 평균: 39.10, 표준편차: 1.28\n",
            "Sotnikova PCS - 평균: 35.51, 표준편차: 1.66\n",
            "Kim TES - 평균: 39.00, 표준편차: 1.28\n",
            "Kim PCS - 평균: 35.73, 표준편차: 1.95\n"
          ]
        }
      ]
    }
  ]
}