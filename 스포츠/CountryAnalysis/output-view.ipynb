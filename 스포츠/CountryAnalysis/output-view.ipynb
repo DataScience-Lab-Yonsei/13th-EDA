{
 "cells": [
  {
   "cell_type": "code",
   "execution_count": 2,
   "metadata": {},
   "outputs": [],
   "source": [
    "import io\n",
    "import os\n",
    "import typing\n",
    "import time\n",
    "import random\n",
    "from typing import Union, Tuple, List, Literal\n",
    "import pickle\n",
    "from pathlib import Path\n",
    "from pprint import pprint\n",
    "import gc\n",
    "\n",
    "from tqdm.auto import tqdm\n",
    "import requests\n",
    "from bs4 import BeautifulSoup\n",
    "\n",
    "import numpy as np\n",
    "import pandas as pd\n",
    "\n",
    "from crawler import wait_random_time, parse_detailed_result"
   ]
  },
  {
   "cell_type": "code",
   "execution_count": 3,
   "metadata": {},
   "outputs": [],
   "source": [
    "main_path = Path('../score_analysis')\n",
    "data_path = main_path / 'data'"
   ]
  },
  {
   "cell_type": "code",
   "execution_count": 4,
   "metadata": {},
   "outputs": [
    {
     "data": {
      "text/plain": [
       "[PosixPath('../score_analysis/data/ger-nathalie_weinzierl'),\n",
       " PosixPath('../score_analysis/data/jpn-mao_asada'),\n",
       " PosixPath('../score_analysis/data/jpn-kanako_murakami'),\n",
       " PosixPath('../score_analysis/data/jpn-akiko_suzuki'),\n",
       " PosixPath('../score_analysis/data/usa-gracie_gold')]"
      ]
     },
     "execution_count": 4,
     "metadata": {},
     "output_type": "execute_result"
    }
   ],
   "source": [
    "data_paths = list(data_path.glob('*'))\n",
    "data_paths[:5]"
   ]
  },
  {
   "cell_type": "code",
   "execution_count": 5,
   "metadata": {},
   "outputs": [
    {
     "data": {
      "text/plain": [
       "PosixPath('../score_analysis/data/jpn-mao_asada')"
      ]
     },
     "execution_count": 5,
     "metadata": {},
     "output_type": "execute_result"
    }
   ],
   "source": [
    "sample_path = data_path / 'jpn-mao_asada'\n",
    "sample_path"
   ]
  },
  {
   "cell_type": "code",
   "execution_count": 10,
   "metadata": {},
   "outputs": [
    {
     "name": "stdout",
     "output_type": "stream",
     "text": [
      "((          J0     J1     J2     J3     J4     J5     J6\n",
      "grade   3.00   2.00   2.00   2.00   5.00   3.00   3.00\n",
      "score  64.21  66.21  65.31  68.61  55.91  64.81  62.91,\n",
      "    Element BaseValue GOETotal CAN  🇨🇦 SUI  🇨🇭 GBR  🇬🇧 ITA  🇮🇹 ISR  🇮🇱 AUS  🇦🇺  \\\n",
      "0      2A      3.30     0.67       1       2       2       1       1       1   \n",
      "1  3F+2Lo      7.10     0.70       2       1       1       1       1       0   \n",
      "2   FCSp4      3.20     0.33       1       0       1       1       2       0   \n",
      "3     3Lo      5.61    -0.70       0      -2       0      -2      -1      -2   \n",
      "4    LSp4      2.70     0.67       2       1       1       2       2       1   \n",
      "5  CCoSp4      3.50     1.00       2       2       2       2       3       1   \n",
      "6   StSq3      3.30     1.17       2       3       2       3       3       1   \n",
      "\n",
      "  JPN  🇯🇵 FIN  🇫🇮 Score  \n",
      "0       1       2  3.97  \n",
      "1       2       0  7.80  \n",
      "2       1       0  3.53  \n",
      "3       0      -1  4.91  \n",
      "4       1       1  3.37  \n",
      "5       2       2  4.50  \n",
      "6       2       2  4.47  ,\n",
      "            J0     J1     J2     J3     J4     J5     J6     J7\n",
      "grade   3.00   3.00   3.00   4.00   3.00   5.00   4.00   4.00\n",
      "score  34.11  32.01  33.41  32.51  34.21  29.31  33.61  31.51,\n",
      "    Component Factor CAN  🇨🇦 SUI  🇨🇭 GBR  🇬🇧 ITA  🇮🇹 ISR  🇮🇱 AUS  🇦🇺 JPN  🇯🇵  \\\n",
      "0      None   None       2       2       1       1       1       2       1   \n",
      "1      None   None       1       1       1       2       1       1       1   \n",
      "2      None   None       1       1       1       3       1       1       1   \n",
      "3      None   None       1       1       1       1       1       2       3   \n",
      "4      None   None       1       1       1       1       1       2       2   \n",
      "\n",
      "  FIN  🇫🇮 Score  \n",
      "0       2     1  \n",
      "1       1     1  \n",
      "2       3     2  \n",
      "3       1     1  \n",
      "4       2     1  ,\n",
      "          Component Factor CAN  🇨🇦 SUI  🇨🇭 GBR  🇬🇧 ITA  🇮🇹 ISR  🇮🇱 AUS  🇦🇺  \\\n",
      "0  Skating Skills   0.80    8.25    7.75    8.25    8.50    8.75    6.75   \n",
      "1     Transitions   0.80    8.25    8.00    7.75    7.50    8.25    6.50   \n",
      "2     Performance   0.80    8.50    8.25    8.50    7.75    8.50    6.75   \n",
      "3     Composition   0.80    8.50    8.00    8.00    8.50    8.75    6.50   \n",
      "4  Interpretation   0.80    8.50    8.25    8.50    8.75    8.75    6.75   \n",
      "\n",
      "  JPN  🇯🇵 FIN  🇫🇮 Score  \n",
      "0    8.00    7.75  8.08  \n",
      "1    7.50    7.75  7.79  \n",
      "2    7.75    7.50  8.04  \n",
      "3    7.75    8.25  8.17  \n",
      "4    8.00    8.00  8.33  ,\n",
      "           J0    J1    J2    J3    J4    J5    J6    J7\n",
      "grade   1.0   2.0   1.0   1.0   1.0   2.0   2.0   2.0\n",
      "score  33.6  32.2  32.8  32.8  34.4  26.6  31.2  31.4,\n",
      "  {'PCS_grade': '1', 'PCS_score': '32.32'}),\n",
      " (          J0     J1     J2     J3    J4     J5     J6\n",
      "grade    1.0    2.0    2.0    1.0   3.0    1.0    2.0\n",
      "score  124.3  123.3  120.1  126.2  99.5  122.5  118.6,\n",
      "     Element BaseValue GOETotal CAN  🇨🇦 SUI  🇨🇭 GBR  🇬🇧 ITA  🇮🇹 ISR  🇮🇱 AUS  🇦🇺  \\\n",
      "0       2A      3.30     0.75       1       2       2       1       2       1   \n",
      "1   3F+2Lo      7.10     0.70       1       1       1       1       1       0   \n",
      "2     3Lz!      6.00    -0.23      -1       1       0      -1       0       0   \n",
      "3    FCSp3      2.80     0.50       1       1       1       1       2       0   \n",
      "4    ChSq1      2.00     1.75       2       3       3       3       3       0   \n",
      "5    2A+2T      5.06     0.50       1       1       1       1       1       1   \n",
      "6       3S      4.84     0.58       1       1       0       1       1       0   \n",
      "7       2F      2.09     0.00       0       0       0      -1       0       0   \n",
      "8      3Lo      5.61     0.70       1       1       1       1       1       1   \n",
      "9   CCoSp4      3.50     0.92       2       2       2       2       2       0   \n",
      "10    LSp3      2.40     0.58       1       1       1       1       2       1   \n",
      "11   StSq3      3.30     1.33       2       3       3       3       3       1   \n",
      "\n",
      "   JPN  🇯🇵 FIN  🇫🇮 Score  \n",
      "0        1       2  4.05  \n",
      "1        1       1  7.80  \n",
      "2        0      -1  5.77  \n",
      "3        1       1  3.30  \n",
      "4        2       2  3.75  \n",
      "5        0       1  5.56  \n",
      "6        2       1  5.42  \n",
      "7        0       0  2.09  \n",
      "8        1       1  6.31  \n",
      "9        2       1  4.42  \n",
      "10       1       2  2.98  \n",
      "11       2       3  4.63  ,\n",
      "           J0    J1    J2    J3    J4    J5    J6    J7\n",
      "grade   2.0   2.0   2.0   2.0   2.0   3.0   2.0   2.0\n",
      "score  54.8  57.9  56.5  55.7  58.2  50.7  55.7  55.8,\n",
      "    Component Factor CAN  🇨🇦 SUI  🇨🇭 GBR  🇬🇧 ITA  🇮🇹 ISR  🇮🇱 AUS  🇦🇺 JPN  🇯🇵  \\\n",
      "0      None   None       1       2       1       1       1       2       1   \n",
      "1      None   None       2       1       1       1       2       2       1   \n",
      "2      None   None       1       1       1       1       1       2       1   \n",
      "3      None   None       2       1       3       1       1       2       1   \n",
      "4      None   None       1       1       1       1       1       2       1   \n",
      "\n",
      "  FIN  🇫🇮 Score  \n",
      "0       2     1  \n",
      "1       2     1  \n",
      "2       1     1  \n",
      "3       2     1  \n",
      "4       2     1  ,\n",
      "          Component Factor CAN  🇨🇦 SUI  🇨🇭 GBR  🇬🇧 ITA  🇮🇹 ISR  🇮🇱 AUS  🇦🇺  \\\n",
      "0  Skating Skills   1.60    8.25    7.75    8.25    8.25    8.50    6.50   \n",
      "1     Transitions   1.60    7.25    8.00    8.00    7.25    8.00    5.75   \n",
      "2     Performance   1.60    8.50    8.75    8.75    7.75    8.50    6.00   \n",
      "3     Composition   1.60    8.00    8.50    8.00    8.25    8.75    6.25   \n",
      "4  Interpretation   1.60    8.25    8.50    8.75    8.75    8.75    6.00   \n",
      "\n",
      "  JPN  🇯🇵 FIN  🇫🇮 Score  \n",
      "0    8.25    7.75  8.08  \n",
      "1    7.75    7.50  7.63  \n",
      "2    8.50    8.00  8.33  \n",
      "3    8.50    8.00  8.21  \n",
      "4    8.75    8.00  8.50  ,\n",
      "           J0    J1    J2    J3    J4    J5    J6    J7\n",
      "grade   1.0   1.0   1.0   1.0   1.0   2.0   1.0   2.0\n",
      "score  64.4  66.4  66.8  64.4  68.0  48.8  66.8  62.8,\n",
      "  {'PCS_grade': '1', 'PCS_score': '65.21'}))\n"
     ]
    }
   ],
   "source": [
    "with open(list(sample_path.glob('*.pkl'))[1], 'rb') as f:\n",
    "    data = pickle.load(f)\n",
    "pprint(data)"
   ]
  }
 ],
 "metadata": {
  "kernelspec": {
   "display_name": "Python 3",
   "language": "python",
   "name": "python3"
  },
  "language_info": {
   "codemirror_mode": {
    "name": "ipython",
    "version": 3
   },
   "file_extension": ".py",
   "mimetype": "text/x-python",
   "name": "python",
   "nbconvert_exporter": "python",
   "pygments_lexer": "ipython3",
   "version": "3.11.11"
  }
 },
 "nbformat": 4,
 "nbformat_minor": 2
}
