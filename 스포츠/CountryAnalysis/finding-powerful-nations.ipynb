{
 "cells": [
  {
   "cell_type": "code",
   "execution_count": 1,
   "metadata": {},
   "outputs": [],
   "source": [
    "import os\n",
    "from pathlib import Path\n",
    "\n",
    "import numpy as np\n",
    "import pandas as pd\n",
    "import scipy\n",
    "from scipy import stats\n",
    "import sklearn\n",
    "from sklearn.neighbors import KernelDensity\n",
    "import matplotlib as mpl\n",
    "import matplotlib.pyplot as plt\n",
    "import seaborn as sns"
   ]
  },
  {
   "cell_type": "code",
   "execution_count": 2,
   "metadata": {},
   "outputs": [
    {
     "data": {
      "text/plain": [
       "[PosixPath('../olympic-historical-dataset/Olympic_Athlete_Event_Results.csv'),\n",
       " PosixPath('../olympic-historical-dataset/Olympics_Games.csv'),\n",
       " PosixPath('../olympic-historical-dataset/Olympics_Country.csv'),\n",
       " PosixPath('../olympic-historical-dataset/Olympic_Games_Medal_Tally.csv'),\n",
       " PosixPath('../olympic-historical-dataset/Olympic_Athlete_Bio.csv'),\n",
       " PosixPath('../olympic-historical-dataset/Olympic_Results.csv')]"
      ]
     },
     "execution_count": 2,
     "metadata": {},
     "output_type": "execute_result"
    }
   ],
   "source": [
    "main_path = Path('../olympic-historical-dataset')\n",
    "list(main_path.glob('*'))"
   ]
  },
  {
   "cell_type": "code",
   "execution_count": 3,
   "metadata": {},
   "outputs": [
    {
     "data": {
      "text/html": [
       "<div>\n",
       "<style scoped>\n",
       "    .dataframe tbody tr th:only-of-type {\n",
       "        vertical-align: middle;\n",
       "    }\n",
       "\n",
       "    .dataframe tbody tr th {\n",
       "        vertical-align: top;\n",
       "    }\n",
       "\n",
       "    .dataframe thead th {\n",
       "        text-align: right;\n",
       "    }\n",
       "</style>\n",
       "<table border=\"1\" class=\"dataframe\">\n",
       "  <thead>\n",
       "    <tr style=\"text-align: right;\">\n",
       "      <th></th>\n",
       "      <th>result_id</th>\n",
       "      <th>event_title</th>\n",
       "      <th>edition</th>\n",
       "      <th>edition_id</th>\n",
       "      <th>sport</th>\n",
       "      <th>sport_url</th>\n",
       "      <th>result_date</th>\n",
       "      <th>result_location</th>\n",
       "      <th>result_participants</th>\n",
       "      <th>result_format</th>\n",
       "      <th>result_detail</th>\n",
       "      <th>result_description</th>\n",
       "    </tr>\n",
       "  </thead>\n",
       "  <tbody>\n",
       "    <tr>\n",
       "      <th>0</th>\n",
       "      <td>30359</td>\n",
       "      <td>Super-Heavyweight (&gt;105 kilograms), Men</td>\n",
       "      <td>2004 Summer Olympics</td>\n",
       "      <td>26</td>\n",
       "      <td>Weightlifting</td>\n",
       "      <td>/editions/26/sports/WLF</td>\n",
       "      <td>25 August 2004 — 16:30 (B), 20:00 (A)</td>\n",
       "      <td>Olympiako Gymnastirio Arsis Varon Nikaias, Nikaia</td>\n",
       "      <td>17 from 15 countries</td>\n",
       "      <td>Total of best lifts in snatch and clean &amp; jerk...</td>\n",
       "      <td>na</td>\n",
       "      <td>Not so much a competition as a coronation, the...</td>\n",
       "    </tr>\n",
       "    <tr>\n",
       "      <th>1</th>\n",
       "      <td>1626</td>\n",
       "      <td>Giant Slalom, Women1</td>\n",
       "      <td>1998 Winter Olympics</td>\n",
       "      <td>46</td>\n",
       "      <td>Snowboarding</td>\n",
       "      <td>/editions/46/sports/SBD</td>\n",
       "      <td>9 February 1998</td>\n",
       "      <td>Mt. Yakebitai, Shiga Kogen, Yamanouchi</td>\n",
       "      <td>31 from 14 countries</td>\n",
       "      <td>Two runs, total time determined placement.</td>\n",
       "      <td>Gates: 38 / 36Length: 936 mStart Altitude: 196...</td>\n",
       "      <td>The women’s giant slalom was postponed one day...</td>\n",
       "    </tr>\n",
       "    <tr>\n",
       "      <th>2</th>\n",
       "      <td>76</td>\n",
       "      <td>Singles, Men</td>\n",
       "      <td>1976 Winter Olympics</td>\n",
       "      <td>40</td>\n",
       "      <td>Luge</td>\n",
       "      <td>/editions/40/sports/LUG</td>\n",
       "      <td>4 –  7 February 1976</td>\n",
       "      <td>Kunsteis-Bob- und Rodelbahn, Igls</td>\n",
       "      <td>43 from 15 countries</td>\n",
       "      <td>Four runs, total time determined placement.</td>\n",
       "      <td>Curves: 14Length: 1220 mStart Altitude: ?Verti...</td>\n",
       "      <td>Once more, the competitors from East and West ...</td>\n",
       "    </tr>\n",
       "    <tr>\n",
       "      <th>3</th>\n",
       "      <td>962</td>\n",
       "      <td>1,500 metres, Men</td>\n",
       "      <td>1928 Winter Olympics</td>\n",
       "      <td>30</td>\n",
       "      <td>Speed Skating</td>\n",
       "      <td>/editions/30/sports/SSK</td>\n",
       "      <td>14 February 1928 — 9:00</td>\n",
       "      <td>Olympia-Eisstadion Badrutts Park, St. Moritz</td>\n",
       "      <td>30 from 14 countries</td>\n",
       "      <td>na</td>\n",
       "      <td>na</td>\n",
       "      <td>There was little doubt that the Olympic 1500 m...</td>\n",
       "    </tr>\n",
       "    <tr>\n",
       "      <th>4</th>\n",
       "      <td>258824</td>\n",
       "      <td>Canadian Singles, Slalom, Men</td>\n",
       "      <td>2008 Summer Olympics</td>\n",
       "      <td>53</td>\n",
       "      <td>Canoe Slalom</td>\n",
       "      <td>/editions/53/sports/CSL</td>\n",
       "      <td>11 – 12 August 2008</td>\n",
       "      <td>Shunyi Aolinpike Shuishang Gongyuan, Mapo, Shunyi</td>\n",
       "      <td>16 from 16 countries</td>\n",
       "      <td>na</td>\n",
       "      <td>na</td>\n",
       "      <td>Two former Olympic champions in the C-1 slalom...</td>\n",
       "    </tr>\n",
       "  </tbody>\n",
       "</table>\n",
       "</div>"
      ],
      "text/plain": [
       "   result_id                              event_title               edition  \\\n",
       "0      30359  Super-Heavyweight (>105 kilograms), Men  2004 Summer Olympics   \n",
       "1       1626                     Giant Slalom, Women1  1998 Winter Olympics   \n",
       "2         76                             Singles, Men  1976 Winter Olympics   \n",
       "3        962                        1,500 metres, Men  1928 Winter Olympics   \n",
       "4     258824            Canadian Singles, Slalom, Men  2008 Summer Olympics   \n",
       "\n",
       "   edition_id          sport                sport_url  \\\n",
       "0          26  Weightlifting  /editions/26/sports/WLF   \n",
       "1          46   Snowboarding  /editions/46/sports/SBD   \n",
       "2          40           Luge  /editions/40/sports/LUG   \n",
       "3          30  Speed Skating  /editions/30/sports/SSK   \n",
       "4          53   Canoe Slalom  /editions/53/sports/CSL   \n",
       "\n",
       "                             result_date  \\\n",
       "0  25 August 2004 — 16:30 (B), 20:00 (A)   \n",
       "1                        9 February 1998   \n",
       "2                   4 –  7 February 1976   \n",
       "3                14 February 1928 — 9:00   \n",
       "4                    11 – 12 August 2008   \n",
       "\n",
       "                                     result_location   result_participants  \\\n",
       "0  Olympiako Gymnastirio Arsis Varon Nikaias, Nikaia  17 from 15 countries   \n",
       "1             Mt. Yakebitai, Shiga Kogen, Yamanouchi  31 from 14 countries   \n",
       "2                  Kunsteis-Bob- und Rodelbahn, Igls  43 from 15 countries   \n",
       "3       Olympia-Eisstadion Badrutts Park, St. Moritz  30 from 14 countries   \n",
       "4  Shunyi Aolinpike Shuishang Gongyuan, Mapo, Shunyi  16 from 16 countries   \n",
       "\n",
       "                                       result_format  \\\n",
       "0  Total of best lifts in snatch and clean & jerk...   \n",
       "1         Two runs, total time determined placement.   \n",
       "2        Four runs, total time determined placement.   \n",
       "3                                                 na   \n",
       "4                                                 na   \n",
       "\n",
       "                                       result_detail  \\\n",
       "0                                                 na   \n",
       "1  Gates: 38 / 36Length: 936 mStart Altitude: 196...   \n",
       "2  Curves: 14Length: 1220 mStart Altitude: ?Verti...   \n",
       "3                                                 na   \n",
       "4                                                 na   \n",
       "\n",
       "                                  result_description  \n",
       "0  Not so much a competition as a coronation, the...  \n",
       "1  The women’s giant slalom was postponed one day...  \n",
       "2  Once more, the competitors from East and West ...  \n",
       "3  There was little doubt that the Olympic 1500 m...  \n",
       "4  Two former Olympic champions in the C-1 slalom...  "
      ]
     },
     "execution_count": 3,
     "metadata": {},
     "output_type": "execute_result"
    }
   ],
   "source": [
    "result_df = pd.read_csv(main_path / 'Olympic_Results.csv')\n",
    "result_df.head()"
   ]
  },
  {
   "cell_type": "code",
   "execution_count": 4,
   "metadata": {},
   "outputs": [
    {
     "data": {
      "text/html": [
       "<div>\n",
       "<style scoped>\n",
       "    .dataframe tbody tr th:only-of-type {\n",
       "        vertical-align: middle;\n",
       "    }\n",
       "\n",
       "    .dataframe tbody tr th {\n",
       "        vertical-align: top;\n",
       "    }\n",
       "\n",
       "    .dataframe thead th {\n",
       "        text-align: right;\n",
       "    }\n",
       "</style>\n",
       "<table border=\"1\" class=\"dataframe\">\n",
       "  <thead>\n",
       "    <tr style=\"text-align: right;\">\n",
       "      <th></th>\n",
       "      <th>edition</th>\n",
       "      <th>edition_id</th>\n",
       "      <th>country_noc</th>\n",
       "      <th>sport</th>\n",
       "      <th>event</th>\n",
       "      <th>result_id</th>\n",
       "      <th>athlete</th>\n",
       "      <th>athlete_id</th>\n",
       "      <th>pos</th>\n",
       "      <th>medal</th>\n",
       "      <th>isTeamSport</th>\n",
       "    </tr>\n",
       "  </thead>\n",
       "  <tbody>\n",
       "    <tr>\n",
       "      <th>0</th>\n",
       "      <td>1908 Summer Olympics</td>\n",
       "      <td>5</td>\n",
       "      <td>ANZ</td>\n",
       "      <td>Athletics</td>\n",
       "      <td>100 metres, Men</td>\n",
       "      <td>56265</td>\n",
       "      <td>Ernest Hutcheon</td>\n",
       "      <td>64710</td>\n",
       "      <td>DNS</td>\n",
       "      <td>NaN</td>\n",
       "      <td>False</td>\n",
       "    </tr>\n",
       "    <tr>\n",
       "      <th>1</th>\n",
       "      <td>1908 Summer Olympics</td>\n",
       "      <td>5</td>\n",
       "      <td>ANZ</td>\n",
       "      <td>Athletics</td>\n",
       "      <td>400 metres, Men</td>\n",
       "      <td>56313</td>\n",
       "      <td>Henry Murray</td>\n",
       "      <td>64756</td>\n",
       "      <td>DNS</td>\n",
       "      <td>NaN</td>\n",
       "      <td>False</td>\n",
       "    </tr>\n",
       "    <tr>\n",
       "      <th>2</th>\n",
       "      <td>1908 Summer Olympics</td>\n",
       "      <td>5</td>\n",
       "      <td>ANZ</td>\n",
       "      <td>Athletics</td>\n",
       "      <td>800 metres, Men</td>\n",
       "      <td>56338</td>\n",
       "      <td>Harvey Sutton</td>\n",
       "      <td>64808</td>\n",
       "      <td>3 h8 r1/2</td>\n",
       "      <td>NaN</td>\n",
       "      <td>False</td>\n",
       "    </tr>\n",
       "    <tr>\n",
       "      <th>3</th>\n",
       "      <td>1908 Summer Olympics</td>\n",
       "      <td>5</td>\n",
       "      <td>ANZ</td>\n",
       "      <td>Athletics</td>\n",
       "      <td>800 metres, Men</td>\n",
       "      <td>56338</td>\n",
       "      <td>Guy Haskins</td>\n",
       "      <td>922519</td>\n",
       "      <td>DNS</td>\n",
       "      <td>NaN</td>\n",
       "      <td>False</td>\n",
       "    </tr>\n",
       "    <tr>\n",
       "      <th>4</th>\n",
       "      <td>1908 Summer Olympics</td>\n",
       "      <td>5</td>\n",
       "      <td>ANZ</td>\n",
       "      <td>Athletics</td>\n",
       "      <td>800 metres, Men</td>\n",
       "      <td>56338</td>\n",
       "      <td>Joseph Lynch</td>\n",
       "      <td>64735</td>\n",
       "      <td>DNS</td>\n",
       "      <td>NaN</td>\n",
       "      <td>False</td>\n",
       "    </tr>\n",
       "  </tbody>\n",
       "</table>\n",
       "</div>"
      ],
      "text/plain": [
       "                edition  edition_id country_noc      sport            event  \\\n",
       "0  1908 Summer Olympics           5         ANZ  Athletics  100 metres, Men   \n",
       "1  1908 Summer Olympics           5         ANZ  Athletics  400 metres, Men   \n",
       "2  1908 Summer Olympics           5         ANZ  Athletics  800 metres, Men   \n",
       "3  1908 Summer Olympics           5         ANZ  Athletics  800 metres, Men   \n",
       "4  1908 Summer Olympics           5         ANZ  Athletics  800 metres, Men   \n",
       "\n",
       "   result_id          athlete  athlete_id        pos medal  isTeamSport  \n",
       "0      56265  Ernest Hutcheon       64710        DNS   NaN        False  \n",
       "1      56313     Henry Murray       64756        DNS   NaN        False  \n",
       "2      56338    Harvey Sutton       64808  3 h8 r1/2   NaN        False  \n",
       "3      56338      Guy Haskins      922519        DNS   NaN        False  \n",
       "4      56338     Joseph Lynch       64735        DNS   NaN        False  "
      ]
     },
     "execution_count": 4,
     "metadata": {},
     "output_type": "execute_result"
    }
   ],
   "source": [
    "event_df = pd.read_csv(main_path / 'Olympic_Athlete_Event_Results.csv')\n",
    "event_df.head()"
   ]
  },
  {
   "cell_type": "code",
   "execution_count": 5,
   "metadata": {},
   "outputs": [
    {
     "data": {
      "text/plain": [
       "316834"
      ]
     },
     "execution_count": 5,
     "metadata": {},
     "output_type": "execute_result"
    }
   ],
   "source": [
    "len(event_df)"
   ]
  },
  {
   "cell_type": "code",
   "execution_count": 10,
   "metadata": {},
   "outputs": [
    {
     "data": {
      "text/plain": [
       "array(['Athletics', 'Boxing', 'Diving', 'Rugby', 'Shooting', 'Swimming',\n",
       "       'Rowing', 'Tennis', 'Artistic Gymnastics', 'Cycling Track',\n",
       "       'Fencing', 'Wrestling', 'Art Competitions', 'Cycling Road',\n",
       "       'Artistic Swimming', 'Judo', 'Sailing', 'Weightlifting',\n",
       "       'Taekwondo', 'Archery', 'Golf', 'Bobsleigh', 'Skeleton',\n",
       "       'Canoe Sprint', 'Cycling Mountain Bike', 'Modern Pentathlon',\n",
       "       'Handball', 'Triathlon', 'Alpine Skiing', 'Basketball',\n",
       "       'Roller Hockey', 'Beach Volleyball', 'Hockey', 'Football',\n",
       "       'Badminton', 'Figure Skating', 'Rhythmic Gymnastics',\n",
       "       'Equestrian Jumping', 'Wushu', 'Canoe Slalom', 'Karate',\n",
       "       'Cross Country Skiing', 'Freestyle Skiing', 'Speed Skating',\n",
       "       'Luge', 'Table Tennis', 'Biathlon', 'Snowboarding',\n",
       "       'Equestrian Eventing', 'Equestrian Dressage', 'Volleyball',\n",
       "       'Trampolining', 'Marathon Swimming', 'Nordic Combined',\n",
       "       'Ski Jumping', 'Ice Hockey', 'Short Track Speed Skating',\n",
       "       'Cycling BMX Freestyle', 'Surfing', 'Baseball', 'Waterskiing',\n",
       "       'Cycling BMX Racing', 'Rugby Sevens', 'Skateboarding',\n",
       "       'Water Polo', 'Bowling', 'Softball', 'Speed Skiing',\n",
       "       'Sport Climbing', 'Curling', 'Basque pelota', 'Gliding', 'Polo',\n",
       "       'Automobile Racing', 'Equestrian Driving', 'Equestrian Vaulting',\n",
       "       'Tug-Of-War', 'Savate', 'Canoe Marathon', '3x3 Basketball',\n",
       "       'Military Ski Patrol', 'Ice Stock Sport', 'Glíma',\n",
       "       'Winter Pentathlon', 'Alpinism', 'Australian Rules Football',\n",
       "       'Pesäpallo', 'Bandy', 'Lacrosse', 'Dogsled Racing', 'Firefighting',\n",
       "       'Bicycle Polo', 'Kendo', 'Korfball', 'Kaatsen', 'Cricket',\n",
       "       'Jeu De Paume', 'Motorboating', 'Racquets', 'Lifesaving',\n",
       "       'Ballooning', 'Boules', 'Croquet', 'Fishing', 'Longue Paume',\n",
       "       'Military Exercise', 'Motorcycle Sports', 'Canne De Combat',\n",
       "       'Skijoring', 'Aeronautics', 'American Football', 'Roque'],\n",
       "      dtype=object)"
      ]
     },
     "execution_count": 10,
     "metadata": {},
     "output_type": "execute_result"
    }
   ],
   "source": [
    "event_df['sport'].unique()"
   ]
  },
  {
   "cell_type": "code",
   "execution_count": 11,
   "metadata": {},
   "outputs": [
    {
     "data": {
      "text/plain": [
       "(np.int64(96), np.int64(2878))"
      ]
     },
     "execution_count": 11,
     "metadata": {},
     "output_type": "execute_result"
    }
   ],
   "source": [
    "(result_df['sport'] == 'Figure Skating').sum(), (event_df['sport'] == 'Figure Skating').sum()"
   ]
  },
  {
   "cell_type": "code",
   "execution_count": 12,
   "metadata": {},
   "outputs": [
    {
     "data": {
      "text/html": [
       "<div>\n",
       "<style scoped>\n",
       "    .dataframe tbody tr th:only-of-type {\n",
       "        vertical-align: middle;\n",
       "    }\n",
       "\n",
       "    .dataframe tbody tr th {\n",
       "        vertical-align: top;\n",
       "    }\n",
       "\n",
       "    .dataframe thead th {\n",
       "        text-align: right;\n",
       "    }\n",
       "</style>\n",
       "<table border=\"1\" class=\"dataframe\">\n",
       "  <thead>\n",
       "    <tr style=\"text-align: right;\">\n",
       "      <th></th>\n",
       "      <th>edition</th>\n",
       "      <th>edition_id</th>\n",
       "      <th>country_noc</th>\n",
       "      <th>sport</th>\n",
       "      <th>event</th>\n",
       "      <th>result_id</th>\n",
       "      <th>athlete</th>\n",
       "      <th>athlete_id</th>\n",
       "      <th>pos</th>\n",
       "      <th>medal</th>\n",
       "      <th>isTeamSport</th>\n",
       "      <th>event_title</th>\n",
       "      <th>sport_url</th>\n",
       "      <th>result_date</th>\n",
       "      <th>result_location</th>\n",
       "      <th>result_participants</th>\n",
       "      <th>result_format</th>\n",
       "      <th>result_detail</th>\n",
       "      <th>result_description</th>\n",
       "    </tr>\n",
       "  </thead>\n",
       "  <tbody>\n",
       "    <tr>\n",
       "      <th>1867</th>\n",
       "      <td>1998 Winter Olympics</td>\n",
       "      <td>46</td>\n",
       "      <td>AZE</td>\n",
       "      <td>Figure Skating</td>\n",
       "      <td>Singles, Men</td>\n",
       "      <td>14168</td>\n",
       "      <td>Igor Pashkevich</td>\n",
       "      <td>96229</td>\n",
       "      <td>16</td>\n",
       "      <td>NaN</td>\n",
       "      <td>False</td>\n",
       "      <td>Singles, Men</td>\n",
       "      <td>/editions/46/sports/FSK</td>\n",
       "      <td>12 – 14 February 1998</td>\n",
       "      <td>White Ring, Nagano</td>\n",
       "      <td>29 from 24 countries</td>\n",
       "      <td>In each section, skaters were ranked on Ordina...</td>\n",
       "      <td>na</td>\n",
       "      <td>Since Lillehammer, Elvis Stojko (CAN), silver ...</td>\n",
       "    </tr>\n",
       "    <tr>\n",
       "      <th>1868</th>\n",
       "      <td>1998 Winter Olympics</td>\n",
       "      <td>46</td>\n",
       "      <td>AZE</td>\n",
       "      <td>Figure Skating</td>\n",
       "      <td>Singles, Women</td>\n",
       "      <td>14189</td>\n",
       "      <td>Yuliya Vorobyova</td>\n",
       "      <td>82967</td>\n",
       "      <td>16</td>\n",
       "      <td>NaN</td>\n",
       "      <td>False</td>\n",
       "      <td>Singles, Women</td>\n",
       "      <td>/editions/46/sports/FSK</td>\n",
       "      <td>18 – 20 February 1998</td>\n",
       "      <td>White Ring, Nagano</td>\n",
       "      <td>28 from 21 countries</td>\n",
       "      <td>In each section, skaters were ranked on Ordina...</td>\n",
       "      <td>na</td>\n",
       "      <td>Michelle Kwan had a chance to be on the 1994 U...</td>\n",
       "    </tr>\n",
       "    <tr>\n",
       "      <th>1869</th>\n",
       "      <td>1998 Winter Olympics</td>\n",
       "      <td>46</td>\n",
       "      <td>AZE</td>\n",
       "      <td>Figure Skating</td>\n",
       "      <td>Pairs, Mixed</td>\n",
       "      <td>14210</td>\n",
       "      <td>Inga Rodionova</td>\n",
       "      <td>100207</td>\n",
       "      <td>18</td>\n",
       "      <td>NaN</td>\n",
       "      <td>True</td>\n",
       "      <td>Pairs, Mixed</td>\n",
       "      <td>/editions/46/sports/FSK</td>\n",
       "      <td>8 – 10 February 1998</td>\n",
       "      <td>White Ring, Nagano</td>\n",
       "      <td>40 from 14 countries</td>\n",
       "      <td>The pairs were ranked on Ordinal Placement for...</td>\n",
       "      <td>na</td>\n",
       "      <td>Artur Dmitriyev (RUS) had won the pairs gold m...</td>\n",
       "    </tr>\n",
       "    <tr>\n",
       "      <th>1870</th>\n",
       "      <td>1998 Winter Olympics</td>\n",
       "      <td>46</td>\n",
       "      <td>AZE</td>\n",
       "      <td>Figure Skating</td>\n",
       "      <td>Pairs, Mixed</td>\n",
       "      <td>14210</td>\n",
       "      <td>Aleksandr Anishchenko</td>\n",
       "      <td>100208</td>\n",
       "      <td>18</td>\n",
       "      <td>NaN</td>\n",
       "      <td>True</td>\n",
       "      <td>Pairs, Mixed</td>\n",
       "      <td>/editions/46/sports/FSK</td>\n",
       "      <td>8 – 10 February 1998</td>\n",
       "      <td>White Ring, Nagano</td>\n",
       "      <td>40 from 14 countries</td>\n",
       "      <td>The pairs were ranked on Ordinal Placement for...</td>\n",
       "      <td>na</td>\n",
       "      <td>Artur Dmitriyev (RUS) had won the pairs gold m...</td>\n",
       "    </tr>\n",
       "    <tr>\n",
       "      <th>1904</th>\n",
       "      <td>2002 Winter Olympics</td>\n",
       "      <td>47</td>\n",
       "      <td>AZE</td>\n",
       "      <td>Figure Skating</td>\n",
       "      <td>Singles, Men</td>\n",
       "      <td>14274</td>\n",
       "      <td>Sergey Rylov</td>\n",
       "      <td>101980</td>\n",
       "      <td>24</td>\n",
       "      <td>NaN</td>\n",
       "      <td>False</td>\n",
       "      <td>Singles, Men</td>\n",
       "      <td>/editions/47/sports/FSK</td>\n",
       "      <td>12 – 14 February 2002</td>\n",
       "      <td>Salt Lake Ice Center, Salt Lake City, Utah</td>\n",
       "      <td>28 from 20 countries</td>\n",
       "      <td>In each section, skaters were ranked on Ordina...</td>\n",
       "      <td>na</td>\n",
       "      <td>The co-favorites were the two Russians, Yevgen...</td>\n",
       "    </tr>\n",
       "  </tbody>\n",
       "</table>\n",
       "</div>"
      ],
      "text/plain": [
       "                   edition  edition_id country_noc           sport  \\\n",
       "1867  1998 Winter Olympics          46         AZE  Figure Skating   \n",
       "1868  1998 Winter Olympics          46         AZE  Figure Skating   \n",
       "1869  1998 Winter Olympics          46         AZE  Figure Skating   \n",
       "1870  1998 Winter Olympics          46         AZE  Figure Skating   \n",
       "1904  2002 Winter Olympics          47         AZE  Figure Skating   \n",
       "\n",
       "               event  result_id                athlete  athlete_id pos medal  \\\n",
       "1867    Singles, Men      14168        Igor Pashkevich       96229  16   NaN   \n",
       "1868  Singles, Women      14189       Yuliya Vorobyova       82967  16   NaN   \n",
       "1869    Pairs, Mixed      14210         Inga Rodionova      100207  18   NaN   \n",
       "1870    Pairs, Mixed      14210  Aleksandr Anishchenko      100208  18   NaN   \n",
       "1904    Singles, Men      14274           Sergey Rylov      101980  24   NaN   \n",
       "\n",
       "      isTeamSport     event_title                sport_url  \\\n",
       "1867        False    Singles, Men  /editions/46/sports/FSK   \n",
       "1868        False  Singles, Women  /editions/46/sports/FSK   \n",
       "1869         True    Pairs, Mixed  /editions/46/sports/FSK   \n",
       "1870         True    Pairs, Mixed  /editions/46/sports/FSK   \n",
       "1904        False    Singles, Men  /editions/47/sports/FSK   \n",
       "\n",
       "                result_date                             result_location  \\\n",
       "1867  12 – 14 February 1998                          White Ring, Nagano   \n",
       "1868  18 – 20 February 1998                          White Ring, Nagano   \n",
       "1869   8 – 10 February 1998                          White Ring, Nagano   \n",
       "1870   8 – 10 February 1998                          White Ring, Nagano   \n",
       "1904  12 – 14 February 2002  Salt Lake Ice Center, Salt Lake City, Utah   \n",
       "\n",
       "       result_participants                                      result_format  \\\n",
       "1867  29 from 24 countries  In each section, skaters were ranked on Ordina...   \n",
       "1868  28 from 21 countries  In each section, skaters were ranked on Ordina...   \n",
       "1869  40 from 14 countries  The pairs were ranked on Ordinal Placement for...   \n",
       "1870  40 from 14 countries  The pairs were ranked on Ordinal Placement for...   \n",
       "1904  28 from 20 countries  In each section, skaters were ranked on Ordina...   \n",
       "\n",
       "     result_detail                                 result_description  \n",
       "1867            na  Since Lillehammer, Elvis Stojko (CAN), silver ...  \n",
       "1868            na  Michelle Kwan had a chance to be on the 1994 U...  \n",
       "1869            na  Artur Dmitriyev (RUS) had won the pairs gold m...  \n",
       "1870            na  Artur Dmitriyev (RUS) had won the pairs gold m...  \n",
       "1904            na  The co-favorites were the two Russians, Yevgen...  "
      ]
     },
     "execution_count": 12,
     "metadata": {},
     "output_type": "execute_result"
    }
   ],
   "source": [
    "df = pd.merge(event_df, result_df, how='left', on='result_id', suffixes=('', '_duplicate'))\n",
    "df = df.drop(columns=[col for col in df.columns if col.endswith('_duplicate')])\n",
    "figure_skating_df = df[df['sport'] == 'Figure Skating']\n",
    "figure_skating_df.head()"
   ]
  },
  {
   "cell_type": "code",
   "execution_count": 13,
   "metadata": {},
   "outputs": [
    {
     "data": {
      "text/plain": [
       "array(['1908 Summer Olympics', '1920 Summer Olympics',\n",
       "       '1924 Winter Olympics', '1928 Winter Olympics',\n",
       "       '1932 Winter Olympics', '1936 Winter Olympics',\n",
       "       '1948 Winter Olympics', '1952 Winter Olympics',\n",
       "       '1956 Winter Olympics', '1960 Winter Olympics',\n",
       "       '1964 Winter Olympics', '1968 Winter Olympics',\n",
       "       '1972 Winter Olympics', '1976 Winter Olympics',\n",
       "       '1980 Winter Olympics', '1984 Winter Olympics',\n",
       "       '1988 Winter Olympics', '1992 Winter Olympics',\n",
       "       '1994 Winter Olympics', '1998 Winter Olympics',\n",
       "       '2002 Winter Olympics', '2006 Winter Olympics',\n",
       "       '2010 Winter Olympics', '2014 Winter Olympics',\n",
       "       '2018 Winter Olympics', '2022 Winter Olympics'], dtype=object)"
      ]
     },
     "execution_count": 13,
     "metadata": {},
     "output_type": "execute_result"
    }
   ],
   "source": [
    "pd.Series(figure_skating_df['edition'].unique()).sort_values().values"
   ]
  },
  {
   "cell_type": "code",
   "execution_count": 17,
   "metadata": {},
   "outputs": [
    {
     "name": "stderr",
     "output_type": "stream",
     "text": [
      "/var/folders/l4/xcb152_d5v51k4kx19t42f0w0000gn/T/ipykernel_41372/2954525174.py:1: SettingWithCopyWarning: \n",
      "A value is trying to be set on a copy of a slice from a DataFrame.\n",
      "Try using .loc[row_indexer,col_indexer] = value instead\n",
      "\n",
      "See the caveats in the documentation: https://pandas.pydata.org/pandas-docs/stable/user_guide/indexing.html#returning-a-view-versus-a-copy\n",
      "  figure_skating_df['got-medal'] = (~ figure_skating_df['medal'].isna())\n"
     ]
    },
    {
     "data": {
      "text/plain": [
       "country_noc\n",
       "USA    101\n",
       "CAN     65\n",
       "RUS     52\n",
       "URS     44\n",
       "ROC     43\n",
       "AUT     25\n",
       "FRA     22\n",
       "GER     21\n",
       "JPN     20\n",
       "GBR     20\n",
       "CHN     16\n",
       "GDR     14\n",
       "HUN     12\n",
       "SWE     10\n",
       "EUN      9\n",
       "NOR      7\n",
       "TCH      5\n",
       "FIN      4\n",
       "ITA      3\n",
       "NED      3\n",
       "FRG      3\n",
       "BEL      3\n",
       "SUI      3\n",
       "UKR      3\n",
       "KOR      2\n",
       "KAZ      1\n",
       "ESP      1\n",
       "SLO      0\n",
       "TUR      0\n",
       "SCG      0\n",
       "Name: got-medal, dtype: int64"
      ]
     },
     "execution_count": 17,
     "metadata": {},
     "output_type": "execute_result"
    }
   ],
   "source": [
    "figure_skating_df['got-medal'] = (~ figure_skating_df['medal'].isna())\n",
    "medal_count = figure_skating_df.groupby('country_noc')['got-medal'].sum().sort_values(ascending=False)\n",
    "medal_count.head(30)"
   ]
  },
  {
   "cell_type": "code",
   "execution_count": 24,
   "metadata": {},
   "outputs": [
    {
     "data": {
      "text/plain": [
       "<Axes: xlabel='country_noc'>"
      ]
     },
     "execution_count": 24,
     "metadata": {},
     "output_type": "execute_result"
    },
    {
     "data": {
      "image/png": "[encoded data removed]",
      "text/plain": [
       "<Figure size 640x480 with 1 Axes>"
      ]
     },
     "metadata": {},
     "output_type": "display_data"
    }
   ],
   "source": [
    "medal_count.head(30).plot.bar()"
   ]
  },
  {
   "cell_type": "code",
   "execution_count": 19,
   "metadata": {},
   "outputs": [
    {
     "data": {
      "text/plain": [
       "array(['AZE', 'CZE', 'GEO', 'EST', 'BEL', 'BRA', 'ISR', 'AUT', 'KAZ',\n",
       "       'LTU', 'AUS', 'PHI', 'CAN', 'GER', 'SVK', 'JPN', 'RUS', 'NOR',\n",
       "       'KOR', 'ROU', 'CHN', 'UZB', 'GBR', 'ITA', 'FRA', 'TUR', 'UKR',\n",
       "       'ESP', 'SWE', 'USA'], dtype=object)"
      ]
     },
     "execution_count": 19,
     "metadata": {},
     "output_type": "execute_result"
    }
   ],
   "source": [
    "participated_countries = figure_skating_df[figure_skating_df['edition'].str.fullmatch('2014 Winter Olympics')]['country_noc'].unique()\n",
    "participated_countries"
   ]
  },
  {
   "cell_type": "code",
   "execution_count": 25,
   "metadata": {},
   "outputs": [
    {
     "data": {
      "text/plain": [
       "country_noc\n",
       "USA    101\n",
       "CAN     65\n",
       "RUS     52\n",
       "AUT     25\n",
       "FRA     22\n",
       "GER     21\n",
       "GBR     20\n",
       "JPN     20\n",
       "CHN     16\n",
       "SWE     10\n",
       "NOR      7\n",
       "UKR      3\n",
       "ITA      3\n",
       "BEL      3\n",
       "KOR      2\n",
       "KAZ      1\n",
       "ESP      1\n",
       "UZB      0\n",
       "TUR      0\n",
       "GEO      0\n",
       "EST      0\n",
       "ROU      0\n",
       "LTU      0\n",
       "CZE      0\n",
       "SVK      0\n",
       "BRA      0\n",
       "ISR      0\n",
       "PHI      0\n",
       "AUS      0\n",
       "AZE      0\n",
       "Name: got-medal, dtype: int64"
      ]
     },
     "execution_count": 25,
     "metadata": {},
     "output_type": "execute_result"
    }
   ],
   "source": [
    "sochi_country_medal_count = medal_count[participated_countries].sort_values(ascending=False)\n",
    "sochi_country_medal_count"
   ]
  },
  {
   "cell_type": "code",
   "execution_count": 26,
   "metadata": {},
   "outputs": [
    {
     "data": {
      "text/plain": [
       "<Axes: xlabel='country_noc'>"
      ]
     },
     "execution_count": 26,
     "metadata": {},
     "output_type": "execute_result"
    },
    {
     "data": {
      "image/png": "[encoded data removed]",
      "text/plain": [
       "<Figure size 640x480 with 1 Axes>"
      ]
     },
     "metadata": {},
     "output_type": "display_data"
    }
   ],
   "source": [
    "sochi_country_medal_count.plot.bar()"
   ]
  },
  {
   "cell_type": "code",
   "execution_count": 30,
   "metadata": {},
   "outputs": [
    {
     "data": {
      "text/plain": [
       "Index(['USA', 'CAN', 'RUS', 'AUT', 'FRA', 'GER', 'GBR', 'JPN'], dtype='object', name='country_noc')"
      ]
     },
     "execution_count": 30,
     "metadata": {},
     "output_type": "execute_result"
    }
   ],
   "source": [
    "powerful_countries = sochi_country_medal_count[sochi_country_medal_count >= sochi_country_medal_count['JPN']].index\n",
    "powerful_countries"
   ]
  },
  {
   "cell_type": "code",
   "execution_count": 9,
   "metadata": {},
   "outputs": [
    {
     "data": {
      "text/plain": [
       "athlete_id\n",
       "1     150251\n",
       "2       2086\n",
       "3        285\n",
       "4         81\n",
       "5         30\n",
       "7          6\n",
       "8          3\n",
       "9          2\n",
       "6          2\n",
       "13         1\n",
       "Name: count, dtype: int64"
      ]
     },
     "execution_count": 9,
     "metadata": {},
     "output_type": "execute_result"
    }
   ],
   "source": [
    "athlete_bio_df = pd.read_csv(main_path / 'Olympic_Athlete_Bio.csv')\n",
    "athlete_bio_df.groupby('name')['athlete_id'].count().value_counts()"
   ]
  }
 ],
 "metadata": {
  "kernelspec": {
   "display_name": "Python 3",
   "language": "python",
   "name": "python3"
  },
  "language_info": {
   "codemirror_mode": {
    "name": "ipython",
    "version": 3
   },
   "file_extension": ".py",
   "mimetype": "text/x-python",
   "name": "python",
   "nbconvert_exporter": "python",
   "pygments_lexer": "ipython3",
   "version": "3.11.11"
  }
 },
 "nbformat": 4,
 "nbformat_minor": 2
}
