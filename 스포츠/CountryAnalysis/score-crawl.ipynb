{
 "cells": [
  {
   "cell_type": "code",
   "execution_count": 1,
   "metadata": {},
   "outputs": [],
   "source": [
    "import io\n",
    "import os\n",
    "import typing\n",
    "import time\n",
    "import random\n",
    "from typing import Union, Tuple, List, Literal\n",
    "import pickle\n",
    "from pathlib import Path\n",
    "from pprint import pprint\n",
    "import gc\n",
    "\n",
    "from tqdm.auto import tqdm\n",
    "import requests\n",
    "from bs4 import BeautifulSoup\n",
    "\n",
    "import numpy as np\n",
    "import pandas as pd\n",
    "\n",
    "from crawler import wait_random_time, parse_detailed_result"
   ]
  },
  {
   "cell_type": "code",
   "execution_count": 2,
   "metadata": {},
   "outputs": [],
   "source": [
    "main_path = Path('../score_analysis')\n",
    "data_path = main_path / 'data'"
   ]
  },
  {
   "cell_type": "code",
   "execution_count": 3,
   "metadata": {},
   "outputs": [
    {
     "data": {
      "text/plain": [
       "[PosixPath('../score_analysis/data/ger-nathalie_weinzierl'),\n",
       " PosixPath('../score_analysis/data/jpn-mao_asada'),\n",
       " PosixPath('../score_analysis/data/jpn-kanako_murakami'),\n",
       " PosixPath('../score_analysis/data/jpn-akiko_suzuki'),\n",
       " PosixPath('../score_analysis/data/usa-gracie_gold')]"
      ]
     },
     "execution_count": 3,
     "metadata": {},
     "output_type": "execute_result"
    }
   ],
   "source": [
    "data_paths = list(data_path.glob('*'))\n",
    "data_paths[:5]"
   ]
  },
  {
   "cell_type": "code",
   "execution_count": 4,
   "metadata": {},
   "outputs": [
    {
     "data": {
      "text/plain": [
       "40"
      ]
     },
     "execution_count": 4,
     "metadata": {},
     "output_type": "execute_result"
    }
   ],
   "source": [
    "len(data_paths)"
   ]
  },
  {
   "cell_type": "code",
   "execution_count": 5,
   "metadata": {},
   "outputs": [
    {
     "data": {
      "text/html": [
       "<div>\n",
       "<style scoped>\n",
       "    .dataframe tbody tr th:only-of-type {\n",
       "        vertical-align: middle;\n",
       "    }\n",
       "\n",
       "    .dataframe tbody tr th {\n",
       "        vertical-align: top;\n",
       "    }\n",
       "\n",
       "    .dataframe thead th {\n",
       "        text-align: right;\n",
       "    }\n",
       "</style>\n",
       "<table border=\"1\" class=\"dataframe\">\n",
       "  <thead>\n",
       "    <tr style=\"text-align: right;\">\n",
       "      <th></th>\n",
       "      <th>season</th>\n",
       "      <th>event-title</th>\n",
       "      <th>event-url</th>\n",
       "      <th>location</th>\n",
       "      <th>date</th>\n",
       "      <th>short-program-link</th>\n",
       "      <th>short-program-score</th>\n",
       "      <th>short-program-ranking</th>\n",
       "      <th>freeskating-link</th>\n",
       "      <th>freeskating-score</th>\n",
       "      <th>freeskating-ranking</th>\n",
       "      <th>final-link</th>\n",
       "      <th>final-score</th>\n",
       "      <th>final-ranking</th>\n",
       "    </tr>\n",
       "  </thead>\n",
       "  <tbody>\n",
       "    <tr>\n",
       "      <th>0</th>\n",
       "      <td>2007/08</td>\n",
       "      <td>Cup of Nice</td>\n",
       "      <td>https://skatingscores.com/0708/cupnic/</td>\n",
       "      <td>Nice</td>\n",
       "      <td>2007-10-18</td>\n",
       "      <td>https://skatingscores.com/0708/cupnic/jr/women...</td>\n",
       "      <td>42.74</td>\n",
       "      <td>2J</td>\n",
       "      <td>https://skatingscores.com/0708/cupnic/jr/women...</td>\n",
       "      <td>65.75</td>\n",
       "      <td>5J</td>\n",
       "      <td>https://skatingscores.com/0708/cupnic/jr/women...</td>\n",
       "      <td>108.49</td>\n",
       "      <td>4J</td>\n",
       "    </tr>\n",
       "    <tr>\n",
       "      <th>1</th>\n",
       "      <td>2007/08</td>\n",
       "      <td>GER Nationals</td>\n",
       "      <td>https://skatingscores.com/0708/natger/</td>\n",
       "      <td>Dresden</td>\n",
       "      <td>2008-01-03</td>\n",
       "      <td>https://skatingscores.com/0708/natger/jr/women...</td>\n",
       "      <td>45.46</td>\n",
       "      <td>1J</td>\n",
       "      <td>https://skatingscores.com/0708/natger/jr/women...</td>\n",
       "      <td>68.36</td>\n",
       "      <td>4J</td>\n",
       "      <td>https://skatingscores.com/0708/natger/jr/women...</td>\n",
       "      <td>113.82</td>\n",
       "      <td>2J</td>\n",
       "    </tr>\n",
       "    <tr>\n",
       "      <th>2</th>\n",
       "      <td>2008/09</td>\n",
       "      <td>GER Nationals</td>\n",
       "      <td>https://skatingscores.com/0809/natger/</td>\n",
       "      <td>Oberstdorf</td>\n",
       "      <td>2008-12-18</td>\n",
       "      <td>https://skatingscores.com/0809/natger/sr/women...</td>\n",
       "      <td>37.90</td>\n",
       "      <td>9</td>\n",
       "      <td>https://skatingscores.com/0809/natger/sr/women...</td>\n",
       "      <td>58.69</td>\n",
       "      <td>15</td>\n",
       "      <td>https://skatingscores.com/0809/natger/sr/women...</td>\n",
       "      <td>96.59</td>\n",
       "      <td>13</td>\n",
       "    </tr>\n",
       "    <tr>\n",
       "      <th>3</th>\n",
       "      <td>2009/10</td>\n",
       "      <td>JGP BLR</td>\n",
       "      <td>https://skatingscores.com/0910/jgpblr/</td>\n",
       "      <td>Minsk</td>\n",
       "      <td>2009-09-23</td>\n",
       "      <td>https://skatingscores.com/0910/jgpblr/jr/women...</td>\n",
       "      <td>29.84</td>\n",
       "      <td>22J</td>\n",
       "      <td>https://skatingscores.com/0910/jgpblr/jr/women...</td>\n",
       "      <td>38.60</td>\n",
       "      <td>25J</td>\n",
       "      <td>https://skatingscores.com/0910/jgpblr/jr/women...</td>\n",
       "      <td>68.44</td>\n",
       "      <td>24J</td>\n",
       "    </tr>\n",
       "    <tr>\n",
       "      <th>4</th>\n",
       "      <td>2009/10</td>\n",
       "      <td>JGP TUR</td>\n",
       "      <td>https://skatingscores.com/0910/jgptur/</td>\n",
       "      <td>Istanbul</td>\n",
       "      <td>2009-10-14</td>\n",
       "      <td>https://skatingscores.com/0910/jgptur/jr/women...</td>\n",
       "      <td>29.88</td>\n",
       "      <td>29J</td>\n",
       "      <td>https://skatingscores.com/0910/jgptur/jr/women...</td>\n",
       "      <td>47.45</td>\n",
       "      <td>30J</td>\n",
       "      <td>https://skatingscores.com/0910/jgptur/jr/women...</td>\n",
       "      <td>77.33</td>\n",
       "      <td>28J</td>\n",
       "    </tr>\n",
       "  </tbody>\n",
       "</table>\n",
       "</div>"
      ],
      "text/plain": [
       "    season    event-title                               event-url    location  \\\n",
       "0  2007/08    Cup of Nice  https://skatingscores.com/0708/cupnic/        Nice   \n",
       "1  2007/08  GER Nationals  https://skatingscores.com/0708/natger/     Dresden   \n",
       "2  2008/09  GER Nationals  https://skatingscores.com/0809/natger/  Oberstdorf   \n",
       "3  2009/10        JGP BLR  https://skatingscores.com/0910/jgpblr/       Minsk   \n",
       "4  2009/10        JGP TUR  https://skatingscores.com/0910/jgptur/    Istanbul   \n",
       "\n",
       "         date                                 short-program-link  \\\n",
       "0  2007-10-18  https://skatingscores.com/0708/cupnic/jr/women...   \n",
       "1  2008-01-03  https://skatingscores.com/0708/natger/jr/women...   \n",
       "2  2008-12-18  https://skatingscores.com/0809/natger/sr/women...   \n",
       "3  2009-09-23  https://skatingscores.com/0910/jgpblr/jr/women...   \n",
       "4  2009-10-14  https://skatingscores.com/0910/jgptur/jr/women...   \n",
       "\n",
       "   short-program-score short-program-ranking  \\\n",
       "0                42.74                    2J   \n",
       "1                45.46                    1J   \n",
       "2                37.90                     9   \n",
       "3                29.84                   22J   \n",
       "4                29.88                   29J   \n",
       "\n",
       "                                    freeskating-link  freeskating-score  \\\n",
       "0  https://skatingscores.com/0708/cupnic/jr/women...              65.75   \n",
       "1  https://skatingscores.com/0708/natger/jr/women...              68.36   \n",
       "2  https://skatingscores.com/0809/natger/sr/women...              58.69   \n",
       "3  https://skatingscores.com/0910/jgpblr/jr/women...              38.60   \n",
       "4  https://skatingscores.com/0910/jgptur/jr/women...              47.45   \n",
       "\n",
       "  freeskating-ranking                                         final-link  \\\n",
       "0                  5J  https://skatingscores.com/0708/cupnic/jr/women...   \n",
       "1                  4J  https://skatingscores.com/0708/natger/jr/women...   \n",
       "2                  15  https://skatingscores.com/0809/natger/sr/women...   \n",
       "3                 25J  https://skatingscores.com/0910/jgpblr/jr/women...   \n",
       "4                 30J  https://skatingscores.com/0910/jgptur/jr/women...   \n",
       "\n",
       "   final-score final-ranking  \n",
       "0       108.49            4J  \n",
       "1       113.82            2J  \n",
       "2        96.59            13  \n",
       "3        68.44           24J  \n",
       "4        77.33           28J  "
      ]
     },
     "execution_count": 5,
     "metadata": {},
     "output_type": "execute_result"
    }
   ],
   "source": [
    "df = pd.read_csv(list(data_paths[0].glob(\"*.csv\"))[0], index_col=0)\n",
    "df.head()"
   ]
  },
  {
   "cell_type": "code",
   "execution_count": 6,
   "metadata": {},
   "outputs": [],
   "source": [
    "def get_and_parse(link: str):\n",
    "    response = requests.get(link)\n",
    "    response.raise_for_status()\n",
    "    soup = BeautifulSoup(response.text, 'html.parser')\n",
    "    return parse_detailed_result(soup)\n",
    "\n",
    "def get_SP_FS_data(short_program_link: Union[str, float], freeskating_link: Union[str, float]):\n",
    "    if short_program_link == '' or type(short_program_link) != str:\n",
    "        short_program_data = None\n",
    "    else:\n",
    "        short_program_data = get_and_parse(short_program_link)\n",
    "    if freeskating_link == '' or type(freeskating_link) != str:\n",
    "        freeskating_data = None\n",
    "    else:\n",
    "        freeskating_data = get_and_parse(freeskating_link)\n",
    "    return short_program_data, freeskating_data"
   ]
  },
  {
   "cell_type": "code",
   "execution_count": 7,
   "metadata": {},
   "outputs": [],
   "source": [
    "def get_specific_score(player_name: str, df: pd.DataFrame, save: bool=True, target_path: Path=Path('.')) -> Tuple[pd.DataFrame]:\n",
    "    result_data = dict()\n",
    "    for i, row in tqdm(df.iterrows(), total=len(df), desc=player_name):\n",
    "        short_program_link = row['short-program-link']\n",
    "        freeskateing_link = row['freeskating-link']\n",
    "        season = row['season']\n",
    "        season = season[:season.find('/')]\n",
    "        event_title = row['event-title']\n",
    "        if (target_path / f'{player_name}-{season}-{event_title}.pkl').exists():\n",
    "            with open(target_path / f'{player_name}-{season}-{event_title}.pkl', 'rb') as f:\n",
    "                data = pickle.load(f)\n",
    "        else:\n",
    "            try:\n",
    "                data = get_SP_FS_data(short_program_link, freeskateing_link)\n",
    "            except Exception as e:\n",
    "                print(short_program_link)\n",
    "                print(freeskateing_link)\n",
    "                raise e\n",
    "        result_data['event_title'] = data\n",
    "        wait_random_time(mean=1, min=0.5, max=2)\n",
    "        if save:\n",
    "            with open(target_path / f'{player_name}-{season}-{event_title}.pkl', 'wb') as f:\n",
    "                pickle.dump(data, f)\n",
    "\n",
    "    return result_data"
   ]
  },
  {
   "cell_type": "code",
   "execution_count": 8,
   "metadata": {},
   "outputs": [
    {
     "data": {
      "application/vnd.jupyter.widget-view+json": {
       "model_id": "c2f9d310d9a5480d8e338b4fee7c15d5",
       "version_major": 2,
       "version_minor": 0
      },
      "text/plain": [
       "Players:   0%|          | 0/40 [00:00<?, ?it/s]"
      ]
     },
     "metadata": {},
     "output_type": "display_data"
    },
    {
     "data": {
      "application/vnd.jupyter.widget-view+json": {
       "model_id": "3b88a0fbd03948acbbeace7663c84f8b",
       "version_major": 2,
       "version_minor": 0
      },
      "text/plain": [
       "elene_gedevanishvili:   0%|          | 0/51 [00:00<?, ?it/s]"
      ]
     },
     "metadata": {},
     "output_type": "display_data"
    },
    {
     "data": {
      "application/vnd.jupyter.widget-view+json": {
       "model_id": "21e298f7b440480cb64c85d1b9b5d7f6",
       "version_major": 2,
       "version_minor": 0
      },
      "text/plain": [
       "liam_firus:   0%|          | 0/35 [00:00<?, ?it/s]"
      ]
     },
     "metadata": {},
     "output_type": "display_data"
    },
    {
     "data": {
      "application/vnd.jupyter.widget-view+json": {
       "model_id": "280cbe64695540b0820c7e6564976c0d",
       "version_major": 2,
       "version_minor": 0
      },
      "text/plain": [
       "daisuke_takahashi:   0%|          | 0/62 [00:00<?, ?it/s]"
      ]
     },
     "metadata": {},
     "output_type": "display_data"
    },
    {
     "data": {
      "application/vnd.jupyter.widget-view+json": {
       "model_id": "85bdd46910e64e0abf2fd9df798b28fa",
       "version_major": 2,
       "version_minor": 0
      },
      "text/plain": [
       "jorik_hendrickx:   0%|          | 0/55 [00:00<?, ?it/s]"
      ]
     },
     "metadata": {},
     "output_type": "display_data"
    },
    {
     "data": {
      "application/vnd.jupyter.widget-view+json": {
       "model_id": "a519937b3cca41d6bdda795f7efcadba",
       "version_major": 2,
       "version_minor": 0
      },
      "text/plain": [
       "anne_line_gjersem:   0%|          | 0/58 [00:00<?, ?it/s]"
      ]
     },
     "metadata": {},
     "output_type": "display_data"
    },
    {
     "data": {
      "application/vnd.jupyter.widget-view+json": {
       "model_id": "85c366979a954905a01fff8aeb048720",
       "version_major": 2,
       "version_minor": 0
      },
      "text/plain": [
       "adelina_sotnikova:   0%|          | 0/35 [00:00<?, ?it/s]"
      ]
     },
     "metadata": {},
     "output_type": "display_data"
    },
    {
     "data": {
      "application/vnd.jupyter.widget-view+json": {
       "model_id": "e3a838b454a34494bedc94aa45011d97",
       "version_major": 2,
       "version_minor": 0
      },
      "text/plain": [
       "denis_ten:   0%|          | 0/67 [00:00<?, ?it/s]"
      ]
     },
     "metadata": {},
     "output_type": "display_data"
    },
    {
     "data": {
      "application/vnd.jupyter.widget-view+json": {
       "model_id": "029f1997026a4830a2c3123f5906a487",
       "version_major": 2,
       "version_minor": 0
      },
      "text/plain": [
       "peter_liebers:   0%|          | 0/70 [00:00<?, ?it/s]"
      ]
     },
     "metadata": {},
     "output_type": "display_data"
    },
    {
     "data": {
      "application/vnd.jupyter.widget-view+json": {
       "model_id": "de6985bde9754806a69acdc0e3c284f8",
       "version_major": 2,
       "version_minor": 0
      },
      "text/plain": [
       "jenna_mccorkell:   0%|          | 0/57 [00:00<?, ?it/s]"
      ]
     },
     "metadata": {},
     "output_type": "display_data"
    },
    {
     "data": {
      "application/vnd.jupyter.widget-view+json": {
       "model_id": "51810bd4cd024c0492e069703e060990",
       "version_major": 2,
       "version_minor": 0
      },
      "text/plain": [
       "ashley_wagner:   0%|          | 0/66 [00:00<?, ?it/s]"
      ]
     },
     "metadata": {},
     "output_type": "display_data"
    },
    {
     "data": {
      "application/vnd.jupyter.widget-view+json": {
       "model_id": "5c871f354a3843ddb64eed34812133aa",
       "version_major": 2,
       "version_minor": 0
      },
      "text/plain": [
       "michael_christian_martinez:   0%|          | 0/44 [00:00<?, ?it/s]"
      ]
     },
     "metadata": {},
     "output_type": "display_data"
    },
    {
     "data": {
      "application/vnd.jupyter.widget-view+json": {
       "model_id": "940e2cf5a384482b89e1378b14545e25",
       "version_major": 2,
       "version_minor": 0
      },
      "text/plain": [
       "misha_ge:   0%|          | 0/41 [00:00<?, ?it/s]"
      ]
     },
     "metadata": {},
     "output_type": "display_data"
    },
    {
     "data": {
      "application/vnd.jupyter.widget-view+json": {
       "model_id": "2968c363b7b74a418accf759561ce7b1",
       "version_major": 2,
       "version_minor": 0
      },
      "text/plain": [
       "isadora_williams:   0%|          | 0/42 [00:00<?, ?it/s]"
      ]
     },
     "metadata": {},
     "output_type": "display_data"
    },
    {
     "data": {
      "application/vnd.jupyter.widget-view+json": {
       "model_id": "96939a4d1d1a42fcbe2b8e95c8bc5f76",
       "version_major": 2,
       "version_minor": 0
      },
      "text/plain": [
       "brooklee_han:   0%|          | 0/56 [00:00<?, ?it/s]"
      ]
     },
     "metadata": {},
     "output_type": "display_data"
    },
    {
     "data": {
      "application/vnd.jupyter.widget-view+json": {
       "model_id": "b8d16e926f38476fb78246fc1d5be363",
       "version_major": 2,
       "version_minor": 0
      },
      "text/plain": [
       "kaetlyn_osmond:   0%|          | 0/37 [00:00<?, ?it/s]"
      ]
     },
     "metadata": {},
     "output_type": "display_data"
    },
    {
     "data": {
      "application/vnd.jupyter.widget-view+json": {
       "model_id": "a8691e8acbeb4889bc0434fbb158cf37",
       "version_major": 2,
       "version_minor": 0
      },
      "text/plain": [
       "brian_joubert:   0%|          | 0/62 [00:00<?, ?it/s]"
      ]
     },
     "metadata": {},
     "output_type": "display_data"
    },
    {
     "data": {
      "application/vnd.jupyter.widget-view+json": {
       "model_id": "50d9ce585b1949f6a61361266b715ff5",
       "version_major": 2,
       "version_minor": 0
      },
      "text/plain": [
       "alexei_bychenko:   0%|          | 0/68 [00:00<?, ?it/s]"
      ]
     },
     "metadata": {},
     "output_type": "display_data"
    },
    {
     "data": {
      "application/vnd.jupyter.widget-view+json": {
       "model_id": "1fa243bae5424af78f11df2916e6d9c2",
       "version_major": 2,
       "version_minor": 0
      },
      "text/plain": [
       "tatsuki_machida:   0%|          | 0/49 [00:00<?, ?it/s]"
      ]
     },
     "metadata": {},
     "output_type": "display_data"
    }
   ],
   "source": [
    "for player_data_path in tqdm(data_paths, desc='Players'):\n",
    "    if (player_data_path / 'DONE').exists():\n",
    "        continue\n",
    "    top_data_path = list(player_data_path.glob('*.csv'))[0]\n",
    "    df = pd.read_csv(top_data_path, index_col=0)\n",
    "    path_name = player_data_path.name\n",
    "    player_name = player_data_path.name[path_name.find('-') + 1 : ]\n",
    "    try:\n",
    "        get_specific_score(player_name, df, save=True, target_path=player_data_path)\n",
    "    except Exception as e:\n",
    "        print(e)\n",
    "        print(top_data_path) \n",
    "        raise e\n",
    "    gc.collect()\n",
    "    with open(player_data_path / 'DONE', 'w') as f:\n",
    "        f.write(' ')"
   ]
  }
 ],
 "metadata": {
  "kernelspec": {
   "display_name": "Python 3",
   "language": "python",
   "name": "python3"
  },
  "language_info": {
   "codemirror_mode": {
    "name": "ipython",
    "version": 3
   },
   "file_extension": ".py",
   "mimetype": "text/x-python",
   "name": "python",
   "nbconvert_exporter": "python",
   "pygments_lexer": "ipython3",
   "version": "3.11.11"
  }
 },
 "nbformat": 4,
 "nbformat_minor": 2
}
