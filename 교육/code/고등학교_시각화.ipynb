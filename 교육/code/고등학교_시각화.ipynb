{
 "cells": [
  {
   "cell_type": "code",
   "execution_count": 1,
   "metadata": {},
   "outputs": [],
   "source": [
    "import pandas as pd\n",
    "import numpy as np\n",
    "import folium"
   ]
  },
  {
   "cell_type": "code",
   "execution_count": 4,
   "metadata": {},
   "outputs": [],
   "source": [
    "df = pd.read_csv('D:/DSL/EDA/Data/고등학교_학생수_예측.csv', encoding = 'utf-8-sig')"
   ]
  },
  {
   "cell_type": "code",
   "execution_count": 16,
   "metadata": {},
   "outputs": [],
   "source": [
    "mask = (df['2039년_예측_학생수'] <= 0)\n",
    "\n",
    "closing = df[mask][['위도', '경도']]\n",
    "remaining = df[~mask][['위도', '경도']]\n",
    "\n",
    "close_list = [(latitude, longtitude) for latitude, longtitude in zip(closing['위도'], closing['경도'])]\n",
    "remaining_list = [(latitude, longtitude) for latitude, longtitude in zip(remaining['위도'], remaining['경도'])]"
   ]
  },
  {
   "cell_type": "code",
   "execution_count": 22,
   "metadata": {},
   "outputs": [],
   "source": [
    "m = folium.Map(location=[36.5, 127.5], zoom_start=7)\n",
    "\n",
    "for point in close_list:\n",
    "    folium.CircleMarker(\n",
    "                location=point,\n",
    "                radius= 1,\n",
    "                color='red',\n",
    "                fill=True,\n",
    "                fill_color='red',\n",
    "                fill_opacity=0.6\n",
    "                ).add_to(m)\n",
    "\n",
    "\n",
    "for points in remaining_list:\n",
    "    folium.CircleMarker(\n",
    "                location=points,\n",
    "                radius= 1,\n",
    "                color='blue',\n",
    "                fill=True,\n",
    "                fill_color='blue',\n",
    "                fill_opacity=0.6\n",
    "                ).add_to(m)\n",
    "    \n",
    "m.save('toy.html')"
   ]
  },
  {
   "cell_type": "code",
   "execution_count": 34,
   "metadata": {},
   "outputs": [
    {
     "data": {
      "text/plain": [
       "2085"
      ]
     },
     "execution_count": 34,
     "metadata": {},
     "output_type": "execute_result"
    }
   ],
   "source": [
    "closing_schools = df[mask]['학교_식별자'].unique()\n",
    "\n",
    "old_df = pd.read_csv('D:/DSL/EDA/Data/고등학교_데이터셋.csv', encoding = 'cp949')\n",
    "\n",
    "def excluded(element):\n",
    "    if element in closing_schools:\n",
    "        return False\n",
    "    else: return True\n",
    "\n",
    "others = old_df[old_df['학교_식별자'].apply(excluded)]\n",
    "\n",
    "others_df = others[['위도','경도']]\n",
    "others_list = [(latitude, longtitude) for latitude, longtitude in zip(others['위도'], others['경도'])]"
   ]
  },
  {
   "cell_type": "code",
   "execution_count": 35,
   "metadata": {},
   "outputs": [],
   "source": [
    "m = folium.Map(location=[36.5, 127.5], zoom_start=7)\n",
    "\n",
    "for point in close_list:\n",
    "    folium.CircleMarker(\n",
    "                location=point,\n",
    "                radius= 1,\n",
    "                color='red',\n",
    "                fill=True,\n",
    "                fill_color='red',\n",
    "                fill_opacity=0.6\n",
    "                ).add_to(m)\n",
    "\n",
    "\n",
    "for points in others_list:\n",
    "    folium.CircleMarker(\n",
    "                location=points,\n",
    "                radius= 1,\n",
    "                color='blue',\n",
    "                fill=True,\n",
    "                fill_color='blue',\n",
    "                fill_opacity=0.6\n",
    "                ).add_to(m)\n",
    "    \n",
    "m.save('comparison.html')"
   ]
  },
  {
   "cell_type": "code",
   "execution_count": 42,
   "metadata": {},
   "outputs": [
    {
     "name": "stderr",
     "output_type": "stream",
     "text": [
      "C:\\Users\\Monet\\AppData\\Local\\Temp\\ipykernel_7336\\374485964.py:8: SettingWithCopyWarning: \n",
      "A value is trying to be set on a copy of a slice from a DataFrame.\n",
      "Try using .loc[row_indexer,col_indexer] = value instead\n",
      "\n",
      "See the caveats in the documentation: https://pandas.pydata.org/pandas-docs/stable/user_guide/indexing.html#returning-a-view-versus-a-copy\n",
      "  new['label'] = new['학교_식별자'].apply(included)\n"
     ]
    }
   ],
   "source": [
    "new = df.loc[df['시군구별'] == '구미시']\n",
    "\n",
    "def included(element):\n",
    "    if element in closing_schools:\n",
    "        return 1\n",
    "    else: return 0\n",
    "\n",
    "new['label'] = new['학교_식별자'].apply(included)\n",
    "\n",
    "coordinate = new[['학교_식별자', '위도', '경도', 'label']]\n",
    "\n",
    "coordinate.to_csv('D:/DSL/EDA/Data/구미.csv', encoding = 'cp949')"
   ]
  }
 ],
 "metadata": {
  "kernelspec": {
   "display_name": "Jay3",
   "language": "python",
   "name": "python3"
  },
  "language_info": {
   "codemirror_mode": {
    "name": "ipython",
    "version": 3
   },
   "file_extension": ".py",
   "mimetype": "text/x-python",
   "name": "python",
   "nbconvert_exporter": "python",
   "pygments_lexer": "ipython3",
   "version": "3.12.8"
  }
 },
 "nbformat": 4,
 "nbformat_minor": 2
}
