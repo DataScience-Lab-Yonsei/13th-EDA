{
 "cells": [
  {
   "cell_type": "code",
   "execution_count": 1,
   "id": "43e3230a-e4cd-4f28-bbce-a0a5636b86ad",
   "metadata": {},
   "outputs": [],
   "source": [
    "from sklearn.linear_model import LinearRegression\n",
    "import numpy as np\n",
    "import pandas as pd"
   ]
  },
  {
   "cell_type": "code",
   "execution_count": 14,
   "id": "900c3bae-bec7-49f9-bad1-8c9a1357016d",
   "metadata": {},
   "outputs": [
    {
     "data": {
      "text/plain": [
       "3256"
      ]
     },
     "execution_count": 14,
     "metadata": {},
     "output_type": "execute_result"
    }
   ],
   "source": [
    "df = pd.read_csv('중학교_데이터셋.csv')\n",
    "len(df)"
   ]
  },
  {
   "cell_type": "code",
   "execution_count": 3,
   "id": "57c1595c-c4a9-49e2-ab79-c2dde2670b84",
   "metadata": {
    "scrolled": true
   },
   "outputs": [
    {
     "data": {
      "text/plain": [
       "Index(['학교명', '설립일자', '본교분교구분', '소재지지번주소', '소재지도로명주소', '시도교육청명', '위도', '시군구별',\n",
       "       '경도', '시도명', '개방ID', '학제유형명', '2009_학생수', '2010_학생수', '2011_학생수',\n",
       "       '2012_학생수', '2013_학생수', '2014_학생수', '2015_학생수', '2016_학생수', '2017_학생수',\n",
       "       '2018_학생수', '2019_학생수', '2020_학생수', '2021_학생수', '2022_학생수', '2023_학생수',\n",
       "       '2012_해당지역예측학생수', '2013_해당지역예측학생수', '2014_해당지역예측학생수', '2015_해당지역예측학생수',\n",
       "       '2016_해당지역예측학생수', '2017_해당지역예측학생수', '2018_해당지역예측학생수', '2019_해당지역예측학생수',\n",
       "       '2020_해당지역예측학생수', '2021_해당지역예측학생수', '2022_해당지역예측학생수', '2023_해당지역예측학생수',\n",
       "       '2024_해당지역예측학생수', '2025_해당지역예측학생수', '2026_해당지역예측학생수', '2027_해당지역예측학생수',\n",
       "       '2028_해당지역예측학생수', '2029_해당지역예측학생수', '2030_해당지역예측학생수', '2031_해당지역예측학생수',\n",
       "       '2032_해당지역예측학생수', '2033_해당지역예측학생수', '2034_해당지역예측학생수', '2035_해당지역예측학생수',\n",
       "       '2036_해당지역예측학생수'],\n",
       "      dtype='object')"
      ]
     },
     "execution_count": 3,
     "metadata": {},
     "output_type": "execute_result"
    }
   ],
   "source": [
    "df.columns"
   ]
  },
  {
   "cell_type": "code",
   "execution_count": 4,
   "id": "1c7768b7-f719-4a33-9448-01cd1bf1d373",
   "metadata": {},
   "outputs": [],
   "source": [
    "# X(해당지역예측학생수), Y(학생수)열 선택\n",
    "columns_to_check = df.filter(regex=r'^(201[2-9]|202[0-3])_해당지역예측학생수$').columns.tolist() + \\\n",
    "                   df.filter(regex=r'^(201[2-9]|202[0-3])_학생수$').columns.tolist()\n",
    "\n",
    "# 0이 포함된 행 삭제\n",
    "df_nonzero = df[~(df[columns_to_check] == 0).any(axis=1)]"
   ]
  },
  {
   "cell_type": "code",
   "execution_count": 42,
   "id": "e1154dd3-1498-4002-9e40-9bb891d2d12c",
   "metadata": {},
   "outputs": [],
   "source": [
    "# 시군구별 출생아수와 시군구별학생수의 상관관계 분석\n",
    "df_nonzero.loc[:, '상관계수'] = np.nan\n",
    "\n",
    "for region in df_nonzero['시군구별'].unique() :\n",
    "    df_temp = df[df['시군구별'] == region]\n",
    "    temp_train_X = df_temp.filter(regex=r'^(201[2-9]|202[0-3])_해당지역예측학생수$').iloc[0].values\n",
    "    temp_train_y = df_temp.filter(regex=r'^(201[2-9]|202[0-3])_학생수$')\n",
    "    temp_train_y = temp_train_y.sum(axis=0).values\n",
    "    \n",
    "    # 상관계수 계산\n",
    "    correlation_matrix = np.corrcoef(temp_train_X, temp_train_y)\n",
    "    df_nonzero.loc[df_nonzero['시군구별'] == region, '상관계수'] = correlation_matrix[0, 1]"
   ]
  },
  {
   "cell_type": "code",
   "execution_count": 5,
   "id": "3be8a9b5-601f-47d9-8385-8e7d596b03da",
   "metadata": {},
   "outputs": [
    {
     "name": "stderr",
     "output_type": "stream",
     "text": [
      "C:\\Users\\user\\AppData\\Local\\Temp\\ipykernel_27920\\3967183013.py:3: SettingWithCopyWarning: \n",
      "A value is trying to be set on a copy of a slice from a DataFrame.\n",
      "Try using .loc[row_indexer,col_indexer] = value instead\n",
      "\n",
      "See the caveats in the documentation: https://pandas.pydata.org/pandas-docs/stable/user_guide/indexing.html#returning-a-view-versus-a-copy\n",
      "  df_nonzero.loc[:, '상관계수'] = np.nan\n"
     ]
    }
   ],
   "source": [
    "# X, Y 간 상관계수 열 추가\n",
    "\n",
    "df_nonzero.loc[:, '상관계수'] = np.nan\n",
    "\n",
    "for i in df_nonzero.index: \n",
    "    train_df = df_nonzero.loc[[i]]\n",
    "\n",
    "    # X_train, y_train 선택\n",
    "    X_train = train_df.filter(regex=r'^(201[2-9]|202[0-3])_해당지역예측학생수$').values.flatten()\n",
    "    y_train = train_df.filter(regex=r'^(201[2-9]|202[0-3])_학생수$').values.flatten()\n",
    "    \n",
    "    # 상관계수 계산\n",
    "    correlation_matrix = np.corrcoef(X_train, y_train)\n",
    "    df_nonzero.loc[i, '상관계수'] = correlation_matrix[0, 1]"
   ]
  },
  {
   "cell_type": "code",
   "execution_count": 15,
   "id": "cd2b76df-0965-42e3-8532-45bc25c7a9cc",
   "metadata": {},
   "outputs": [
    {
     "data": {
      "text/plain": [
       "1920"
      ]
     },
     "execution_count": 15,
     "metadata": {},
     "output_type": "execute_result"
    }
   ],
   "source": [
    "# 상관계수 0.8 이상인 지역 학교 filtering\n",
    "df_positive = df_nonzero[df_nonzero['상관계수'] >= 0.8]\n",
    "len(df_positive)"
   ]
  },
  {
   "cell_type": "code",
   "execution_count": 7,
   "id": "55768587-b7c0-40ce-87c1-161352093f43",
   "metadata": {},
   "outputs": [
    {
     "name": "stderr",
     "output_type": "stream",
     "text": [
      "C:\\Users\\user\\AppData\\Local\\Temp\\ipykernel_27920\\1351284185.py:3: SettingWithCopyWarning: \n",
      "A value is trying to be set on a copy of a slice from a DataFrame.\n",
      "Try using .loc[row_indexer,col_indexer] = value instead\n",
      "\n",
      "See the caveats in the documentation: https://pandas.pydata.org/pandas-docs/stable/user_guide/indexing.html#returning-a-view-versus-a-copy\n",
      "  df_positive.loc[:,f'{year}_예측학생수'] = np.nan\n",
      "C:\\Users\\user\\AppData\\Local\\Temp\\ipykernel_27920\\1351284185.py:3: SettingWithCopyWarning: \n",
      "A value is trying to be set on a copy of a slice from a DataFrame.\n",
      "Try using .loc[row_indexer,col_indexer] = value instead\n",
      "\n",
      "See the caveats in the documentation: https://pandas.pydata.org/pandas-docs/stable/user_guide/indexing.html#returning-a-view-versus-a-copy\n",
      "  df_positive.loc[:,f'{year}_예측학생수'] = np.nan\n",
      "C:\\Users\\user\\AppData\\Local\\Temp\\ipykernel_27920\\1351284185.py:3: SettingWithCopyWarning: \n",
      "A value is trying to be set on a copy of a slice from a DataFrame.\n",
      "Try using .loc[row_indexer,col_indexer] = value instead\n",
      "\n",
      "See the caveats in the documentation: https://pandas.pydata.org/pandas-docs/stable/user_guide/indexing.html#returning-a-view-versus-a-copy\n",
      "  df_positive.loc[:,f'{year}_예측학생수'] = np.nan\n",
      "C:\\Users\\user\\AppData\\Local\\Temp\\ipykernel_27920\\1351284185.py:3: SettingWithCopyWarning: \n",
      "A value is trying to be set on a copy of a slice from a DataFrame.\n",
      "Try using .loc[row_indexer,col_indexer] = value instead\n",
      "\n",
      "See the caveats in the documentation: https://pandas.pydata.org/pandas-docs/stable/user_guide/indexing.html#returning-a-view-versus-a-copy\n",
      "  df_positive.loc[:,f'{year}_예측학생수'] = np.nan\n",
      "C:\\Users\\user\\AppData\\Local\\Temp\\ipykernel_27920\\1351284185.py:3: SettingWithCopyWarning: \n",
      "A value is trying to be set on a copy of a slice from a DataFrame.\n",
      "Try using .loc[row_indexer,col_indexer] = value instead\n",
      "\n",
      "See the caveats in the documentation: https://pandas.pydata.org/pandas-docs/stable/user_guide/indexing.html#returning-a-view-versus-a-copy\n",
      "  df_positive.loc[:,f'{year}_예측학생수'] = np.nan\n",
      "C:\\Users\\user\\AppData\\Local\\Temp\\ipykernel_27920\\1351284185.py:3: SettingWithCopyWarning: \n",
      "A value is trying to be set on a copy of a slice from a DataFrame.\n",
      "Try using .loc[row_indexer,col_indexer] = value instead\n",
      "\n",
      "See the caveats in the documentation: https://pandas.pydata.org/pandas-docs/stable/user_guide/indexing.html#returning-a-view-versus-a-copy\n",
      "  df_positive.loc[:,f'{year}_예측학생수'] = np.nan\n",
      "C:\\Users\\user\\AppData\\Local\\Temp\\ipykernel_27920\\1351284185.py:3: SettingWithCopyWarning: \n",
      "A value is trying to be set on a copy of a slice from a DataFrame.\n",
      "Try using .loc[row_indexer,col_indexer] = value instead\n",
      "\n",
      "See the caveats in the documentation: https://pandas.pydata.org/pandas-docs/stable/user_guide/indexing.html#returning-a-view-versus-a-copy\n",
      "  df_positive.loc[:,f'{year}_예측학생수'] = np.nan\n",
      "C:\\Users\\user\\AppData\\Local\\Temp\\ipykernel_27920\\1351284185.py:3: SettingWithCopyWarning: \n",
      "A value is trying to be set on a copy of a slice from a DataFrame.\n",
      "Try using .loc[row_indexer,col_indexer] = value instead\n",
      "\n",
      "See the caveats in the documentation: https://pandas.pydata.org/pandas-docs/stable/user_guide/indexing.html#returning-a-view-versus-a-copy\n",
      "  df_positive.loc[:,f'{year}_예측학생수'] = np.nan\n",
      "C:\\Users\\user\\AppData\\Local\\Temp\\ipykernel_27920\\1351284185.py:3: SettingWithCopyWarning: \n",
      "A value is trying to be set on a copy of a slice from a DataFrame.\n",
      "Try using .loc[row_indexer,col_indexer] = value instead\n",
      "\n",
      "See the caveats in the documentation: https://pandas.pydata.org/pandas-docs/stable/user_guide/indexing.html#returning-a-view-versus-a-copy\n",
      "  df_positive.loc[:,f'{year}_예측학생수'] = np.nan\n",
      "C:\\Users\\user\\AppData\\Local\\Temp\\ipykernel_27920\\1351284185.py:3: SettingWithCopyWarning: \n",
      "A value is trying to be set on a copy of a slice from a DataFrame.\n",
      "Try using .loc[row_indexer,col_indexer] = value instead\n",
      "\n",
      "See the caveats in the documentation: https://pandas.pydata.org/pandas-docs/stable/user_guide/indexing.html#returning-a-view-versus-a-copy\n",
      "  df_positive.loc[:,f'{year}_예측학생수'] = np.nan\n",
      "C:\\Users\\user\\AppData\\Local\\Temp\\ipykernel_27920\\1351284185.py:3: SettingWithCopyWarning: \n",
      "A value is trying to be set on a copy of a slice from a DataFrame.\n",
      "Try using .loc[row_indexer,col_indexer] = value instead\n",
      "\n",
      "See the caveats in the documentation: https://pandas.pydata.org/pandas-docs/stable/user_guide/indexing.html#returning-a-view-versus-a-copy\n",
      "  df_positive.loc[:,f'{year}_예측학생수'] = np.nan\n",
      "C:\\Users\\user\\AppData\\Local\\Temp\\ipykernel_27920\\1351284185.py:3: SettingWithCopyWarning: \n",
      "A value is trying to be set on a copy of a slice from a DataFrame.\n",
      "Try using .loc[row_indexer,col_indexer] = value instead\n",
      "\n",
      "See the caveats in the documentation: https://pandas.pydata.org/pandas-docs/stable/user_guide/indexing.html#returning-a-view-versus-a-copy\n",
      "  df_positive.loc[:,f'{year}_예측학생수'] = np.nan\n",
      "C:\\Users\\user\\AppData\\Local\\Temp\\ipykernel_27920\\1351284185.py:3: SettingWithCopyWarning: \n",
      "A value is trying to be set on a copy of a slice from a DataFrame.\n",
      "Try using .loc[row_indexer,col_indexer] = value instead\n",
      "\n",
      "See the caveats in the documentation: https://pandas.pydata.org/pandas-docs/stable/user_guide/indexing.html#returning-a-view-versus-a-copy\n",
      "  df_positive.loc[:,f'{year}_예측학생수'] = np.nan\n"
     ]
    },
    {
     "data": {
      "text/plain": [
       "Index(['학교명', '설립일자', '본교분교구분', '소재지지번주소', '소재지도로명주소', '시도교육청명', '위도', '시군구별',\n",
       "       '경도', '시도명', '개방ID', '학제유형명', '2009_학생수', '2010_학생수', '2011_학생수',\n",
       "       '2012_학생수', '2013_학생수', '2014_학생수', '2015_학생수', '2016_학생수', '2017_학생수',\n",
       "       '2018_학생수', '2019_학생수', '2020_학생수', '2021_학생수', '2022_학생수', '2023_학생수',\n",
       "       '2012_해당지역예측학생수', '2013_해당지역예측학생수', '2014_해당지역예측학생수', '2015_해당지역예측학생수',\n",
       "       '2016_해당지역예측학생수', '2017_해당지역예측학생수', '2018_해당지역예측학생수', '2019_해당지역예측학생수',\n",
       "       '2020_해당지역예측학생수', '2021_해당지역예측학생수', '2022_해당지역예측학생수', '2023_해당지역예측학생수',\n",
       "       '2024_해당지역예측학생수', '2025_해당지역예측학생수', '2026_해당지역예측학생수', '2027_해당지역예측학생수',\n",
       "       '2028_해당지역예측학생수', '2029_해당지역예측학생수', '2030_해당지역예측학생수', '2031_해당지역예측학생수',\n",
       "       '2032_해당지역예측학생수', '2033_해당지역예측학생수', '2034_해당지역예측학생수', '2035_해당지역예측학생수',\n",
       "       '2036_해당지역예측학생수', '상관계수', '2024_예측학생수', '2025_예측학생수', '2026_예측학생수',\n",
       "       '2027_예측학생수', '2028_예측학생수', '2029_예측학생수', '2030_예측학생수', '2031_예측학생수',\n",
       "       '2032_예측학생수', '2033_예측학생수', '2034_예측학생수', '2035_예측학생수', '2036_예측학생수'],\n",
       "      dtype='object')"
      ]
     },
     "execution_count": 7,
     "metadata": {},
     "output_type": "execute_result"
    }
   ],
   "source": [
    "# 2024~2036년의 \"예측학생수\" 열 추가 (초기값 NaN)\n",
    "for year in range(2024, 2037):\n",
    "    df_positive.loc[:,f'{year}_예측학생수'] = np.nan\n",
    "\n",
    "df_positive.columns"
   ]
  },
  {
   "cell_type": "code",
   "execution_count": 8,
   "id": "798974d6-e46c-4832-b47e-fe6e1c40587a",
   "metadata": {},
   "outputs": [],
   "source": [
    "# 회귀모델 적합 + 예측\n",
    "\n",
    "for i in df_positive.index:\n",
    "    train_df = df_positive.loc[[i]]\n",
    "    \n",
    "    # 독립변수(X), 종속변수(y) 선택\n",
    "    X_train = train_df.filter(regex=r'^(201[2-9]|202[0-3])_해당지역예측학생수$').values.reshape(-1, 1)\n",
    "    y_train = train_df.filter(regex=r'^(201[2-9]|202[0-3])_학생수$').values.reshape(-1, 1)\n",
    "    \n",
    "    # 회귀 모델 학습\n",
    "    model = LinearRegression()\n",
    "    model.fit(X_train, y_train)\n",
    "    \n",
    "    # 예측할 연도의 지역 중학생 수 데이터\n",
    "    X_future = train_df.filter(regex=r'^(202[4-9]|203[0-6])_해당지역예측학생수$').values.reshape(-1, 1)\n",
    "    \n",
    "    # 미래 학생 수 예측\n",
    "    predictions = model.predict(X_future).flatten()\n",
    "    df_positive.loc[i, [f\"{year}_예측학생수\" for year in range(2024, 2037)]] = predictions"
   ]
  },
  {
   "cell_type": "code",
   "execution_count": 9,
   "id": "9b12a2c2-9e61-4812-aab4-8dc8f34c5197",
   "metadata": {},
   "outputs": [
    {
     "data": {
      "text/html": [
       "<div>\n",
       "<style scoped>\n",
       "    .dataframe tbody tr th:only-of-type {\n",
       "        vertical-align: middle;\n",
       "    }\n",
       "\n",
       "    .dataframe tbody tr th {\n",
       "        vertical-align: top;\n",
       "    }\n",
       "\n",
       "    .dataframe thead th {\n",
       "        text-align: right;\n",
       "    }\n",
       "</style>\n",
       "<table border=\"1\" class=\"dataframe\">\n",
       "  <thead>\n",
       "    <tr style=\"text-align: right;\">\n",
       "      <th></th>\n",
       "      <th>학교명</th>\n",
       "      <th>설립일자</th>\n",
       "      <th>본교분교구분</th>\n",
       "      <th>소재지지번주소</th>\n",
       "      <th>소재지도로명주소</th>\n",
       "      <th>시도교육청명</th>\n",
       "      <th>위도</th>\n",
       "      <th>시군구별</th>\n",
       "      <th>경도</th>\n",
       "      <th>시도명</th>\n",
       "      <th>...</th>\n",
       "      <th>2027_예측학생수</th>\n",
       "      <th>2028_예측학생수</th>\n",
       "      <th>2029_예측학생수</th>\n",
       "      <th>2030_예측학생수</th>\n",
       "      <th>2031_예측학생수</th>\n",
       "      <th>2032_예측학생수</th>\n",
       "      <th>2033_예측학생수</th>\n",
       "      <th>2034_예측학생수</th>\n",
       "      <th>2035_예측학생수</th>\n",
       "      <th>2036_예측학생수</th>\n",
       "    </tr>\n",
       "  </thead>\n",
       "  <tbody>\n",
       "    <tr>\n",
       "      <th>0</th>\n",
       "      <td>방이중학교</td>\n",
       "      <td>1985-04-12</td>\n",
       "      <td>본교</td>\n",
       "      <td>서울특별시 송파구 방이동 53</td>\n",
       "      <td>서울특별시 송파구 오금로11길 64</td>\n",
       "      <td>서울특별시교육청</td>\n",
       "      <td>37.515011</td>\n",
       "      <td>서울특별시 송파구</td>\n",
       "      <td>127.113244</td>\n",
       "      <td>서울</td>\n",
       "      <td>...</td>\n",
       "      <td>452.733122</td>\n",
       "      <td>407.297132</td>\n",
       "      <td>385.383732</td>\n",
       "      <td>336.871346</td>\n",
       "      <td>273.828909</td>\n",
       "      <td>222.902737</td>\n",
       "      <td>166.817686</td>\n",
       "      <td>114.850272</td>\n",
       "      <td>60.895033</td>\n",
       "      <td>21.943137</td>\n",
       "    </tr>\n",
       "    <tr>\n",
       "      <th>3</th>\n",
       "      <td>학산여자중학교</td>\n",
       "      <td>1951-08-06</td>\n",
       "      <td>본교</td>\n",
       "      <td>부산광역시 동래구 명장동 산85-18</td>\n",
       "      <td>부산광역시 동래구 충렬사로51번길 61</td>\n",
       "      <td>부산광역시교육청</td>\n",
       "      <td>35.204753</td>\n",
       "      <td>부산광역시 동래구</td>\n",
       "      <td>129.096168</td>\n",
       "      <td>부산</td>\n",
       "      <td>...</td>\n",
       "      <td>329.809822</td>\n",
       "      <td>296.278260</td>\n",
       "      <td>291.694809</td>\n",
       "      <td>248.875728</td>\n",
       "      <td>184.224946</td>\n",
       "      <td>130.429706</td>\n",
       "      <td>107.753686</td>\n",
       "      <td>97.983698</td>\n",
       "      <td>95.571356</td>\n",
       "      <td>70.362376</td>\n",
       "    </tr>\n",
       "    <tr>\n",
       "      <th>5</th>\n",
       "      <td>서울대학교사범대학부설여자중학교</td>\n",
       "      <td>1969-03-03</td>\n",
       "      <td>본교</td>\n",
       "      <td>서울특별시 종로구 동숭동 199-51</td>\n",
       "      <td>서울특별시 종로구 대학로 64</td>\n",
       "      <td>서울특별시교육청</td>\n",
       "      <td>37.577600</td>\n",
       "      <td>서울특별시 종로구</td>\n",
       "      <td>127.004295</td>\n",
       "      <td>서울</td>\n",
       "      <td>...</td>\n",
       "      <td>301.916265</td>\n",
       "      <td>274.465111</td>\n",
       "      <td>270.644589</td>\n",
       "      <td>240.080418</td>\n",
       "      <td>203.007209</td>\n",
       "      <td>178.527572</td>\n",
       "      <td>155.887445</td>\n",
       "      <td>139.473352</td>\n",
       "      <td>109.899686</td>\n",
       "      <td>91.080080</td>\n",
       "    </tr>\n",
       "    <tr>\n",
       "      <th>6</th>\n",
       "      <td>서산중학교</td>\n",
       "      <td>1946-12-16</td>\n",
       "      <td>본교</td>\n",
       "      <td>충청남도 서산시 석남동 57-1</td>\n",
       "      <td>충청남도 서산시 덕지천로 90</td>\n",
       "      <td>충청남도교육청</td>\n",
       "      <td>36.769046</td>\n",
       "      <td>서산시</td>\n",
       "      <td>126.458630</td>\n",
       "      <td>충남</td>\n",
       "      <td>...</td>\n",
       "      <td>866.535795</td>\n",
       "      <td>861.350438</td>\n",
       "      <td>859.010704</td>\n",
       "      <td>841.178135</td>\n",
       "      <td>820.563179</td>\n",
       "      <td>797.102600</td>\n",
       "      <td>778.764142</td>\n",
       "      <td>759.160963</td>\n",
       "      <td>749.232901</td>\n",
       "      <td>733.550358</td>\n",
       "    </tr>\n",
       "    <tr>\n",
       "      <th>9</th>\n",
       "      <td>중리중학교</td>\n",
       "      <td>1980-01-24</td>\n",
       "      <td>본교</td>\n",
       "      <td>대구광역시 서구 중리동 105-1</td>\n",
       "      <td>대구광역시 서구 국채보상로34길 63</td>\n",
       "      <td>대구광역시교육청</td>\n",
       "      <td>35.864715</td>\n",
       "      <td>대구광역시 서구</td>\n",
       "      <td>128.551491</td>\n",
       "      <td>대구</td>\n",
       "      <td>...</td>\n",
       "      <td>504.483432</td>\n",
       "      <td>490.718684</td>\n",
       "      <td>479.698930</td>\n",
       "      <td>463.905274</td>\n",
       "      <td>441.945330</td>\n",
       "      <td>419.189736</td>\n",
       "      <td>400.929565</td>\n",
       "      <td>388.875466</td>\n",
       "      <td>381.197442</td>\n",
       "      <td>379.606141</td>\n",
       "    </tr>\n",
       "  </tbody>\n",
       "</table>\n",
       "<p>5 rows × 66 columns</p>\n",
       "</div>"
      ],
      "text/plain": [
       "                학교명        설립일자 본교분교구분               소재지지번주소  \\\n",
       "0             방이중학교  1985-04-12     본교      서울특별시 송파구 방이동 53   \n",
       "3           학산여자중학교  1951-08-06     본교  부산광역시 동래구 명장동 산85-18   \n",
       "5  서울대학교사범대학부설여자중학교  1969-03-03     본교  서울특별시 종로구 동숭동 199-51   \n",
       "6             서산중학교  1946-12-16     본교     충청남도 서산시 석남동 57-1   \n",
       "9             중리중학교  1980-01-24     본교    대구광역시 서구 중리동 105-1   \n",
       "\n",
       "                소재지도로명주소    시도교육청명         위도       시군구별          경도 시도명  ...  \\\n",
       "0    서울특별시 송파구 오금로11길 64  서울특별시교육청  37.515011  서울특별시 송파구  127.113244  서울  ...   \n",
       "3  부산광역시 동래구 충렬사로51번길 61  부산광역시교육청  35.204753  부산광역시 동래구  129.096168  부산  ...   \n",
       "5       서울특별시 종로구 대학로 64  서울특별시교육청  37.577600  서울특별시 종로구  127.004295  서울  ...   \n",
       "6       충청남도 서산시 덕지천로 90   충청남도교육청  36.769046        서산시  126.458630  충남  ...   \n",
       "9   대구광역시 서구 국채보상로34길 63  대구광역시교육청  35.864715   대구광역시 서구  128.551491  대구  ...   \n",
       "\n",
       "   2027_예측학생수  2028_예측학생수  2029_예측학생수  2030_예측학생수  2031_예측학생수  2032_예측학생수  \\\n",
       "0  452.733122  407.297132  385.383732  336.871346  273.828909  222.902737   \n",
       "3  329.809822  296.278260  291.694809  248.875728  184.224946  130.429706   \n",
       "5  301.916265  274.465111  270.644589  240.080418  203.007209  178.527572   \n",
       "6  866.535795  861.350438  859.010704  841.178135  820.563179  797.102600   \n",
       "9  504.483432  490.718684  479.698930  463.905274  441.945330  419.189736   \n",
       "\n",
       "   2033_예측학생수  2034_예측학생수  2035_예측학생수  2036_예측학생수  \n",
       "0  166.817686  114.850272   60.895033   21.943137  \n",
       "3  107.753686   97.983698   95.571356   70.362376  \n",
       "5  155.887445  139.473352  109.899686   91.080080  \n",
       "6  778.764142  759.160963  749.232901  733.550358  \n",
       "9  400.929565  388.875466  381.197442  379.606141  \n",
       "\n",
       "[5 rows x 66 columns]"
      ]
     },
     "execution_count": 9,
     "metadata": {},
     "output_type": "execute_result"
    }
   ],
   "source": [
    "df_positive.head()"
   ]
  },
  {
   "cell_type": "code",
   "execution_count": 11,
   "id": "f786b19c-0a33-49ab-a28e-c9e78728d06b",
   "metadata": {},
   "outputs": [],
   "source": [
    "df_positive.to_csv(\"중학교_예측결과.csv\", index=False, encoding='utf-8-sig')"
   ]
  },
  {
   "cell_type": "code",
   "execution_count": 12,
   "id": "da932e67-a29f-465e-abde-7faf98362bc4",
   "metadata": {},
   "outputs": [
    {
     "data": {
      "text/plain": [
       "516"
      ]
     },
     "execution_count": 12,
     "metadata": {},
     "output_type": "execute_result"
    }
   ],
   "source": [
    "# 2036년 기준 학생수 0명 이하인 학교 filtering\n",
    "df_danger = df_positive[df_positive['2036_예측학생수'] < 0]\n",
    "len(df_danger)"
   ]
  },
  {
   "cell_type": "code",
   "execution_count": 49,
   "id": "7c38830e-bc52-4ba0-80e8-b1ecb0dd2a49",
   "metadata": {},
   "outputs": [],
   "source": [
    "# df_danger.to_csv(\"중학교_폐교위험_지역기준.csv\", index=False, encoding='utf-8-sig')"
   ]
  },
  {
   "cell_type": "code",
   "execution_count": 27,
   "id": "1e1d5c58-53a0-4a12-acda-d54891dacba5",
   "metadata": {},
   "outputs": [],
   "source": [
    "# 2030년 기준 학생수 0명 이하인 학교 filtering\n",
    "df_danger = df_positive[df_positive['2030_예측학생수'] < 0]\n",
    "#df_danger.to_csv(\"중학교_폐교위험_2030.csv\", index=False, encoding='utf-8-sig')"
   ]
  },
  {
   "cell_type": "code",
   "execution_count": 25,
   "id": "b6c1a0a5-0e2f-4c89-944d-1e60a66476d3",
   "metadata": {},
   "outputs": [
    {
     "data": {
      "text/plain": [
       "486"
      ]
     },
     "execution_count": 25,
     "metadata": {},
     "output_type": "execute_result"
    }
   ],
   "source": [
    "len(df_danger)"
   ]
  },
  {
   "cell_type": "code",
   "execution_count": 13,
   "id": "882db6bd-d66d-47d9-8583-d27e5224f6cc",
   "metadata": {},
   "outputs": [],
   "source": [
    "df_danger.to_csv(\"중학교_폐교위험.csv\", index=False, encoding='utf-8-sig')"
   ]
  }
 ],
 "metadata": {
  "kernelspec": {
   "display_name": "Python 3 (ipykernel)",
   "language": "python",
   "name": "python3"
  },
  "language_info": {
   "codemirror_mode": {
    "name": "ipython",
    "version": 3
   },
   "file_extension": ".py",
   "mimetype": "text/x-python",
   "name": "python",
   "nbconvert_exporter": "python",
   "pygments_lexer": "ipython3",
   "version": "3.12.4"
  }
 },
 "nbformat": 4,
 "nbformat_minor": 5
}
