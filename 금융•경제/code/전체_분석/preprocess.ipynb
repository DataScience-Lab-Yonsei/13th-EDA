{
 "cells": [
  {
   "cell_type": "code",
   "execution_count": 1,
   "metadata": {},
   "outputs": [],
   "source": [
    "# Import necessary libraries\n",
    "import pandas as pd\n",
    "import numpy as np\n",
    "import matplotlib.pyplot as plt"
   ]
  },
  {
   "cell_type": "markdown",
   "metadata": {},
   "source": [
    "# 데이터 로드"
   ]
  },
  {
   "cell_type": "code",
   "execution_count": 2,
   "metadata": {},
   "outputs": [],
   "source": [
    "# Load datasets\n",
    "esg_file_path = 'ESG.csv'\n",
    "finance_file_path = 'finance.csv'\n",
    "marketcap_file_path = 'marketcap.csv'\n",
    "\n",
    "esg_data = pd.read_csv(esg_file_path, encoding=\"cp949\", low_memory=False)\n",
    "finance_data = pd.read_csv(finance_file_path, encoding=\"cp949\", low_memory=False)\n",
    "marketcap_data = pd.read_csv(marketcap_file_path, encoding=\"cp949\", low_memory=False)"
   ]
  },
  {
   "cell_type": "code",
   "execution_count": 3,
   "metadata": {},
   "outputs": [
    {
     "name": "stdout",
     "output_type": "stream",
     "text": [
      "<class 'pandas.core.frame.DataFrame'>\n",
      "RangeIndex: 10990 entries, 0 to 10989\n",
      "Data columns (total 12 columns):\n",
      " #   Column     Non-Null Count  Dtype  \n",
      "---  ------     --------------  -----  \n",
      " 0   NO         10989 non-null  float64\n",
      " 1   기업명        10989 non-null  object \n",
      " 2   기업코드       10989 non-null  float64\n",
      " 3   ESG등급      10989 non-null  object \n",
      " 4   환경         10989 non-null  object \n",
      " 5   사회         10989 non-null  object \n",
      " 6   지배구조       10989 non-null  object \n",
      " 7   평가년도       10989 non-null  float64\n",
      " 8   ESG 등급조정   165 non-null    object \n",
      " 9   환경 등급조정    57 non-null     object \n",
      " 10  사회 등급조정    274 non-null    object \n",
      " 11  지배구조 등급조정  213 non-null    object \n",
      "dtypes: float64(3), object(9)\n",
      "memory usage: 1.0+ MB\n"
     ]
    }
   ],
   "source": [
    "esg_data.info()"
   ]
  },
  {
   "cell_type": "code",
   "execution_count": 4,
   "metadata": {},
   "outputs": [
    {
     "name": "stdout",
     "output_type": "stream",
     "text": [
      "<class 'pandas.core.frame.DataFrame'>\n",
      "RangeIndex: 33012 entries, 0 to 33011\n",
      "Data columns (total 23 columns):\n",
      " #   Column            Non-Null Count  Dtype  \n",
      "---  ------            --------------  -----  \n",
      " 0   Unnamed: 0        33012 non-null  int64  \n",
      " 1   Symbol            33012 non-null  object \n",
      " 2   Ticker            32949 non-null  object \n",
      " 3   Name              33012 non-null  object \n",
      " 4   종목명 (Full)        32949 non-null  object \n",
      " 5   기업명 (한글)          32949 non-null  object \n",
      " 6   거래소 업종            31179 non-null  object \n",
      " 7   거래소 업종코드          31179 non-null  object \n",
      " 8   결산월               33012 non-null  int64  \n",
      " 9   회계년               33012 non-null  int64  \n",
      " 10  주기                33012 non-null  object \n",
      " 11  자기자본비율(%)         28597 non-null  object \n",
      " 12  차입금의존도(%)         28597 non-null  float64\n",
      " 13  총부채(천원)           28600 non-null  float64\n",
      " 14  영업이익률(%)          28321 non-null  float64\n",
      " 15  매출액(천원)           28600 non-null  float64\n",
      " 16  총자본회전율(회)         27771 non-null  object \n",
      " 17  영업활동으로인한현금흐름(천원)  28600 non-null  float64\n",
      " 18  당좌자산(천원)          27699 non-null  float64\n",
      " 19  유동부채(천원)          27699 non-null  float64\n",
      " 20  ROA(당기순이익)(%)     27771 non-null  object \n",
      " 21  신용등급 (채권, NICE)   2768 non-null   object \n",
      " 22  신용등급 (CP, NICE)   1481 non-null   object \n",
      "dtypes: float64(7), int64(3), object(13)\n",
      "memory usage: 5.8+ MB\n"
     ]
    }
   ],
   "source": [
    "finance_data.info()"
   ]
  },
  {
   "cell_type": "code",
   "execution_count": 5,
   "metadata": {},
   "outputs": [
    {
     "name": "stdout",
     "output_type": "stream",
     "text": [
      "<class 'pandas.core.frame.DataFrame'>\n",
      "RangeIndex: 38542 entries, 0 to 38541\n",
      "Data columns (total 5 columns):\n",
      " #   Column           Non-Null Count  Dtype  \n",
      "---  ------           --------------  -----  \n",
      " 0   Unnamed: 0       38542 non-null  int64  \n",
      " 1   Ticker           38471 non-null  object \n",
      " 2   회계년              38542 non-null  int64  \n",
      " 3   시가총액(백만원)        29571 non-null  float64\n",
      " 4   WACC(시가총액평균)(%)  27171 non-null  object \n",
      "dtypes: float64(1), int64(2), object(2)\n",
      "memory usage: 1.5+ MB\n"
     ]
    }
   ],
   "source": [
    "marketcap_data.info()"
   ]
  },
  {
   "cell_type": "markdown",
   "metadata": {},
   "source": [
    "# ESG 전처리"
   ]
  },
  {
   "cell_type": "code",
   "execution_count": 6,
   "metadata": {},
   "outputs": [
    {
     "name": "stderr",
     "output_type": "stream",
     "text": [
      "C:\\Users\\jwlee\\AppData\\Local\\Temp\\ipykernel_15924\\803686864.py:6: UserWarning: Boolean Series key will be reindexed to match DataFrame index.\n",
      "  filtered_data = filtered_data[(esg_data['ESG등급'] != '등급없음') & (esg_data['환경'] != '등급없음') &\n"
     ]
    },
    {
     "data": {
      "text/html": [
       "<div>\n",
       "<style scoped>\n",
       "    .dataframe tbody tr th:only-of-type {\n",
       "        vertical-align: middle;\n",
       "    }\n",
       "\n",
       "    .dataframe tbody tr th {\n",
       "        vertical-align: top;\n",
       "    }\n",
       "\n",
       "    .dataframe thead th {\n",
       "        text-align: right;\n",
       "    }\n",
       "</style>\n",
       "<table border=\"1\" class=\"dataframe\">\n",
       "  <thead>\n",
       "    <tr style=\"text-align: right;\">\n",
       "      <th></th>\n",
       "      <th>NO</th>\n",
       "      <th>기업명</th>\n",
       "      <th>기업코드</th>\n",
       "      <th>ESG등급</th>\n",
       "      <th>환경</th>\n",
       "      <th>사회</th>\n",
       "      <th>지배구조</th>\n",
       "      <th>평가년도</th>\n",
       "      <th>ESG 등급조정</th>\n",
       "      <th>환경 등급조정</th>\n",
       "      <th>사회 등급조정</th>\n",
       "      <th>지배구조 등급조정</th>\n",
       "    </tr>\n",
       "  </thead>\n",
       "  <tbody>\n",
       "    <tr>\n",
       "      <th>4</th>\n",
       "      <td>10986.0</td>\n",
       "      <td>AJ네트웍스</td>\n",
       "      <td>95570.0</td>\n",
       "      <td>B</td>\n",
       "      <td>D</td>\n",
       "      <td>B</td>\n",
       "      <td>B</td>\n",
       "      <td>2020.0</td>\n",
       "      <td>NaN</td>\n",
       "      <td>NaN</td>\n",
       "      <td>NaN</td>\n",
       "      <td>NaN</td>\n",
       "    </tr>\n",
       "    <tr>\n",
       "      <th>5</th>\n",
       "      <td>10985.0</td>\n",
       "      <td>AJ네트웍스</td>\n",
       "      <td>95570.0</td>\n",
       "      <td>B</td>\n",
       "      <td>D</td>\n",
       "      <td>B</td>\n",
       "      <td>B</td>\n",
       "      <td>2021.0</td>\n",
       "      <td>NaN</td>\n",
       "      <td>NaN</td>\n",
       "      <td>NaN</td>\n",
       "      <td>NaN</td>\n",
       "    </tr>\n",
       "    <tr>\n",
       "      <th>6</th>\n",
       "      <td>10984.0</td>\n",
       "      <td>AJ네트웍스</td>\n",
       "      <td>95570.0</td>\n",
       "      <td>B+</td>\n",
       "      <td>C</td>\n",
       "      <td>B+</td>\n",
       "      <td>B+</td>\n",
       "      <td>2022.0</td>\n",
       "      <td>NaN</td>\n",
       "      <td>NaN</td>\n",
       "      <td>NaN</td>\n",
       "      <td>NaN</td>\n",
       "    </tr>\n",
       "  </tbody>\n",
       "</table>\n",
       "</div>"
      ],
      "text/plain": [
       "        NO     기업명     기업코드 ESG등급 환경  사회 지배구조    평가년도 ESG 등급조정 환경 등급조정  \\\n",
       "4  10986.0  AJ네트웍스  95570.0     B  D   B    B  2020.0      NaN     NaN   \n",
       "5  10985.0  AJ네트웍스  95570.0     B  D   B    B  2021.0      NaN     NaN   \n",
       "6  10984.0  AJ네트웍스  95570.0    B+  C  B+   B+  2022.0      NaN     NaN   \n",
       "\n",
       "  사회 등급조정 지배구조 등급조정  \n",
       "4     NaN       NaN  \n",
       "5     NaN       NaN  \n",
       "6     NaN       NaN  "
      ]
     },
     "execution_count": 6,
     "metadata": {},
     "output_type": "execute_result"
    }
   ],
   "source": [
    "# 1 하나라도 미공개나 등급없음을 다 지우는 방법 -> data 너무 적을 것 같음 # 정우\n",
    "\n",
    "filtered_data = esg_data[(esg_data['ESG등급'] != '미공개') & (esg_data['환경'] != '미공개') &\n",
    "                         (esg_data['사회'] != '미공개') & (esg_data['지배구조'] != '미공개')]\n",
    "\n",
    "filtered_data = filtered_data[(esg_data['ESG등급'] != '등급없음') & (esg_data['환경'] != '등급없음') &\n",
    "                         (esg_data['사회'] != '등급없음') & (esg_data['지배구조'] != '등급없음')]\n",
    "\n",
    "filtered_data = filtered_data.dropna(subset=['ESG등급'])\n",
    "filtered_data = filtered_data.dropna(subset=['환경'])\n",
    "filtered_data = filtered_data.dropna(subset=['사회'])\n",
    "filtered_data = filtered_data.dropna(subset=['지배구조'])\n",
    "\n",
    "#Exclude 2024\n",
    "filtered_data = filtered_data[filtered_data['평가년도'] != 2024.]\n",
    "filtered_data = filtered_data[filtered_data['평가년도'] > 2019.]\n",
    "\n",
    "filtered_data.head(3)"
   ]
  },
  {
   "cell_type": "code",
   "execution_count": 7,
   "metadata": {},
   "outputs": [
    {
     "name": "stderr",
     "output_type": "stream",
     "text": [
      "C:\\Users\\jwlee\\AppData\\Local\\Temp\\ipykernel_15924\\1534352060.py:7: UserWarning: Boolean Series key will be reindexed to match DataFrame index.\n",
      "  filtered_data = filtered_data[(esg_data['ESG등급'] != '등급없음') & (esg_data['환경'] != '등급없음') &\n"
     ]
    },
    {
     "data": {
      "text/html": [
       "<div>\n",
       "<style scoped>\n",
       "    .dataframe tbody tr th:only-of-type {\n",
       "        vertical-align: middle;\n",
       "    }\n",
       "\n",
       "    .dataframe tbody tr th {\n",
       "        vertical-align: top;\n",
       "    }\n",
       "\n",
       "    .dataframe thead th {\n",
       "        text-align: right;\n",
       "    }\n",
       "</style>\n",
       "<table border=\"1\" class=\"dataframe\">\n",
       "  <thead>\n",
       "    <tr style=\"text-align: right;\">\n",
       "      <th></th>\n",
       "      <th>NO</th>\n",
       "      <th>기업명</th>\n",
       "      <th>기업코드</th>\n",
       "      <th>ESG등급</th>\n",
       "      <th>환경</th>\n",
       "      <th>사회</th>\n",
       "      <th>지배구조</th>\n",
       "      <th>평가년도</th>\n",
       "      <th>ESG 등급조정</th>\n",
       "      <th>환경 등급조정</th>\n",
       "      <th>사회 등급조정</th>\n",
       "      <th>지배구조 등급조정</th>\n",
       "    </tr>\n",
       "  </thead>\n",
       "  <tbody>\n",
       "    <tr>\n",
       "      <th>5</th>\n",
       "      <td>10985.0</td>\n",
       "      <td>AJ네트웍스</td>\n",
       "      <td>95570.0</td>\n",
       "      <td>B</td>\n",
       "      <td>D</td>\n",
       "      <td>B</td>\n",
       "      <td>B</td>\n",
       "      <td>2021.0</td>\n",
       "      <td>NaN</td>\n",
       "      <td>NaN</td>\n",
       "      <td>NaN</td>\n",
       "      <td>NaN</td>\n",
       "    </tr>\n",
       "    <tr>\n",
       "      <th>6</th>\n",
       "      <td>10984.0</td>\n",
       "      <td>AJ네트웍스</td>\n",
       "      <td>95570.0</td>\n",
       "      <td>B+</td>\n",
       "      <td>C</td>\n",
       "      <td>B+</td>\n",
       "      <td>B+</td>\n",
       "      <td>2022.0</td>\n",
       "      <td>NaN</td>\n",
       "      <td>NaN</td>\n",
       "      <td>NaN</td>\n",
       "      <td>NaN</td>\n",
       "    </tr>\n",
       "    <tr>\n",
       "      <th>7</th>\n",
       "      <td>10983.0</td>\n",
       "      <td>AJ네트웍스</td>\n",
       "      <td>95570.0</td>\n",
       "      <td>B+</td>\n",
       "      <td>C</td>\n",
       "      <td>A</td>\n",
       "      <td>B+</td>\n",
       "      <td>2023.0</td>\n",
       "      <td>NaN</td>\n",
       "      <td>NaN</td>\n",
       "      <td>NaN</td>\n",
       "      <td>NaN</td>\n",
       "    </tr>\n",
       "  </tbody>\n",
       "</table>\n",
       "</div>"
      ],
      "text/plain": [
       "        NO     기업명     기업코드 ESG등급 환경  사회 지배구조    평가년도 ESG 등급조정 환경 등급조정  \\\n",
       "5  10985.0  AJ네트웍스  95570.0     B  D   B    B  2021.0      NaN     NaN   \n",
       "6  10984.0  AJ네트웍스  95570.0    B+  C  B+   B+  2022.0      NaN     NaN   \n",
       "7  10983.0  AJ네트웍스  95570.0    B+  C   A   B+  2023.0      NaN     NaN   \n",
       "\n",
       "  사회 등급조정 지배구조 등급조정  \n",
       "5     NaN       NaN  \n",
       "6     NaN       NaN  \n",
       "7     NaN       NaN  "
      ]
     },
     "execution_count": 7,
     "metadata": {},
     "output_type": "execute_result"
    }
   ],
   "source": [
    "# 1 하나라도 미공개나 등급없음을 다 지우는 방법 -> data 너무 적을 것 같음 # 정우\n",
    "# shift\n",
    "\n",
    "filtered_data = esg_data[(esg_data['ESG등급'] != '미공개') & (esg_data['환경'] != '미공개') &\n",
    "                         (esg_data['사회'] != '미공개') & (esg_data['지배구조'] != '미공개')]\n",
    "\n",
    "filtered_data = filtered_data[(esg_data['ESG등급'] != '등급없음') & (esg_data['환경'] != '등급없음') &\n",
    "                         (esg_data['사회'] != '등급없음') & (esg_data['지배구조'] != '등급없음')]\n",
    "\n",
    "filtered_data = filtered_data.dropna(subset=['ESG등급'])\n",
    "filtered_data = filtered_data.dropna(subset=['환경'])\n",
    "filtered_data = filtered_data.dropna(subset=['사회'])\n",
    "filtered_data = filtered_data.dropna(subset=['지배구조'])\n",
    "\n",
    "#Exclude 2024\n",
    "#filtered_data = filtered_data[filtered_data['평가년도'] != 2024.]\n",
    "filtered_data = filtered_data[filtered_data['평가년도'] > 2020.]\n",
    "\n",
    "filtered_data.head(3)"
   ]
  },
  {
   "cell_type": "code",
   "execution_count": 8,
   "metadata": {},
   "outputs": [
    {
     "name": "stdout",
     "output_type": "stream",
     "text": [
      "<class 'pandas.core.frame.DataFrame'>\n",
      "Index: 3912 entries, 5 to 10989\n",
      "Data columns (total 12 columns):\n",
      " #   Column     Non-Null Count  Dtype  \n",
      "---  ------     --------------  -----  \n",
      " 0   NO         3912 non-null   float64\n",
      " 1   기업명        3912 non-null   object \n",
      " 2   기업코드       3912 non-null   float64\n",
      " 3   ESG등급      3912 non-null   object \n",
      " 4   환경         3912 non-null   object \n",
      " 5   사회         3912 non-null   object \n",
      " 6   지배구조       3912 non-null   object \n",
      " 7   평가년도       3912 non-null   float64\n",
      " 8   ESG 등급조정   44 non-null     object \n",
      " 9   환경 등급조정    11 non-null     object \n",
      " 10  사회 등급조정    74 non-null     object \n",
      " 11  지배구조 등급조정  63 non-null     object \n",
      "dtypes: float64(3), object(9)\n",
      "memory usage: 397.3+ KB\n"
     ]
    }
   ],
   "source": [
    "filtered_data.info()"
   ]
  },
  {
   "cell_type": "code",
   "execution_count": 9,
   "metadata": {},
   "outputs": [
    {
     "data": {
      "text/plain": [
       "877"
      ]
     },
     "execution_count": 9,
     "metadata": {},
     "output_type": "execute_result"
    }
   ],
   "source": [
    "filtered_data_year = filtered_data.groupby('기업코드').filter(lambda x: x['평가년도'].nunique() > 3)\n",
    "filtered_data_year['기업코드'].nunique()"
   ]
  },
  {
   "cell_type": "code",
   "execution_count": 10,
   "metadata": {},
   "outputs": [],
   "source": [
    "finance_data['기업코드'] = finance_data['Ticker'].str.extract('(\\d+)', expand=False)  # Extract numeric part of the ticker\n",
    "finance_data['기업코드'] = finance_data['기업코드'].astype(float)\n",
    "finance_data['평가년도'] = finance_data['회계년'].astype(float)\n",
    "\n",
    "filtered_data_year['기업코드'] = filtered_data_year['기업코드'].astype(float)\n",
    "filtered_data_year['평가년도'] = filtered_data_year['평가년도'].astype(float)\n",
    "\n",
    "marketcap_data['기업코드'] = marketcap_data['Ticker'].str.extract('(\\d+)', expand=False)  # Extract numeric part of the ticker\n",
    "marketcap_data['기업코드'] = marketcap_data['기업코드'].astype(float)\n",
    "marketcap_data['평가년도'] = marketcap_data['회계년'].astype(float)"
   ]
  },
  {
   "cell_type": "code",
   "execution_count": 11,
   "metadata": {},
   "outputs": [
    {
     "data": {
      "text/html": [
       "<div>\n",
       "<style scoped>\n",
       "    .dataframe tbody tr th:only-of-type {\n",
       "        vertical-align: middle;\n",
       "    }\n",
       "\n",
       "    .dataframe tbody tr th {\n",
       "        vertical-align: top;\n",
       "    }\n",
       "\n",
       "    .dataframe thead th {\n",
       "        text-align: right;\n",
       "    }\n",
       "</style>\n",
       "<table border=\"1\" class=\"dataframe\">\n",
       "  <thead>\n",
       "    <tr style=\"text-align: right;\">\n",
       "      <th></th>\n",
       "      <th>NO</th>\n",
       "      <th>기업명</th>\n",
       "      <th>기업코드</th>\n",
       "      <th>ESG등급</th>\n",
       "      <th>환경</th>\n",
       "      <th>사회</th>\n",
       "      <th>지배구조</th>\n",
       "      <th>평가년도</th>\n",
       "      <th>ESG 등급조정</th>\n",
       "      <th>환경 등급조정</th>\n",
       "      <th>사회 등급조정</th>\n",
       "      <th>지배구조 등급조정</th>\n",
       "    </tr>\n",
       "  </thead>\n",
       "  <tbody>\n",
       "    <tr>\n",
       "      <th>5</th>\n",
       "      <td>10985.0</td>\n",
       "      <td>AJ네트웍스</td>\n",
       "      <td>95570.0</td>\n",
       "      <td>B</td>\n",
       "      <td>D</td>\n",
       "      <td>B</td>\n",
       "      <td>B</td>\n",
       "      <td>2020.0</td>\n",
       "      <td>NaN</td>\n",
       "      <td>NaN</td>\n",
       "      <td>NaN</td>\n",
       "      <td>NaN</td>\n",
       "    </tr>\n",
       "    <tr>\n",
       "      <th>6</th>\n",
       "      <td>10984.0</td>\n",
       "      <td>AJ네트웍스</td>\n",
       "      <td>95570.0</td>\n",
       "      <td>B+</td>\n",
       "      <td>C</td>\n",
       "      <td>B+</td>\n",
       "      <td>B+</td>\n",
       "      <td>2021.0</td>\n",
       "      <td>NaN</td>\n",
       "      <td>NaN</td>\n",
       "      <td>NaN</td>\n",
       "      <td>NaN</td>\n",
       "    </tr>\n",
       "    <tr>\n",
       "      <th>7</th>\n",
       "      <td>10983.0</td>\n",
       "      <td>AJ네트웍스</td>\n",
       "      <td>95570.0</td>\n",
       "      <td>B+</td>\n",
       "      <td>C</td>\n",
       "      <td>A</td>\n",
       "      <td>B+</td>\n",
       "      <td>2022.0</td>\n",
       "      <td>NaN</td>\n",
       "      <td>NaN</td>\n",
       "      <td>NaN</td>\n",
       "      <td>NaN</td>\n",
       "    </tr>\n",
       "    <tr>\n",
       "      <th>8</th>\n",
       "      <td>10982.0</td>\n",
       "      <td>AJ네트웍스</td>\n",
       "      <td>95570.0</td>\n",
       "      <td>B+</td>\n",
       "      <td>C</td>\n",
       "      <td>A</td>\n",
       "      <td>B+</td>\n",
       "      <td>2023.0</td>\n",
       "      <td>NaN</td>\n",
       "      <td>NaN</td>\n",
       "      <td>NaN</td>\n",
       "      <td>NaN</td>\n",
       "    </tr>\n",
       "    <tr>\n",
       "      <th>24</th>\n",
       "      <td>10966.0</td>\n",
       "      <td>AK홀딩스</td>\n",
       "      <td>6840.0</td>\n",
       "      <td>B+</td>\n",
       "      <td>B</td>\n",
       "      <td>B+</td>\n",
       "      <td>B+</td>\n",
       "      <td>2020.0</td>\n",
       "      <td>NaN</td>\n",
       "      <td>NaN</td>\n",
       "      <td>NaN</td>\n",
       "      <td>NaN</td>\n",
       "    </tr>\n",
       "    <tr>\n",
       "      <th>...</th>\n",
       "      <td>...</td>\n",
       "      <td>...</td>\n",
       "      <td>...</td>\n",
       "      <td>...</td>\n",
       "      <td>...</td>\n",
       "      <td>...</td>\n",
       "      <td>...</td>\n",
       "      <td>...</td>\n",
       "      <td>...</td>\n",
       "      <td>...</td>\n",
       "      <td>...</td>\n",
       "      <td>...</td>\n",
       "    </tr>\n",
       "    <tr>\n",
       "      <th>10976</th>\n",
       "      <td>14.0</td>\n",
       "      <td>흥국화재</td>\n",
       "      <td>540.0</td>\n",
       "      <td>B+</td>\n",
       "      <td>C</td>\n",
       "      <td>B+</td>\n",
       "      <td>B+</td>\n",
       "      <td>2023.0</td>\n",
       "      <td>NaN</td>\n",
       "      <td>NaN</td>\n",
       "      <td>NaN</td>\n",
       "      <td>NaN</td>\n",
       "    </tr>\n",
       "    <tr>\n",
       "      <th>10986</th>\n",
       "      <td>4.0</td>\n",
       "      <td>흥아해운</td>\n",
       "      <td>3280.0</td>\n",
       "      <td>D</td>\n",
       "      <td>D</td>\n",
       "      <td>C</td>\n",
       "      <td>D</td>\n",
       "      <td>2020.0</td>\n",
       "      <td>NaN</td>\n",
       "      <td>NaN</td>\n",
       "      <td>NaN</td>\n",
       "      <td>NaN</td>\n",
       "    </tr>\n",
       "    <tr>\n",
       "      <th>10987</th>\n",
       "      <td>3.0</td>\n",
       "      <td>흥아해운</td>\n",
       "      <td>3280.0</td>\n",
       "      <td>C</td>\n",
       "      <td>C</td>\n",
       "      <td>B</td>\n",
       "      <td>C</td>\n",
       "      <td>2021.0</td>\n",
       "      <td>NaN</td>\n",
       "      <td>NaN</td>\n",
       "      <td>NaN</td>\n",
       "      <td>NaN</td>\n",
       "    </tr>\n",
       "    <tr>\n",
       "      <th>10988</th>\n",
       "      <td>2.0</td>\n",
       "      <td>흥아해운</td>\n",
       "      <td>3280.0</td>\n",
       "      <td>B</td>\n",
       "      <td>B</td>\n",
       "      <td>B+</td>\n",
       "      <td>B</td>\n",
       "      <td>2022.0</td>\n",
       "      <td>NaN</td>\n",
       "      <td>NaN</td>\n",
       "      <td>NaN</td>\n",
       "      <td>NaN</td>\n",
       "    </tr>\n",
       "    <tr>\n",
       "      <th>10989</th>\n",
       "      <td>1.0</td>\n",
       "      <td>흥아해운</td>\n",
       "      <td>3280.0</td>\n",
       "      <td>B</td>\n",
       "      <td>B</td>\n",
       "      <td>B+</td>\n",
       "      <td>B</td>\n",
       "      <td>2023.0</td>\n",
       "      <td>NaN</td>\n",
       "      <td>NaN</td>\n",
       "      <td>NaN</td>\n",
       "      <td>NaN</td>\n",
       "    </tr>\n",
       "  </tbody>\n",
       "</table>\n",
       "<p>3508 rows × 12 columns</p>\n",
       "</div>"
      ],
      "text/plain": [
       "            NO     기업명     기업코드 ESG등급 환경  사회 지배구조    평가년도 ESG 등급조정 환경 등급조정  \\\n",
       "5      10985.0  AJ네트웍스  95570.0     B  D   B    B  2020.0      NaN     NaN   \n",
       "6      10984.0  AJ네트웍스  95570.0    B+  C  B+   B+  2021.0      NaN     NaN   \n",
       "7      10983.0  AJ네트웍스  95570.0    B+  C   A   B+  2022.0      NaN     NaN   \n",
       "8      10982.0  AJ네트웍스  95570.0    B+  C   A   B+  2023.0      NaN     NaN   \n",
       "24     10966.0   AK홀딩스   6840.0    B+  B  B+   B+  2020.0      NaN     NaN   \n",
       "...        ...     ...      ...   ... ..  ..  ...     ...      ...     ...   \n",
       "10976     14.0    흥국화재    540.0    B+  C  B+   B+  2023.0      NaN     NaN   \n",
       "10986      4.0    흥아해운   3280.0     D  D   C    D  2020.0      NaN     NaN   \n",
       "10987      3.0    흥아해운   3280.0     C  C   B    C  2021.0      NaN     NaN   \n",
       "10988      2.0    흥아해운   3280.0     B  B  B+    B  2022.0      NaN     NaN   \n",
       "10989      1.0    흥아해운   3280.0     B  B  B+    B  2023.0      NaN     NaN   \n",
       "\n",
       "      사회 등급조정 지배구조 등급조정  \n",
       "5         NaN       NaN  \n",
       "6         NaN       NaN  \n",
       "7         NaN       NaN  \n",
       "8         NaN       NaN  \n",
       "24        NaN       NaN  \n",
       "...       ...       ...  \n",
       "10976     NaN       NaN  \n",
       "10986     NaN       NaN  \n",
       "10987     NaN       NaN  \n",
       "10988     NaN       NaN  \n",
       "10989     NaN       NaN  \n",
       "\n",
       "[3508 rows x 12 columns]"
      ]
     },
     "execution_count": 11,
     "metadata": {},
     "output_type": "execute_result"
    }
   ],
   "source": [
    "# shift\n",
    "filtered_data_year['평가년도'] = filtered_data_year['평가년도'] - 1\n",
    "filtered_data_year"
   ]
  },
  {
   "cell_type": "markdown",
   "metadata": {},
   "source": [
    "# 병합"
   ]
  },
  {
   "cell_type": "code",
   "execution_count": 12,
   "metadata": {},
   "outputs": [],
   "source": [
    "merged_finance_esg = pd.merge(\n",
    "    finance_data,\n",
    "    filtered_data_year,\n",
    "    left_on=['기업코드', '평가년도'],\n",
    "    right_on=['기업코드', '평가년도'],\n",
    "    how='inner'\n",
    ")"
   ]
  },
  {
   "cell_type": "code",
   "execution_count": 13,
   "metadata": {},
   "outputs": [],
   "source": [
    "merged_total = pd.merge(\n",
    "    merged_finance_esg,\n",
    "    marketcap_data,\n",
    "    left_on=['기업코드', '평가년도'],\n",
    "    right_on=['기업코드', '평가년도'],\n",
    "    how='inner'\n",
    ")"
   ]
  },
  {
   "cell_type": "code",
   "execution_count": 14,
   "metadata": {},
   "outputs": [
    {
     "name": "stdout",
     "output_type": "stream",
     "text": [
      "3496\n",
      "874\n"
     ]
    }
   ],
   "source": [
    "# 평가년도가 4개 이상인 기업코드만 필터링\n",
    "merged_total = merged_total.groupby('기업코드').filter(lambda x: x['평가년도'].nunique() > 3)\n",
    "print(len(merged_total))\n",
    "print(merged_total['기업코드'].nunique())"
   ]
  },
  {
   "cell_type": "code",
   "execution_count": 15,
   "metadata": {},
   "outputs": [
    {
     "name": "stdout",
     "output_type": "stream",
     "text": [
      "<class 'pandas.core.frame.DataFrame'>\n",
      "Index: 3496 entries, 0 to 3495\n",
      "Data columns (total 40 columns):\n",
      " #   Column            Non-Null Count  Dtype  \n",
      "---  ------            --------------  -----  \n",
      " 0   Unnamed: 0_x      3496 non-null   int64  \n",
      " 1   Symbol            3496 non-null   object \n",
      " 2   Ticker_x          3496 non-null   object \n",
      " 3   Name              3496 non-null   object \n",
      " 4   종목명 (Full)        3496 non-null   object \n",
      " 5   기업명 (한글)          3496 non-null   object \n",
      " 6   거래소 업종            3484 non-null   object \n",
      " 7   거래소 업종코드          3484 non-null   object \n",
      " 8   결산월               3496 non-null   int64  \n",
      " 9   회계년_x             3496 non-null   int64  \n",
      " 10  주기                3496 non-null   object \n",
      " 11  자기자본비율(%)         3496 non-null   object \n",
      " 12  차입금의존도(%)         3496 non-null   float64\n",
      " 13  총부채(천원)           3496 non-null   float64\n",
      " 14  영업이익률(%)          3496 non-null   float64\n",
      " 15  매출액(천원)           3496 non-null   float64\n",
      " 16  총자본회전율(회)         3496 non-null   object \n",
      " 17  영업활동으로인한현금흐름(천원)  3496 non-null   float64\n",
      " 18  당좌자산(천원)          3288 non-null   float64\n",
      " 19  유동부채(천원)          3288 non-null   float64\n",
      " 20  ROA(당기순이익)(%)     3496 non-null   object \n",
      " 21  신용등급 (채권, NICE)   882 non-null    object \n",
      " 22  신용등급 (CP, NICE)   515 non-null    object \n",
      " 23  기업코드              3496 non-null   float64\n",
      " 24  평가년도              3496 non-null   float64\n",
      " 25  NO                3496 non-null   float64\n",
      " 26  기업명               3496 non-null   object \n",
      " 27  ESG등급             3496 non-null   object \n",
      " 28  환경                3496 non-null   object \n",
      " 29  사회                3496 non-null   object \n",
      " 30  지배구조              3496 non-null   object \n",
      " 31  ESG 등급조정          43 non-null     object \n",
      " 32  환경 등급조정           11 non-null     object \n",
      " 33  사회 등급조정           69 non-null     object \n",
      " 34  지배구조 등급조정         60 non-null     object \n",
      " 35  Unnamed: 0_y      3496 non-null   int64  \n",
      " 36  Ticker_y          3496 non-null   object \n",
      " 37  회계년_y             3496 non-null   int64  \n",
      " 38  시가총액(백만원)         3496 non-null   float64\n",
      " 39  WACC(시가총액평균)(%)   3277 non-null   object \n",
      "dtypes: float64(11), int64(5), object(24)\n",
      "memory usage: 1.1+ MB\n"
     ]
    }
   ],
   "source": [
    "merged_total.info()"
   ]
  },
  {
   "cell_type": "markdown",
   "metadata": {},
   "source": [
    "# 병합된 Dataframe 전처리"
   ]
  },
  {
   "cell_type": "code",
   "execution_count": 16,
   "metadata": {},
   "outputs": [],
   "source": [
    "merged_total = merged_total.drop(columns=['Unnamed: 0_x', 'Symbol', '주기', '기업코드', '평가년도', 'NO',\n",
    "                                          '기업명', 'ESG 등급조정', '환경 등급조정', '사회 등급조정',\n",
    "                                          '지배구조 등급조정','Unnamed: 0_y', 'Ticker_y', '회계년_y'])\n",
    "merged_total = merged_total.rename(columns={'Ticker_x': 'Ticker', '회계년_x': '회계년'})"
   ]
  },
  {
   "cell_type": "code",
   "execution_count": 17,
   "metadata": {},
   "outputs": [
    {
     "data": {
      "text/plain": [
       "Index(['Ticker', 'Name', '종목명 (Full)', '기업명 (한글)', '거래소 업종', '거래소 업종코드', '결산월',\n",
       "       '회계년', '자기자본비율(%)', '차입금의존도(%)', '총부채(천원)', '영업이익률(%)', '매출액(천원)',\n",
       "       '총자본회전율(회)', '영업활동으로인한현금흐름(천원)', '당좌자산(천원)', '유동부채(천원)',\n",
       "       'ROA(당기순이익)(%)', '신용등급 (채권, NICE)', '신용등급 (CP, NICE)', 'ESG등급', '환경',\n",
       "       '사회', '지배구조', '시가총액(백만원)', 'WACC(시가총액평균)(%)'],\n",
       "      dtype='object')"
      ]
     },
     "execution_count": 17,
     "metadata": {},
     "output_type": "execute_result"
    }
   ],
   "source": [
    "merged_total.columns"
   ]
  },
  {
   "cell_type": "code",
   "execution_count": 18,
   "metadata": {},
   "outputs": [],
   "source": [
    "# Step 1: Remove rows with any NaN values in the selected columns\n",
    "columns_to_remove = [\n",
    "    '자기자본비율(%)', '차입금의존도(%)', '총부채(천원)', '영업이익률(%)', '매출액(천원)', \n",
    "    '총자본회전율(회)', '영업활동으로인한현금흐름(천원)', '당좌자산(천원)', '유동부채(천원)', 'ROA(당기순이익)(%)','WACC(시가총액평균)(%)'\n",
    "]\n",
    "cleaned_data = merged_total.dropna(subset=columns_to_remove)"
   ]
  },
  {
   "cell_type": "code",
   "execution_count": 19,
   "metadata": {},
   "outputs": [],
   "source": [
    "valid_companies = cleaned_data.groupby('Ticker')['회계년'].nunique()\n",
    "valid_companies = valid_companies[valid_companies > 3].index\n",
    "\n",
    "# Filter the dataset to include only companies with more than 4 year of data\n",
    "cleaned_data = cleaned_data[cleaned_data['Ticker'].isin(valid_companies)]"
   ]
  },
  {
   "cell_type": "code",
   "execution_count": 20,
   "metadata": {},
   "outputs": [
    {
     "data": {
      "text/html": [
       "<div>\n",
       "<style scoped>\n",
       "    .dataframe tbody tr th:only-of-type {\n",
       "        vertical-align: middle;\n",
       "    }\n",
       "\n",
       "    .dataframe tbody tr th {\n",
       "        vertical-align: top;\n",
       "    }\n",
       "\n",
       "    .dataframe thead th {\n",
       "        text-align: right;\n",
       "    }\n",
       "</style>\n",
       "<table border=\"1\" class=\"dataframe\">\n",
       "  <thead>\n",
       "    <tr style=\"text-align: right;\">\n",
       "      <th></th>\n",
       "      <th>Ticker</th>\n",
       "      <th>Name</th>\n",
       "      <th>종목명 (Full)</th>\n",
       "      <th>기업명 (한글)</th>\n",
       "      <th>거래소 업종</th>\n",
       "      <th>거래소 업종코드</th>\n",
       "      <th>결산월</th>\n",
       "      <th>회계년</th>\n",
       "      <th>자기자본비율(%)</th>\n",
       "      <th>차입금의존도(%)</th>\n",
       "      <th>...</th>\n",
       "      <th>유동부채(천원)</th>\n",
       "      <th>ROA(당기순이익)(%)</th>\n",
       "      <th>신용등급 (채권, NICE)</th>\n",
       "      <th>신용등급 (CP, NICE)</th>\n",
       "      <th>ESG등급</th>\n",
       "      <th>환경</th>\n",
       "      <th>사회</th>\n",
       "      <th>지배구조</th>\n",
       "      <th>시가총액(백만원)</th>\n",
       "      <th>WACC(시가총액평균)(%)</th>\n",
       "    </tr>\n",
       "  </thead>\n",
       "  <tbody>\n",
       "    <tr>\n",
       "      <th>0</th>\n",
       "      <td>A005930</td>\n",
       "      <td>삼성전자</td>\n",
       "      <td>삼성전자보통주</td>\n",
       "      <td>삼성전자(주)</td>\n",
       "      <td>코스피 전기·전자</td>\n",
       "      <td>I.013</td>\n",
       "      <td>12</td>\n",
       "      <td>2020</td>\n",
       "      <td>79.82</td>\n",
       "      <td>5.57</td>\n",
       "      <td>...</td>\n",
       "      <td>4.441290e+10</td>\n",
       "      <td>7</td>\n",
       "      <td>NaN</td>\n",
       "      <td>NaN</td>\n",
       "      <td>B+</td>\n",
       "      <td>A</td>\n",
       "      <td>A+</td>\n",
       "      <td>B</td>\n",
       "      <td>544116848.0</td>\n",
       "      <td>7.18</td>\n",
       "    </tr>\n",
       "    <tr>\n",
       "      <th>1</th>\n",
       "      <td>A005930</td>\n",
       "      <td>삼성전자</td>\n",
       "      <td>삼성전자보통주</td>\n",
       "      <td>삼성전자(주)</td>\n",
       "      <td>코스피 전기·전자</td>\n",
       "      <td>I.013</td>\n",
       "      <td>12</td>\n",
       "      <td>2021</td>\n",
       "      <td>76.94</td>\n",
       "      <td>3.90</td>\n",
       "      <td>...</td>\n",
       "      <td>5.306730e+10</td>\n",
       "      <td>12.88</td>\n",
       "      <td>NaN</td>\n",
       "      <td>NaN</td>\n",
       "      <td>A</td>\n",
       "      <td>A</td>\n",
       "      <td>A+</td>\n",
       "      <td>B+</td>\n",
       "      <td>526023507.0</td>\n",
       "      <td>8.25</td>\n",
       "    </tr>\n",
       "    <tr>\n",
       "      <th>2</th>\n",
       "      <td>A005930</td>\n",
       "      <td>삼성전자</td>\n",
       "      <td>삼성전자보통주</td>\n",
       "      <td>삼성전자(주)</td>\n",
       "      <td>코스피 전기·전자</td>\n",
       "      <td>I.013</td>\n",
       "      <td>12</td>\n",
       "      <td>2022</td>\n",
       "      <td>80.52</td>\n",
       "      <td>1.23</td>\n",
       "      <td>...</td>\n",
       "      <td>4.608605e+10</td>\n",
       "      <td>9.94</td>\n",
       "      <td>NaN</td>\n",
       "      <td>NaN</td>\n",
       "      <td>A</td>\n",
       "      <td>A</td>\n",
       "      <td>A+</td>\n",
       "      <td>B+</td>\n",
       "      <td>371684753.0</td>\n",
       "      <td>9.39</td>\n",
       "    </tr>\n",
       "    <tr>\n",
       "      <th>3</th>\n",
       "      <td>A005930</td>\n",
       "      <td>삼성전자</td>\n",
       "      <td>삼성전자보통주</td>\n",
       "      <td>삼성전자(주)</td>\n",
       "      <td>코스피 전기·전자</td>\n",
       "      <td>I.013</td>\n",
       "      <td>12</td>\n",
       "      <td>2023</td>\n",
       "      <td>75.72</td>\n",
       "      <td>9.69</td>\n",
       "      <td>...</td>\n",
       "      <td>4.177510e+10</td>\n",
       "      <td>9.12</td>\n",
       "      <td>NaN</td>\n",
       "      <td>NaN</td>\n",
       "      <td>B+</td>\n",
       "      <td>B+</td>\n",
       "      <td>A</td>\n",
       "      <td>B</td>\n",
       "      <td>519893771.0</td>\n",
       "      <td>8.52</td>\n",
       "    </tr>\n",
       "    <tr>\n",
       "      <th>4</th>\n",
       "      <td>A000660</td>\n",
       "      <td>SK하이닉스</td>\n",
       "      <td>에스케이하이닉스보통주</td>\n",
       "      <td>에스케이하이닉스(주)</td>\n",
       "      <td>코스피 전기·전자</td>\n",
       "      <td>I.013</td>\n",
       "      <td>12</td>\n",
       "      <td>2020</td>\n",
       "      <td>77.37</td>\n",
       "      <td>12.78</td>\n",
       "      <td>...</td>\n",
       "      <td>7.488366e+09</td>\n",
       "      <td>6.9</td>\n",
       "      <td>AA</td>\n",
       "      <td>A1</td>\n",
       "      <td>A</td>\n",
       "      <td>B+</td>\n",
       "      <td>A+</td>\n",
       "      <td>A</td>\n",
       "      <td>86268280.0</td>\n",
       "      <td>7.17</td>\n",
       "    </tr>\n",
       "    <tr>\n",
       "      <th>...</th>\n",
       "      <td>...</td>\n",
       "      <td>...</td>\n",
       "      <td>...</td>\n",
       "      <td>...</td>\n",
       "      <td>...</td>\n",
       "      <td>...</td>\n",
       "      <td>...</td>\n",
       "      <td>...</td>\n",
       "      <td>...</td>\n",
       "      <td>...</td>\n",
       "      <td>...</td>\n",
       "      <td>...</td>\n",
       "      <td>...</td>\n",
       "      <td>...</td>\n",
       "      <td>...</td>\n",
       "      <td>...</td>\n",
       "      <td>...</td>\n",
       "      <td>...</td>\n",
       "      <td>...</td>\n",
       "      <td>...</td>\n",
       "      <td>...</td>\n",
       "    </tr>\n",
       "    <tr>\n",
       "      <th>3491</th>\n",
       "      <td>A001770</td>\n",
       "      <td>SHD</td>\n",
       "      <td>SHD보통주</td>\n",
       "      <td>(주)신화다이나믹스</td>\n",
       "      <td>코스피 금속</td>\n",
       "      <td>I.011</td>\n",
       "      <td>12</td>\n",
       "      <td>2023</td>\n",
       "      <td>60.48</td>\n",
       "      <td>14.16</td>\n",
       "      <td>...</td>\n",
       "      <td>3.308929e+07</td>\n",
       "      <td>0.13</td>\n",
       "      <td>NaN</td>\n",
       "      <td>NaN</td>\n",
       "      <td>D</td>\n",
       "      <td>D</td>\n",
       "      <td>D</td>\n",
       "      <td>C</td>\n",
       "      <td>25695.0</td>\n",
       "      <td>5.38</td>\n",
       "    </tr>\n",
       "    <tr>\n",
       "      <th>3492</th>\n",
       "      <td>A008500</td>\n",
       "      <td>일정실업</td>\n",
       "      <td>일정실업보통주</td>\n",
       "      <td>일정실업(주)</td>\n",
       "      <td>코스피 섬유·의류</td>\n",
       "      <td>I.006</td>\n",
       "      <td>12</td>\n",
       "      <td>2020</td>\n",
       "      <td>47.25</td>\n",
       "      <td>38.84</td>\n",
       "      <td>...</td>\n",
       "      <td>9.444573e+06</td>\n",
       "      <td>-31.84</td>\n",
       "      <td>NaN</td>\n",
       "      <td>NaN</td>\n",
       "      <td>C</td>\n",
       "      <td>C</td>\n",
       "      <td>C</td>\n",
       "      <td>C</td>\n",
       "      <td>22080.0</td>\n",
       "      <td>3.19</td>\n",
       "    </tr>\n",
       "    <tr>\n",
       "      <th>3493</th>\n",
       "      <td>A008500</td>\n",
       "      <td>일정실업</td>\n",
       "      <td>일정실업보통주</td>\n",
       "      <td>일정실업(주)</td>\n",
       "      <td>코스피 섬유·의류</td>\n",
       "      <td>I.006</td>\n",
       "      <td>12</td>\n",
       "      <td>2021</td>\n",
       "      <td>38.49</td>\n",
       "      <td>44.24</td>\n",
       "      <td>...</td>\n",
       "      <td>1.757923e+07</td>\n",
       "      <td>-13.96</td>\n",
       "      <td>NaN</td>\n",
       "      <td>NaN</td>\n",
       "      <td>D</td>\n",
       "      <td>D</td>\n",
       "      <td>D</td>\n",
       "      <td>C</td>\n",
       "      <td>43680.0</td>\n",
       "      <td>4.18</td>\n",
       "    </tr>\n",
       "    <tr>\n",
       "      <th>3494</th>\n",
       "      <td>A008500</td>\n",
       "      <td>일정실업</td>\n",
       "      <td>일정실업보통주</td>\n",
       "      <td>일정실업(주)</td>\n",
       "      <td>코스피 섬유·의류</td>\n",
       "      <td>I.006</td>\n",
       "      <td>12</td>\n",
       "      <td>2022</td>\n",
       "      <td>23.3</td>\n",
       "      <td>61.77</td>\n",
       "      <td>...</td>\n",
       "      <td>2.489083e+07</td>\n",
       "      <td>-16.55</td>\n",
       "      <td>NaN</td>\n",
       "      <td>NaN</td>\n",
       "      <td>D</td>\n",
       "      <td>D</td>\n",
       "      <td>D</td>\n",
       "      <td>C</td>\n",
       "      <td>19680.0</td>\n",
       "      <td>6.1</td>\n",
       "    </tr>\n",
       "    <tr>\n",
       "      <th>3495</th>\n",
       "      <td>A008500</td>\n",
       "      <td>일정실업</td>\n",
       "      <td>일정실업보통주</td>\n",
       "      <td>일정실업(주)</td>\n",
       "      <td>코스피 섬유·의류</td>\n",
       "      <td>I.006</td>\n",
       "      <td>12</td>\n",
       "      <td>2023</td>\n",
       "      <td>19.38</td>\n",
       "      <td>62.91</td>\n",
       "      <td>...</td>\n",
       "      <td>1.860554e+07</td>\n",
       "      <td>-4.86</td>\n",
       "      <td>NaN</td>\n",
       "      <td>NaN</td>\n",
       "      <td>D</td>\n",
       "      <td>D</td>\n",
       "      <td>D</td>\n",
       "      <td>D</td>\n",
       "      <td>15480.0</td>\n",
       "      <td>4.17</td>\n",
       "    </tr>\n",
       "  </tbody>\n",
       "</table>\n",
       "<p>3244 rows × 26 columns</p>\n",
       "</div>"
      ],
      "text/plain": [
       "       Ticker    Name   종목명 (Full)     기업명 (한글)     거래소 업종 거래소 업종코드  결산월  \\\n",
       "0     A005930    삼성전자      삼성전자보통주      삼성전자(주)  코스피 전기·전자    I.013   12   \n",
       "1     A005930    삼성전자      삼성전자보통주      삼성전자(주)  코스피 전기·전자    I.013   12   \n",
       "2     A005930    삼성전자      삼성전자보통주      삼성전자(주)  코스피 전기·전자    I.013   12   \n",
       "3     A005930    삼성전자      삼성전자보통주      삼성전자(주)  코스피 전기·전자    I.013   12   \n",
       "4     A000660  SK하이닉스  에스케이하이닉스보통주  에스케이하이닉스(주)  코스피 전기·전자    I.013   12   \n",
       "...       ...     ...          ...          ...        ...      ...  ...   \n",
       "3491  A001770     SHD       SHD보통주   (주)신화다이나믹스     코스피 금속    I.011   12   \n",
       "3492  A008500    일정실업      일정실업보통주      일정실업(주)  코스피 섬유·의류    I.006   12   \n",
       "3493  A008500    일정실업      일정실업보통주      일정실업(주)  코스피 섬유·의류    I.006   12   \n",
       "3494  A008500    일정실업      일정실업보통주      일정실업(주)  코스피 섬유·의류    I.006   12   \n",
       "3495  A008500    일정실업      일정실업보통주      일정실업(주)  코스피 섬유·의류    I.006   12   \n",
       "\n",
       "       회계년 자기자본비율(%)  차입금의존도(%)  ...      유동부채(천원)  ROA(당기순이익)(%)  \\\n",
       "0     2020     79.82       5.57  ...  4.441290e+10              7   \n",
       "1     2021     76.94       3.90  ...  5.306730e+10          12.88   \n",
       "2     2022     80.52       1.23  ...  4.608605e+10           9.94   \n",
       "3     2023     75.72       9.69  ...  4.177510e+10           9.12   \n",
       "4     2020     77.37      12.78  ...  7.488366e+09            6.9   \n",
       "...    ...       ...        ...  ...           ...            ...   \n",
       "3491  2023     60.48      14.16  ...  3.308929e+07           0.13   \n",
       "3492  2020     47.25      38.84  ...  9.444573e+06         -31.84   \n",
       "3493  2021     38.49      44.24  ...  1.757923e+07         -13.96   \n",
       "3494  2022      23.3      61.77  ...  2.489083e+07         -16.55   \n",
       "3495  2023     19.38      62.91  ...  1.860554e+07          -4.86   \n",
       "\n",
       "      신용등급 (채권, NICE) 신용등급 (CP, NICE)  ESG등급  환경  사회 지배구조    시가총액(백만원)  \\\n",
       "0                 NaN             NaN     B+   A  A+    B  544116848.0   \n",
       "1                 NaN             NaN      A   A  A+   B+  526023507.0   \n",
       "2                 NaN             NaN      A   A  A+   B+  371684753.0   \n",
       "3                 NaN             NaN     B+  B+   A    B  519893771.0   \n",
       "4                  AA              A1      A  B+  A+    A   86268280.0   \n",
       "...               ...             ...    ...  ..  ..  ...          ...   \n",
       "3491              NaN             NaN      D   D   D    C      25695.0   \n",
       "3492              NaN             NaN      C   C   C    C      22080.0   \n",
       "3493              NaN             NaN      D   D   D    C      43680.0   \n",
       "3494              NaN             NaN      D   D   D    C      19680.0   \n",
       "3495              NaN             NaN      D   D   D    D      15480.0   \n",
       "\n",
       "     WACC(시가총액평균)(%)  \n",
       "0               7.18  \n",
       "1               8.25  \n",
       "2               9.39  \n",
       "3               8.52  \n",
       "4               7.17  \n",
       "...              ...  \n",
       "3491            5.38  \n",
       "3492            3.19  \n",
       "3493            4.18  \n",
       "3494             6.1  \n",
       "3495            4.17  \n",
       "\n",
       "[3244 rows x 26 columns]"
      ]
     },
     "execution_count": 20,
     "metadata": {},
     "output_type": "execute_result"
    }
   ],
   "source": [
    "cleaned_data"
   ]
  },
  {
   "cell_type": "markdown",
   "metadata": {},
   "source": [
    "# 코스피 기업만 뽑기"
   ]
  },
  {
   "cell_type": "code",
   "execution_count": 21,
   "metadata": {},
   "outputs": [
    {
     "name": "stdout",
     "output_type": "stream",
     "text": [
      "<class 'pandas.core.frame.DataFrame'>\n",
      "Index: 3244 entries, 0 to 3495\n",
      "Data columns (total 26 columns):\n",
      " #   Column            Non-Null Count  Dtype  \n",
      "---  ------            --------------  -----  \n",
      " 0   Ticker            3244 non-null   object \n",
      " 1   Name              3244 non-null   object \n",
      " 2   종목명 (Full)        3244 non-null   object \n",
      " 3   기업명 (한글)          3244 non-null   object \n",
      " 4   거래소 업종            3232 non-null   object \n",
      " 5   거래소 업종코드          3232 non-null   object \n",
      " 6   결산월               3244 non-null   int64  \n",
      " 7   회계년               3244 non-null   int64  \n",
      " 8   자기자본비율(%)         3244 non-null   object \n",
      " 9   차입금의존도(%)         3244 non-null   float64\n",
      " 10  총부채(천원)           3244 non-null   float64\n",
      " 11  영업이익률(%)          3244 non-null   float64\n",
      " 12  매출액(천원)           3244 non-null   float64\n",
      " 13  총자본회전율(회)         3244 non-null   object \n",
      " 14  영업활동으로인한현금흐름(천원)  3244 non-null   float64\n",
      " 15  당좌자산(천원)          3244 non-null   float64\n",
      " 16  유동부채(천원)          3244 non-null   float64\n",
      " 17  ROA(당기순이익)(%)     3244 non-null   object \n",
      " 18  신용등급 (채권, NICE)   759 non-null    object \n",
      " 19  신용등급 (CP, NICE)   411 non-null    object \n",
      " 20  ESG등급             3244 non-null   object \n",
      " 21  환경                3244 non-null   object \n",
      " 22  사회                3244 non-null   object \n",
      " 23  지배구조              3244 non-null   object \n",
      " 24  시가총액(백만원)         3244 non-null   float64\n",
      " 25  WACC(시가총액평균)(%)   3244 non-null   object \n",
      "dtypes: float64(8), int64(2), object(16)\n",
      "memory usage: 684.3+ KB\n"
     ]
    }
   ],
   "source": [
    "cleaned_data.info()"
   ]
  },
  {
   "cell_type": "code",
   "execution_count": 22,
   "metadata": {},
   "outputs": [
    {
     "data": {
      "text/plain": [
       "811"
      ]
     },
     "execution_count": 22,
     "metadata": {},
     "output_type": "execute_result"
    }
   ],
   "source": [
    "cleaned_data['Ticker'].nunique()"
   ]
  },
  {
   "cell_type": "code",
   "execution_count": 23,
   "metadata": {},
   "outputs": [
    {
     "data": {
      "text/plain": [
       "Index(['삼성전자', '선진', '유니켐', '신세계건설', '현대바이오랜드', '삼영', 'STX', '한국주철관', '유수홀딩스',\n",
       "       '효성ITX',\n",
       "       ...\n",
       "       '삼아알미늄', '비에이치', '한세실업', '진에어', 'HJ중공업', '세진중공업', '현대홈쇼핑', '디아이', '드림텍',\n",
       "       '일정실업'],\n",
       "      dtype='object', name='Name', length=811)"
      ]
     },
     "execution_count": 23,
     "metadata": {},
     "output_type": "execute_result"
    }
   ],
   "source": [
    "cleaned_data['Name'].value_counts().index"
   ]
  },
  {
   "cell_type": "code",
   "execution_count": 24,
   "metadata": {},
   "outputs": [
    {
     "data": {
      "text/plain": [
       "거래소 업종\n",
       "코스닥 IT 서비스        [펄어비스, 위메이드, SOOP, 안랩, 컴투스, 웹젠, 골프존, KG이니시스, 사...\n",
       "코스닥 건설                                    [LS마린솔루션, KCC건설, SGC E&C]\n",
       "코스닥 금속                                                      [포스코엠텍]\n",
       "코스닥 금융                                                    [NHN KCP]\n",
       "코스닥 기계·장비         [이오테크닉스, 주성엔지니어링, 원익IPS, 피엔티, 유진테크, 에스에프에이, 고영...\n",
       "코스닥 기타금융                                               [에코프로, 하림지주]\n",
       "코스닥 농업·임업 및 어업                                              [농우바이오]\n",
       "코스닥 비금속                                         [티씨케이, 삼표시멘트, 유진기업]\n",
       "코스닥 오락·문화         [JYP Ent., 에스엠, CJ ENM, 스튜디오드래곤, 와이지엔터테인먼트, 드림...\n",
       "코스닥 유통                                [다우데이타, CJ프레시웨이, 케이티알파, 코웰패션]\n",
       "코스닥 음식료·담배                                               [하림, 매일유업]\n",
       "코스닥 의료·정밀기기                                                  [클래시스]\n",
       "코스닥 일반서비스         [알테오젠, 리가켐바이오, 메지온, 솔브레인홀딩스, 아난티, 메가스터디교육, 지씨셀...\n",
       "코스닥 전기·전자         [에코프로비엠, 리노공업, 대주전자재료, 서진시스템, 덕산네오룩스, 에스앤에스텍, ...\n",
       "코스닥 제약            [HLB, 삼천당제약, 휴젤, 파마리서치, 셀트리온제약, 에스티팜, 에이비엘바이오,...\n",
       "코스닥 종이·목재                                                    [동화기업]\n",
       "코스닥 화학            [동진쎄미켐, 현대바이오, 천보, 상아프론테크, KG에코솔루션, 티케이케미칼, 현대...\n",
       "코스피 IT 서비스        [NAVER, 카카오, 삼성에스디에스, 넷마블, 엔씨소프트, 현대오토에버, 더존비즈...\n",
       "코스피 건설            [현대건설, 한전KPS, GS건설, 대우건설, HDC현대산업개발, 태영건설, HJ중...\n",
       "코스피 금속            [POSCO홀딩스, 고려아연, LIG넥스원, 현대제철, 씨에스윈드, 풍산, TCC스...\n",
       "코스피 금융            [HD한국조선해양, LG, SK, HD현대, 한진칼, 두산, LS, GS, CJ, ...\n",
       "코스피 기계·장비         [두산에너빌리티, 한미반도체, 두산밥캣, 한온시스템, 한화엔진, 현대엘리베이, HD...\n",
       "코스피 부동산                                       [SK디앤디, 자이에스앤디, 이스타코]\n",
       "코스피 비금속           [한일시멘트, 아이에스동서, 한일홀딩스, 아세아시멘트, 한일현대시멘트, CR홀딩스,...\n",
       "코스피 섬유·의류         [화승엔터프라이즈, 한세실업, LF, 조광피혁, 한섬, 제이에스코퍼레이션, 일신방직...\n",
       "코스피 오락·문화         [강원랜드, 파라다이스, CJ CGV, GKL, SBS, 스카이라이프, LG헬로비전...\n",
       "코스피 운송·창고         [HMM, 현대글로비스, 대한항공, 아시아나항공, CJ대한통운, 팬오션, 티웨이항공...\n",
       "코스피 운송장비·부품       [현대차, 기아, 현대모비스, 한화에어로스페이스, 한화오션, 삼성중공업, 현대로템,...\n",
       "코스피 유통            [삼성물산, 포스코인터내셔널, 휠라홀딩스, 동서, SK가스, 이마트, BGF리테일,...\n",
       "코스피 음식료·담배        [KT&G, 삼양식품, 오리온, CJ제일제당, 농심, 오뚜기, 하이트진로, 롯데칠성...\n",
       "코스피 의료·정밀기기                         [덴티움, 케이씨텍, 디아이, 케이씨, 우진, 미래산업]\n",
       "코스피 일반서비스         [코웨이, 삼성E&A, 포스코DX, 한전기술, 에스원, 제일기획, 하나투어, 이노션...\n",
       "코스피 전기·가스         [한국전력, 지역난방공사, 삼천리, SGC에너지, 서울가스, 대성에너지, 인천도시가...\n",
       "코스피 전기·전자         [삼성전자, SK하이닉스, 삼성SDI, HD현대일렉트릭, LG전자, 포스코퓨처엠, ...\n",
       "코스피 제약            [삼성바이오로직스, 셀트리온, 유한양행, 한미약품, 한올바이오파마, 녹십자, 대웅제...\n",
       "코스피 제조                  [지누스, 퍼시스, 이월드, 현대리바트, 삼익악기, 시디즈, 에넥스, 코아스]\n",
       "코스피 종이·목재         [아세아제지, 신대양제지, 한솔제지, 무림P&P, 대영포장, 한국제지, 페이퍼코리아...\n",
       "코스피 통신                                    [SK텔레콤, KT, LG유플러스, 인스코비]\n",
       "코스피 화학            [SK이노베이션, LG화학, S-Oil, 아모레퍼시픽, SKC, 한국타이어앤테크놀로...\n",
       "Name: Name, dtype: object"
      ]
     },
     "execution_count": 24,
     "metadata": {},
     "output_type": "execute_result"
    }
   ],
   "source": [
    "cleaned_data.groupby('거래소 업종')['Name'].unique()"
   ]
  },
  {
   "cell_type": "code",
   "execution_count": 25,
   "metadata": {},
   "outputs": [
    {
     "name": "stdout",
     "output_type": "stream",
     "text": [
      "<class 'pandas.core.frame.DataFrame'>\n",
      "Index: 3244 entries, 0 to 3495\n",
      "Data columns (total 26 columns):\n",
      " #   Column            Non-Null Count  Dtype  \n",
      "---  ------            --------------  -----  \n",
      " 0   Ticker            3244 non-null   object \n",
      " 1   Name              3244 non-null   object \n",
      " 2   종목명 (Full)        3244 non-null   object \n",
      " 3   기업명 (한글)          3244 non-null   object \n",
      " 4   거래소 업종            3232 non-null   object \n",
      " 5   거래소 업종코드          3232 non-null   object \n",
      " 6   결산월               3244 non-null   int64  \n",
      " 7   회계년               3244 non-null   int64  \n",
      " 8   자기자본비율(%)         3244 non-null   object \n",
      " 9   차입금의존도(%)         3244 non-null   float64\n",
      " 10  총부채(천원)           3244 non-null   float64\n",
      " 11  영업이익률(%)          3244 non-null   float64\n",
      " 12  매출액(천원)           3244 non-null   float64\n",
      " 13  총자본회전율(회)         3244 non-null   object \n",
      " 14  영업활동으로인한현금흐름(천원)  3244 non-null   float64\n",
      " 15  당좌자산(천원)          3244 non-null   float64\n",
      " 16  유동부채(천원)          3244 non-null   float64\n",
      " 17  ROA(당기순이익)(%)     3244 non-null   object \n",
      " 18  신용등급 (채권, NICE)   759 non-null    object \n",
      " 19  신용등급 (CP, NICE)   411 non-null    object \n",
      " 20  ESG등급             3244 non-null   object \n",
      " 21  환경                3244 non-null   object \n",
      " 22  사회                3244 non-null   object \n",
      " 23  지배구조              3244 non-null   object \n",
      " 24  시가총액(백만원)         3244 non-null   float64\n",
      " 25  WACC(시가총액평균)(%)   3244 non-null   object \n",
      "dtypes: float64(8), int64(2), object(16)\n",
      "memory usage: 684.3+ KB\n"
     ]
    }
   ],
   "source": [
    "cleaned_data.info()"
   ]
  },
  {
   "cell_type": "code",
   "execution_count": 26,
   "metadata": {},
   "outputs": [],
   "source": [
    "cleaned_data.loc[cleaned_data['Name'] == '사조산업', '거래소 업종'] = '코스피 농업·임업 및 어업'\n",
    "cleaned_data.loc[cleaned_data['Name'] == '신라교역', '거래소 업종'] = '코스피 농업·임업 및 어업'\n",
    "cleaned_data.loc[cleaned_data['Name'] == '동원수산', '거래소 업종'] = '코스피 농업·임업 및 어업'\n",
    "cleaned_data.loc[cleaned_data['Name'] == '사조산업', '거래소 업종코드'] = 'I.221'\n",
    "cleaned_data.loc[cleaned_data['Name'] == '신라교역', '거래소 업종코드'] = 'I.221'\n",
    "cleaned_data.loc[cleaned_data['Name'] == '동원수산', '거래소 업종코드'] = 'I.221'"
   ]
  },
  {
   "cell_type": "code",
   "execution_count": 27,
   "metadata": {},
   "outputs": [
    {
     "name": "stdout",
     "output_type": "stream",
     "text": [
      "<class 'pandas.core.frame.DataFrame'>\n",
      "Index: 3244 entries, 0 to 3495\n",
      "Data columns (total 26 columns):\n",
      " #   Column            Non-Null Count  Dtype  \n",
      "---  ------            --------------  -----  \n",
      " 0   Ticker            3244 non-null   object \n",
      " 1   Name              3244 non-null   object \n",
      " 2   종목명 (Full)        3244 non-null   object \n",
      " 3   기업명 (한글)          3244 non-null   object \n",
      " 4   거래소 업종            3244 non-null   object \n",
      " 5   거래소 업종코드          3244 non-null   object \n",
      " 6   결산월               3244 non-null   int64  \n",
      " 7   회계년               3244 non-null   int64  \n",
      " 8   자기자본비율(%)         3244 non-null   object \n",
      " 9   차입금의존도(%)         3244 non-null   float64\n",
      " 10  총부채(천원)           3244 non-null   float64\n",
      " 11  영업이익률(%)          3244 non-null   float64\n",
      " 12  매출액(천원)           3244 non-null   float64\n",
      " 13  총자본회전율(회)         3244 non-null   object \n",
      " 14  영업활동으로인한현금흐름(천원)  3244 non-null   float64\n",
      " 15  당좌자산(천원)          3244 non-null   float64\n",
      " 16  유동부채(천원)          3244 non-null   float64\n",
      " 17  ROA(당기순이익)(%)     3244 non-null   object \n",
      " 18  신용등급 (채권, NICE)   759 non-null    object \n",
      " 19  신용등급 (CP, NICE)   411 non-null    object \n",
      " 20  ESG등급             3244 non-null   object \n",
      " 21  환경                3244 non-null   object \n",
      " 22  사회                3244 non-null   object \n",
      " 23  지배구조              3244 non-null   object \n",
      " 24  시가총액(백만원)         3244 non-null   float64\n",
      " 25  WACC(시가총액평균)(%)   3244 non-null   object \n",
      "dtypes: float64(8), int64(2), object(16)\n",
      "memory usage: 684.3+ KB\n"
     ]
    }
   ],
   "source": [
    "cleaned_data.info()"
   ]
  },
  {
   "cell_type": "code",
   "execution_count": 28,
   "metadata": {},
   "outputs": [
    {
     "data": {
      "text/plain": [
       "거래소 업종\n",
       "코스닥 IT 서비스        12\n",
       "코스닥 건설             3\n",
       "코스닥 금속             1\n",
       "코스닥 금융             1\n",
       "코스닥 기계·장비         13\n",
       "코스닥 기타금융           2\n",
       "코스닥 농업·임업 및 어업     1\n",
       "코스닥 비금속            3\n",
       "코스닥 오락·문화          7\n",
       "코스닥 유통             4\n",
       "코스닥 음식료·담배         2\n",
       "코스닥 의료·정밀기기        1\n",
       "코스닥 일반서비스         16\n",
       "코스닥 전기·전자         19\n",
       "코스닥 제약            20\n",
       "코스닥 종이·목재          1\n",
       "코스닥 화학             9\n",
       "코스피 IT 서비스        23\n",
       "코스피 건설            25\n",
       "코스피 금속            57\n",
       "코스피 금융            52\n",
       "코스피 기계·장비         30\n",
       "코스피 농업·임업 및 어업     3\n",
       "코스피 부동산            3\n",
       "코스피 비금속           20\n",
       "코스피 섬유·의류         26\n",
       "코스피 오락·문화         13\n",
       "코스피 운송·창고         23\n",
       "코스피 운송장비·부품       50\n",
       "코스피 유통            59\n",
       "코스피 음식료·담배        37\n",
       "코스피 의료·정밀기기        6\n",
       "코스피 일반서비스         31\n",
       "코스피 전기·가스          9\n",
       "코스피 전기·전자         58\n",
       "코스피 제약            45\n",
       "코스피 제조             8\n",
       "코스피 종이·목재         17\n",
       "코스피 통신             4\n",
       "코스피 화학            97\n",
       "Name: Name, dtype: int64"
      ]
     },
     "execution_count": 28,
     "metadata": {},
     "output_type": "execute_result"
    }
   ],
   "source": [
    "cleaned_data.groupby('거래소 업종')['Name'].unique().apply(len)"
   ]
  },
  {
   "cell_type": "code",
   "execution_count": 29,
   "metadata": {},
   "outputs": [],
   "source": [
    "df_kospi = cleaned_data[cleaned_data['거래소 업종'].str.startswith('코스피')]"
   ]
  },
  {
   "cell_type": "code",
   "execution_count": 30,
   "metadata": {},
   "outputs": [
    {
     "name": "stdout",
     "output_type": "stream",
     "text": [
      "<class 'pandas.core.frame.DataFrame'>\n",
      "Index: 2784 entries, 0 to 3495\n",
      "Data columns (total 26 columns):\n",
      " #   Column            Non-Null Count  Dtype  \n",
      "---  ------            --------------  -----  \n",
      " 0   Ticker            2784 non-null   object \n",
      " 1   Name              2784 non-null   object \n",
      " 2   종목명 (Full)        2784 non-null   object \n",
      " 3   기업명 (한글)          2784 non-null   object \n",
      " 4   거래소 업종            2784 non-null   object \n",
      " 5   거래소 업종코드          2784 non-null   object \n",
      " 6   결산월               2784 non-null   int64  \n",
      " 7   회계년               2784 non-null   int64  \n",
      " 8   자기자본비율(%)         2784 non-null   object \n",
      " 9   차입금의존도(%)         2784 non-null   float64\n",
      " 10  총부채(천원)           2784 non-null   float64\n",
      " 11  영업이익률(%)          2784 non-null   float64\n",
      " 12  매출액(천원)           2784 non-null   float64\n",
      " 13  총자본회전율(회)         2784 non-null   object \n",
      " 14  영업활동으로인한현금흐름(천원)  2784 non-null   float64\n",
      " 15  당좌자산(천원)          2784 non-null   float64\n",
      " 16  유동부채(천원)          2784 non-null   float64\n",
      " 17  ROA(당기순이익)(%)     2784 non-null   object \n",
      " 18  신용등급 (채권, NICE)   717 non-null    object \n",
      " 19  신용등급 (CP, NICE)   388 non-null    object \n",
      " 20  ESG등급             2784 non-null   object \n",
      " 21  환경                2784 non-null   object \n",
      " 22  사회                2784 non-null   object \n",
      " 23  지배구조              2784 non-null   object \n",
      " 24  시가총액(백만원)         2784 non-null   float64\n",
      " 25  WACC(시가총액평균)(%)   2784 non-null   object \n",
      "dtypes: float64(8), int64(2), object(16)\n",
      "memory usage: 587.2+ KB\n"
     ]
    }
   ],
   "source": [
    "df_kospi.info()"
   ]
  },
  {
   "cell_type": "code",
   "execution_count": 31,
   "metadata": {},
   "outputs": [
    {
     "data": {
      "text/plain": [
       "Ticker\n",
       "A005930    4\n",
       "A012800    4\n",
       "A003780    4\n",
       "A014280    4\n",
       "A120030    4\n",
       "          ..\n",
       "A003920    4\n",
       "A034120    4\n",
       "A003280    4\n",
       "A284740    4\n",
       "A008500    4\n",
       "Name: count, Length: 696, dtype: int64"
      ]
     },
     "execution_count": 31,
     "metadata": {},
     "output_type": "execute_result"
    }
   ],
   "source": [
    "df_kospi['Ticker'].value_counts()"
   ]
  },
  {
   "cell_type": "code",
   "execution_count": 32,
   "metadata": {},
   "outputs": [
    {
     "data": {
      "text/plain": [
       "거래소 업종\n",
       "코스피 IT 서비스        23\n",
       "코스피 건설            25\n",
       "코스피 금속            57\n",
       "코스피 금융            52\n",
       "코스피 기계·장비         30\n",
       "코스피 농업·임업 및 어업     3\n",
       "코스피 부동산            3\n",
       "코스피 비금속           20\n",
       "코스피 섬유·의류         26\n",
       "코스피 오락·문화         13\n",
       "코스피 운송·창고         23\n",
       "코스피 운송장비·부품       50\n",
       "코스피 유통            59\n",
       "코스피 음식료·담배        37\n",
       "코스피 의료·정밀기기        6\n",
       "코스피 일반서비스         31\n",
       "코스피 전기·가스          9\n",
       "코스피 전기·전자         58\n",
       "코스피 제약            45\n",
       "코스피 제조             8\n",
       "코스피 종이·목재         17\n",
       "코스피 통신             4\n",
       "코스피 화학            97\n",
       "Name: Name, dtype: int64"
      ]
     },
     "execution_count": 32,
     "metadata": {},
     "output_type": "execute_result"
    }
   ],
   "source": [
    "df_kospi.groupby('거래소 업종')['Name'].unique().apply(len)"
   ]
  },
  {
   "cell_type": "code",
   "execution_count": 33,
   "metadata": {},
   "outputs": [
    {
     "data": {
      "text/plain": [
       "Index(['Ticker', 'Name', '종목명 (Full)', '기업명 (한글)', '거래소 업종', '거래소 업종코드', '결산월',\n",
       "       '회계년', '자기자본비율(%)', '차입금의존도(%)', '총부채(천원)', '영업이익률(%)', '매출액(천원)',\n",
       "       '총자본회전율(회)', '영업활동으로인한현금흐름(천원)', '당좌자산(천원)', '유동부채(천원)',\n",
       "       'ROA(당기순이익)(%)', '신용등급 (채권, NICE)', '신용등급 (CP, NICE)', 'ESG등급', '환경',\n",
       "       '사회', '지배구조', '시가총액(백만원)', 'WACC(시가총액평균)(%)'],\n",
       "      dtype='object')"
      ]
     },
     "execution_count": 33,
     "metadata": {},
     "output_type": "execute_result"
    }
   ],
   "source": [
    "df_kospi.columns"
   ]
  },
  {
   "cell_type": "markdown",
   "metadata": {},
   "source": [
    "# 추가 전처리들(단위 변경 등)"
   ]
  },
  {
   "cell_type": "code",
   "execution_count": 34,
   "metadata": {},
   "outputs": [],
   "source": [
    "df_copy = df_kospi.copy()"
   ]
  },
  {
   "cell_type": "code",
   "execution_count": 35,
   "metadata": {},
   "outputs": [
    {
     "name": "stdout",
     "output_type": "stream",
     "text": [
      "<class 'pandas.core.frame.DataFrame'>\n",
      "Index: 2784 entries, 0 to 3495\n",
      "Data columns (total 26 columns):\n",
      " #   Column            Non-Null Count  Dtype  \n",
      "---  ------            --------------  -----  \n",
      " 0   Ticker            2784 non-null   object \n",
      " 1   Name              2784 non-null   object \n",
      " 2   종목명 (Full)        2784 non-null   object \n",
      " 3   기업명 (한글)          2784 non-null   object \n",
      " 4   거래소 업종            2784 non-null   object \n",
      " 5   거래소 업종코드          2784 non-null   object \n",
      " 6   결산월               2784 non-null   int64  \n",
      " 7   회계년               2784 non-null   int64  \n",
      " 8   자기자본비율(%)         2784 non-null   object \n",
      " 9   차입금의존도(%)         2784 non-null   float64\n",
      " 10  총부채(천원)           2784 non-null   float64\n",
      " 11  영업이익률(%)          2784 non-null   float64\n",
      " 12  매출액(천원)           2784 non-null   float64\n",
      " 13  총자본회전율(회)         2784 non-null   object \n",
      " 14  영업활동으로인한현금흐름(천원)  2784 non-null   float64\n",
      " 15  당좌자산(천원)          2784 non-null   float64\n",
      " 16  유동부채(천원)          2784 non-null   float64\n",
      " 17  ROA(당기순이익)(%)     2784 non-null   object \n",
      " 18  신용등급 (채권, NICE)   717 non-null    object \n",
      " 19  신용등급 (CP, NICE)   388 non-null    object \n",
      " 20  ESG등급             2784 non-null   object \n",
      " 21  환경                2784 non-null   object \n",
      " 22  사회                2784 non-null   object \n",
      " 23  지배구조              2784 non-null   object \n",
      " 24  시가총액(백만원)         2784 non-null   float64\n",
      " 25  WACC(시가총액평균)(%)   2784 non-null   object \n",
      "dtypes: float64(8), int64(2), object(16)\n",
      "memory usage: 587.2+ KB\n"
     ]
    }
   ],
   "source": [
    "df_copy.info()"
   ]
  },
  {
   "cell_type": "code",
   "execution_count": 36,
   "metadata": {},
   "outputs": [
    {
     "name": "stdout",
     "output_type": "stream",
     "text": [
      "     총자본회전율(회)\n",
      "1304      완전잠식\n"
     ]
    }
   ],
   "source": [
    "# \"총자본회전율(회)\"이 완전잠식인 회사 2개 존재\n",
    "non_numeric_values = df_copy[~df_copy['총자본회전율(회)'].astype(str).str.replace('.', '', 1).str.isdigit()]\n",
    "print(non_numeric_values[['총자본회전율(회)']])"
   ]
  },
  {
   "cell_type": "code",
   "execution_count": 37,
   "metadata": {},
   "outputs": [],
   "source": [
    "# \"총자본회전율(회)\"이 완전잠식인 행들 제외\n",
    "df_copy = df_copy[df_copy[\"총자본회전율(회)\"] != \"완전잠식\"] \n",
    "df_copy[\"총자본회전율(회)\"] = pd.to_numeric(df_copy[\"총자본회전율(회)\"], errors='coerce')\n",
    "\n",
    "# Ticker 등장 횟수 계산\n",
    "ticker_counts = df_copy['Ticker'].value_counts()\n",
    "\n",
    "# 4개 이상 등장한 Ticker 목록 추출\n",
    "tickers_to_keep = ticker_counts[ticker_counts >= 4].index\n",
    "\n",
    "# df_copy에서 4개 이상 등장한 Ticker만 선택\n",
    "df_copy = df_copy[df_copy['Ticker'].isin(tickers_to_keep)]"
   ]
  },
  {
   "cell_type": "code",
   "execution_count": 38,
   "metadata": {},
   "outputs": [
    {
     "name": "stdout",
     "output_type": "stream",
     "text": [
      "<class 'pandas.core.frame.DataFrame'>\n",
      "Index: 2780 entries, 0 to 3495\n",
      "Data columns (total 26 columns):\n",
      " #   Column            Non-Null Count  Dtype  \n",
      "---  ------            --------------  -----  \n",
      " 0   Ticker            2780 non-null   object \n",
      " 1   Name              2780 non-null   object \n",
      " 2   종목명 (Full)        2780 non-null   object \n",
      " 3   기업명 (한글)          2780 non-null   object \n",
      " 4   거래소 업종            2780 non-null   object \n",
      " 5   거래소 업종코드          2780 non-null   object \n",
      " 6   결산월               2780 non-null   int64  \n",
      " 7   회계년               2780 non-null   int64  \n",
      " 8   자기자본비율(%)         2780 non-null   object \n",
      " 9   차입금의존도(%)         2780 non-null   float64\n",
      " 10  총부채(천원)           2780 non-null   float64\n",
      " 11  영업이익률(%)          2780 non-null   float64\n",
      " 12  매출액(천원)           2780 non-null   float64\n",
      " 13  총자본회전율(회)         2780 non-null   float64\n",
      " 14  영업활동으로인한현금흐름(천원)  2780 non-null   float64\n",
      " 15  당좌자산(천원)          2780 non-null   float64\n",
      " 16  유동부채(천원)          2780 non-null   float64\n",
      " 17  ROA(당기순이익)(%)     2780 non-null   object \n",
      " 18  신용등급 (채권, NICE)   714 non-null    object \n",
      " 19  신용등급 (CP, NICE)   388 non-null    object \n",
      " 20  ESG등급             2780 non-null   object \n",
      " 21  환경                2780 non-null   object \n",
      " 22  사회                2780 non-null   object \n",
      " 23  지배구조              2780 non-null   object \n",
      " 24  시가총액(백만원)         2780 non-null   float64\n",
      " 25  WACC(시가총액평균)(%)   2780 non-null   object \n",
      "dtypes: float64(9), int64(2), object(15)\n",
      "memory usage: 586.4+ KB\n"
     ]
    }
   ],
   "source": [
    "df_copy.info()"
   ]
  },
  {
   "cell_type": "code",
   "execution_count": 39,
   "metadata": {},
   "outputs": [
    {
     "name": "stdout",
     "output_type": "stream",
     "text": [
      "     자기자본비율(%)\n",
      "1023      완전잠식\n",
      "1095      완전잠식\n"
     ]
    }
   ],
   "source": [
    "# \"자기자본비율(%)\"이 완전잠식인 회사 4개 존재(했음)\n",
    "non_numeric_values = df_copy[~df_copy[\"자기자본비율(%)\"].astype(str).str.replace('.', '', 1).str.isdigit()]\n",
    "print(non_numeric_values[[\"자기자본비율(%)\"]])"
   ]
  },
  {
   "cell_type": "code",
   "execution_count": 40,
   "metadata": {},
   "outputs": [],
   "source": [
    "# \"자기자본비율(%)\"이 완전잠식인 행들 제외\n",
    "df_copy = df_copy[df_copy[\"자기자본비율(%)\"] != \"완전잠식\"] \n",
    "df_copy[\"자기자본비율(%)\"] = pd.to_numeric(df_copy[\"자기자본비율(%)\"], errors='coerce')\n",
    "\n",
    "# Ticker 등장 횟수 계산\n",
    "ticker_counts = df_copy['Ticker'].value_counts()\n",
    "\n",
    "# 4개 이상 등장한 Ticker 목록 추출\n",
    "tickers_to_keep = ticker_counts[ticker_counts >= 4].index\n",
    "\n",
    "# df_copy에서 4개 이상 등장한 Ticker만 선택\n",
    "df_copy = df_copy[df_copy['Ticker'].isin(tickers_to_keep)]"
   ]
  },
  {
   "cell_type": "code",
   "execution_count": 41,
   "metadata": {},
   "outputs": [
    {
     "name": "stdout",
     "output_type": "stream",
     "text": [
      "<class 'pandas.core.frame.DataFrame'>\n",
      "Index: 2772 entries, 0 to 3495\n",
      "Data columns (total 26 columns):\n",
      " #   Column            Non-Null Count  Dtype  \n",
      "---  ------            --------------  -----  \n",
      " 0   Ticker            2772 non-null   object \n",
      " 1   Name              2772 non-null   object \n",
      " 2   종목명 (Full)        2772 non-null   object \n",
      " 3   기업명 (한글)          2772 non-null   object \n",
      " 4   거래소 업종            2772 non-null   object \n",
      " 5   거래소 업종코드          2772 non-null   object \n",
      " 6   결산월               2772 non-null   int64  \n",
      " 7   회계년               2772 non-null   int64  \n",
      " 8   자기자본비율(%)         2772 non-null   float64\n",
      " 9   차입금의존도(%)         2772 non-null   float64\n",
      " 10  총부채(천원)           2772 non-null   float64\n",
      " 11  영업이익률(%)          2772 non-null   float64\n",
      " 12  매출액(천원)           2772 non-null   float64\n",
      " 13  총자본회전율(회)         2772 non-null   float64\n",
      " 14  영업활동으로인한현금흐름(천원)  2772 non-null   float64\n",
      " 15  당좌자산(천원)          2772 non-null   float64\n",
      " 16  유동부채(천원)          2772 non-null   float64\n",
      " 17  ROA(당기순이익)(%)     2772 non-null   object \n",
      " 18  신용등급 (채권, NICE)   710 non-null    object \n",
      " 19  신용등급 (CP, NICE)   384 non-null    object \n",
      " 20  ESG등급             2772 non-null   object \n",
      " 21  환경                2772 non-null   object \n",
      " 22  사회                2772 non-null   object \n",
      " 23  지배구조              2772 non-null   object \n",
      " 24  시가총액(백만원)         2772 non-null   float64\n",
      " 25  WACC(시가총액평균)(%)   2772 non-null   object \n",
      "dtypes: float64(10), int64(2), object(14)\n",
      "memory usage: 584.7+ KB\n"
     ]
    }
   ],
   "source": [
    "df_copy.info()"
   ]
  },
  {
   "cell_type": "code",
   "execution_count": 42,
   "metadata": {},
   "outputs": [
    {
     "data": {
      "text/plain": [
       "count    2772.00000\n",
       "mean       61.05009\n",
       "std        20.80279\n",
       "min         1.46000\n",
       "25%        46.73500\n",
       "50%        60.50500\n",
       "75%        78.81000\n",
       "max        99.93000\n",
       "Name: 자기자본비율(%), dtype: float64"
      ]
     },
     "execution_count": 42,
     "metadata": {},
     "output_type": "execute_result"
    }
   ],
   "source": [
    "df_copy[\"자기자본비율(%)\"].describe()"
   ]
  },
  {
   "cell_type": "code",
   "execution_count": 43,
   "metadata": {},
   "outputs": [],
   "source": [
    "# 수치형 변수 단위 통일\n",
    "df_copy[\"시가총액(백만원)\"] = df_copy[\"시가총액(백만원)\"] * 1000\n",
    "df_copy = df_copy.rename(columns={'시가총액(백만원)':'시가총액(천원)'})"
   ]
  },
  {
   "cell_type": "code",
   "execution_count": 44,
   "metadata": {},
   "outputs": [
    {
     "name": "stdout",
     "output_type": "stream",
     "text": [
      "<class 'pandas.core.frame.DataFrame'>\n",
      "Index: 2772 entries, 0 to 3495\n",
      "Data columns (total 26 columns):\n",
      " #   Column            Non-Null Count  Dtype  \n",
      "---  ------            --------------  -----  \n",
      " 0   Ticker            2772 non-null   object \n",
      " 1   Name              2772 non-null   object \n",
      " 2   종목명 (Full)        2772 non-null   object \n",
      " 3   기업명 (한글)          2772 non-null   object \n",
      " 4   거래소 업종            2772 non-null   object \n",
      " 5   거래소 업종코드          2772 non-null   object \n",
      " 6   결산월               2772 non-null   int64  \n",
      " 7   회계년               2772 non-null   int64  \n",
      " 8   자기자본비율(%)         2772 non-null   float64\n",
      " 9   차입금의존도(%)         2772 non-null   float64\n",
      " 10  총부채(천원)           2772 non-null   float64\n",
      " 11  영업이익률(%)          2772 non-null   float64\n",
      " 12  매출액(천원)           2772 non-null   float64\n",
      " 13  총자본회전율(회)         2772 non-null   float64\n",
      " 14  영업활동으로인한현금흐름(천원)  2772 non-null   float64\n",
      " 15  당좌자산(천원)          2772 non-null   float64\n",
      " 16  유동부채(천원)          2772 non-null   float64\n",
      " 17  ROA(당기순이익)(%)     2772 non-null   object \n",
      " 18  신용등급 (채권, NICE)   710 non-null    object \n",
      " 19  신용등급 (CP, NICE)   384 non-null    object \n",
      " 20  ESG등급             2772 non-null   object \n",
      " 21  환경                2772 non-null   object \n",
      " 22  사회                2772 non-null   object \n",
      " 23  지배구조              2772 non-null   object \n",
      " 24  시가총액(천원)          2772 non-null   float64\n",
      " 25  WACC(시가총액평균)(%)   2772 non-null   object \n",
      "dtypes: float64(10), int64(2), object(14)\n",
      "memory usage: 584.7+ KB\n"
     ]
    }
   ],
   "source": [
    "df_copy.info()"
   ]
  },
  {
   "cell_type": "code",
   "execution_count": 45,
   "metadata": {},
   "outputs": [
    {
     "data": {
      "text/plain": [
       "Ticker\n",
       "A005930    4\n",
       "A012610    4\n",
       "A120030    4\n",
       "A058850    4\n",
       "A015590    4\n",
       "          ..\n",
       "A034120    4\n",
       "A284740    4\n",
       "A195870    4\n",
       "A003300    4\n",
       "A008500    4\n",
       "Name: count, Length: 693, dtype: int64"
      ]
     },
     "execution_count": 45,
     "metadata": {},
     "output_type": "execute_result"
    }
   ],
   "source": [
    "df_copy['Ticker'].value_counts()"
   ]
  },
  {
   "cell_type": "markdown",
   "metadata": {},
   "source": [
    "# 매출액 -> 매출액 증가율로 변경"
   ]
  },
  {
   "cell_type": "code",
   "execution_count": 46,
   "metadata": {},
   "outputs": [],
   "source": [
    "finance_file_path = 'finance.csv'\n",
    "finance_data = pd.read_csv(finance_file_path, encoding=\"cp949\", low_memory=False)"
   ]
  },
  {
   "cell_type": "code",
   "execution_count": 47,
   "metadata": {},
   "outputs": [
    {
     "name": "stdout",
     "output_type": "stream",
     "text": [
      "<class 'pandas.core.frame.DataFrame'>\n",
      "Index: 693 entries, 7 to 31387\n",
      "Data columns (total 23 columns):\n",
      " #   Column            Non-Null Count  Dtype  \n",
      "---  ------            --------------  -----  \n",
      " 0   Unnamed: 0        693 non-null    int64  \n",
      " 1   Symbol            693 non-null    object \n",
      " 2   Ticker            693 non-null    object \n",
      " 3   Name              693 non-null    object \n",
      " 4   종목명 (Full)        693 non-null    object \n",
      " 5   기업명 (한글)          693 non-null    object \n",
      " 6   거래소 업종            690 non-null    object \n",
      " 7   거래소 업종코드          690 non-null    object \n",
      " 8   결산월               693 non-null    int64  \n",
      " 9   회계년               693 non-null    int64  \n",
      " 10  주기                693 non-null    object \n",
      " 11  자기자본비율(%)         693 non-null    object \n",
      " 12  차입금의존도(%)         693 non-null    float64\n",
      " 13  총부채(천원)           693 non-null    float64\n",
      " 14  영업이익률(%)          693 non-null    float64\n",
      " 15  매출액(천원)           693 non-null    float64\n",
      " 16  총자본회전율(회)         691 non-null    object \n",
      " 17  영업활동으로인한현금흐름(천원)  693 non-null    float64\n",
      " 18  당좌자산(천원)          693 non-null    float64\n",
      " 19  유동부채(천원)          693 non-null    float64\n",
      " 20  ROA(당기순이익)(%)     691 non-null    object \n",
      " 21  신용등급 (채권, NICE)   155 non-null    object \n",
      " 22  신용등급 (CP, NICE)   101 non-null    object \n",
      "dtypes: float64(7), int64(3), object(13)\n",
      "memory usage: 129.9+ KB\n"
     ]
    }
   ],
   "source": [
    "finance_2019 = finance_data[(finance_data['회계년'] == 2019) & (finance_data['Ticker'].isin(df_copy['Ticker']))]\n",
    "finance_2019.info()"
   ]
  },
  {
   "cell_type": "code",
   "execution_count": 48,
   "metadata": {},
   "outputs": [
    {
     "data": {
      "text/plain": [
       "0"
      ]
     },
     "execution_count": 48,
     "metadata": {},
     "output_type": "execute_result"
    }
   ],
   "source": [
    "np.sum(finance_2019['매출액(천원)'].isnull())"
   ]
  },
  {
   "cell_type": "code",
   "execution_count": 49,
   "metadata": {},
   "outputs": [],
   "source": [
    "df_updated = pd.concat([df_copy, finance_2019])"
   ]
  },
  {
   "cell_type": "code",
   "execution_count": 50,
   "metadata": {},
   "outputs": [
    {
     "name": "stdout",
     "output_type": "stream",
     "text": [
      "<class 'pandas.core.frame.DataFrame'>\n",
      "Index: 3465 entries, 0 to 31387\n",
      "Data columns (total 29 columns):\n",
      " #   Column            Non-Null Count  Dtype  \n",
      "---  ------            --------------  -----  \n",
      " 0   Ticker            3465 non-null   object \n",
      " 1   Name              3465 non-null   object \n",
      " 2   종목명 (Full)        3465 non-null   object \n",
      " 3   기업명 (한글)          3465 non-null   object \n",
      " 4   거래소 업종            3462 non-null   object \n",
      " 5   거래소 업종코드          3462 non-null   object \n",
      " 6   결산월               3465 non-null   int64  \n",
      " 7   회계년               3465 non-null   int64  \n",
      " 8   자기자본비율(%)         3465 non-null   object \n",
      " 9   차입금의존도(%)         3465 non-null   float64\n",
      " 10  총부채(천원)           3465 non-null   float64\n",
      " 11  영업이익률(%)          3465 non-null   float64\n",
      " 12  매출액(천원)           3465 non-null   float64\n",
      " 13  총자본회전율(회)         3463 non-null   object \n",
      " 14  영업활동으로인한현금흐름(천원)  3465 non-null   float64\n",
      " 15  당좌자산(천원)          3465 non-null   float64\n",
      " 16  유동부채(천원)          3465 non-null   float64\n",
      " 17  ROA(당기순이익)(%)     3463 non-null   object \n",
      " 18  신용등급 (채권, NICE)   865 non-null    object \n",
      " 19  신용등급 (CP, NICE)   485 non-null    object \n",
      " 20  ESG등급             2772 non-null   object \n",
      " 21  환경                2772 non-null   object \n",
      " 22  사회                2772 non-null   object \n",
      " 23  지배구조              2772 non-null   object \n",
      " 24  시가총액(천원)          2772 non-null   float64\n",
      " 25  WACC(시가총액평균)(%)   2772 non-null   object \n",
      " 26  Unnamed: 0        693 non-null    float64\n",
      " 27  Symbol            693 non-null    object \n",
      " 28  주기                693 non-null    object \n",
      "dtypes: float64(9), int64(2), object(18)\n",
      "memory usage: 812.1+ KB\n"
     ]
    }
   ],
   "source": [
    "df_updated.info()\n",
    "# 684 * 5 (19~23년도도)"
   ]
  },
  {
   "cell_type": "code",
   "execution_count": 51,
   "metadata": {},
   "outputs": [],
   "source": [
    "df_updated = df_updated.drop(columns=['Symbol', '주기'])"
   ]
  },
  {
   "cell_type": "code",
   "execution_count": 52,
   "metadata": {},
   "outputs": [
    {
     "data": {
      "text/html": [
       "<div>\n",
       "<style scoped>\n",
       "    .dataframe tbody tr th:only-of-type {\n",
       "        vertical-align: middle;\n",
       "    }\n",
       "\n",
       "    .dataframe tbody tr th {\n",
       "        vertical-align: top;\n",
       "    }\n",
       "\n",
       "    .dataframe thead th {\n",
       "        text-align: right;\n",
       "    }\n",
       "</style>\n",
       "<table border=\"1\" class=\"dataframe\">\n",
       "  <thead>\n",
       "    <tr style=\"text-align: right;\">\n",
       "      <th></th>\n",
       "      <th>Ticker</th>\n",
       "      <th>Name</th>\n",
       "      <th>종목명 (Full)</th>\n",
       "      <th>기업명 (한글)</th>\n",
       "      <th>거래소 업종</th>\n",
       "      <th>거래소 업종코드</th>\n",
       "      <th>결산월</th>\n",
       "      <th>회계년</th>\n",
       "      <th>자기자본비율(%)</th>\n",
       "      <th>차입금의존도(%)</th>\n",
       "      <th>...</th>\n",
       "      <th>ROA(당기순이익)(%)</th>\n",
       "      <th>신용등급 (채권, NICE)</th>\n",
       "      <th>신용등급 (CP, NICE)</th>\n",
       "      <th>ESG등급</th>\n",
       "      <th>환경</th>\n",
       "      <th>사회</th>\n",
       "      <th>지배구조</th>\n",
       "      <th>시가총액(천원)</th>\n",
       "      <th>WACC(시가총액평균)(%)</th>\n",
       "      <th>Unnamed: 0</th>\n",
       "    </tr>\n",
       "  </thead>\n",
       "  <tbody>\n",
       "    <tr>\n",
       "      <th>0</th>\n",
       "      <td>A005930</td>\n",
       "      <td>삼성전자</td>\n",
       "      <td>삼성전자보통주</td>\n",
       "      <td>삼성전자(주)</td>\n",
       "      <td>코스피 전기·전자</td>\n",
       "      <td>I.013</td>\n",
       "      <td>12</td>\n",
       "      <td>2020</td>\n",
       "      <td>79.82</td>\n",
       "      <td>5.57</td>\n",
       "      <td>...</td>\n",
       "      <td>7</td>\n",
       "      <td>NaN</td>\n",
       "      <td>NaN</td>\n",
       "      <td>B+</td>\n",
       "      <td>A</td>\n",
       "      <td>A+</td>\n",
       "      <td>B</td>\n",
       "      <td>5.441168e+11</td>\n",
       "      <td>7.18</td>\n",
       "      <td>NaN</td>\n",
       "    </tr>\n",
       "    <tr>\n",
       "      <th>1</th>\n",
       "      <td>A005930</td>\n",
       "      <td>삼성전자</td>\n",
       "      <td>삼성전자보통주</td>\n",
       "      <td>삼성전자(주)</td>\n",
       "      <td>코스피 전기·전자</td>\n",
       "      <td>I.013</td>\n",
       "      <td>12</td>\n",
       "      <td>2021</td>\n",
       "      <td>76.94</td>\n",
       "      <td>3.90</td>\n",
       "      <td>...</td>\n",
       "      <td>12.88</td>\n",
       "      <td>NaN</td>\n",
       "      <td>NaN</td>\n",
       "      <td>A</td>\n",
       "      <td>A</td>\n",
       "      <td>A+</td>\n",
       "      <td>B+</td>\n",
       "      <td>5.260235e+11</td>\n",
       "      <td>8.25</td>\n",
       "      <td>NaN</td>\n",
       "    </tr>\n",
       "    <tr>\n",
       "      <th>2</th>\n",
       "      <td>A005930</td>\n",
       "      <td>삼성전자</td>\n",
       "      <td>삼성전자보통주</td>\n",
       "      <td>삼성전자(주)</td>\n",
       "      <td>코스피 전기·전자</td>\n",
       "      <td>I.013</td>\n",
       "      <td>12</td>\n",
       "      <td>2022</td>\n",
       "      <td>80.52</td>\n",
       "      <td>1.23</td>\n",
       "      <td>...</td>\n",
       "      <td>9.94</td>\n",
       "      <td>NaN</td>\n",
       "      <td>NaN</td>\n",
       "      <td>A</td>\n",
       "      <td>A</td>\n",
       "      <td>A+</td>\n",
       "      <td>B+</td>\n",
       "      <td>3.716848e+11</td>\n",
       "      <td>9.39</td>\n",
       "      <td>NaN</td>\n",
       "    </tr>\n",
       "  </tbody>\n",
       "</table>\n",
       "<p>3 rows × 27 columns</p>\n",
       "</div>"
      ],
      "text/plain": [
       "    Ticker  Name 종목명 (Full) 기업명 (한글)     거래소 업종 거래소 업종코드  결산월   회계년 자기자본비율(%)  \\\n",
       "0  A005930  삼성전자    삼성전자보통주  삼성전자(주)  코스피 전기·전자    I.013   12  2020     79.82   \n",
       "1  A005930  삼성전자    삼성전자보통주  삼성전자(주)  코스피 전기·전자    I.013   12  2021     76.94   \n",
       "2  A005930  삼성전자    삼성전자보통주  삼성전자(주)  코스피 전기·전자    I.013   12  2022     80.52   \n",
       "\n",
       "   차입금의존도(%)  ...  ROA(당기순이익)(%)  신용등급 (채권, NICE)  신용등급 (CP, NICE) ESG등급  환경  \\\n",
       "0       5.57  ...              7              NaN              NaN    B+   A   \n",
       "1       3.90  ...          12.88              NaN              NaN     A   A   \n",
       "2       1.23  ...           9.94              NaN              NaN     A   A   \n",
       "\n",
       "   사회  지배구조      시가총액(천원) WACC(시가총액평균)(%) Unnamed: 0  \n",
       "0  A+     B  5.441168e+11            7.18        NaN  \n",
       "1  A+    B+  5.260235e+11            8.25        NaN  \n",
       "2  A+    B+  3.716848e+11            9.39        NaN  \n",
       "\n",
       "[3 rows x 27 columns]"
      ]
     },
     "execution_count": 52,
     "metadata": {},
     "output_type": "execute_result"
    }
   ],
   "source": [
    "df_updated.head(3)"
   ]
  },
  {
   "cell_type": "code",
   "execution_count": 53,
   "metadata": {},
   "outputs": [],
   "source": [
    "df = df_updated.sort_values(by=['Ticker', '회계년'])"
   ]
  },
  {
   "cell_type": "code",
   "execution_count": 54,
   "metadata": {},
   "outputs": [
    {
     "data": {
      "text/plain": [
       "Ticker\n",
       "A000020    5\n",
       "A034310    5\n",
       "A033530    5\n",
       "A033780    5\n",
       "A033920    5\n",
       "          ..\n",
       "A007120    5\n",
       "A007160    5\n",
       "A007210    5\n",
       "A007280    5\n",
       "A336370    5\n",
       "Name: count, Length: 693, dtype: int64"
      ]
     },
     "execution_count": 54,
     "metadata": {},
     "output_type": "execute_result"
    }
   ],
   "source": [
    "df['Ticker'].value_counts()"
   ]
  },
  {
   "cell_type": "code",
   "execution_count": 55,
   "metadata": {},
   "outputs": [
    {
     "data": {
      "text/plain": [
       "회계년\n",
       "2019    693\n",
       "2020    693\n",
       "2021    693\n",
       "2022    693\n",
       "2023    693\n",
       "Name: count, dtype: int64"
      ]
     },
     "execution_count": 55,
     "metadata": {},
     "output_type": "execute_result"
    }
   ],
   "source": [
    "df['회계년'].value_counts()"
   ]
  },
  {
   "cell_type": "code",
   "execution_count": 56,
   "metadata": {},
   "outputs": [],
   "source": [
    "# 이전 년도의 매출액을 새로운 컬럼 '이전년도매출액(천원)'에 저장\n",
    "df['이전년도매출액(천원)'] = df.groupby('Ticker')['매출액(천원)'].shift(1) \n",
    "\n",
    "# 매출액증가율 계산\n",
    "df['매출액증가율(%)'] = (df['매출액(천원)'] / df['이전년도매출액(천원)']) - 1\n",
    "df['매출액증가율(%)'] = df['매출액증가율(%)'] * 100."
   ]
  },
  {
   "cell_type": "code",
   "execution_count": 57,
   "metadata": {},
   "outputs": [],
   "source": [
    "df_high = df.copy()"
   ]
  },
  {
   "cell_type": "code",
   "execution_count": 58,
   "metadata": {},
   "outputs": [
    {
     "data": {
      "text/plain": [
       "count     2772.000000\n",
       "mean        22.971290\n",
       "std        541.365092\n",
       "min        -99.967293\n",
       "25%         -6.606205\n",
       "50%          5.142367\n",
       "75%         18.165214\n",
       "max      28139.380905\n",
       "Name: 매출액증가율(%), dtype: float64"
      ]
     },
     "execution_count": 58,
     "metadata": {},
     "output_type": "execute_result"
    }
   ],
   "source": [
    "df_high['매출액증가율(%)'].describe()"
   ]
  },
  {
   "cell_type": "code",
   "execution_count": 59,
   "metadata": {},
   "outputs": [
    {
     "data": {
      "text/plain": [
       "count    3.465000e+03\n",
       "mean     1.835560e+09\n",
       "std      8.631913e+09\n",
       "min      3.762813e+05\n",
       "25%      1.085716e+08\n",
       "50%      2.904975e+08\n",
       "75%      9.263986e+08\n",
       "max      2.118670e+11\n",
       "Name: 매출액(천원), dtype: float64"
      ]
     },
     "execution_count": 59,
     "metadata": {},
     "output_type": "execute_result"
    }
   ],
   "source": [
    "df_high['매출액(천원)'].describe()"
   ]
  },
  {
   "cell_type": "code",
   "execution_count": 60,
   "metadata": {},
   "outputs": [],
   "source": [
    "df_2020 = df_high[df_high['회계년'] != 2019]"
   ]
  },
  {
   "cell_type": "code",
   "execution_count": 61,
   "metadata": {},
   "outputs": [
    {
     "name": "stdout",
     "output_type": "stream",
     "text": [
      "<class 'pandas.core.frame.DataFrame'>\n",
      "Index: 2772 entries, 2060 to 1059\n",
      "Data columns (total 29 columns):\n",
      " #   Column            Non-Null Count  Dtype  \n",
      "---  ------            --------------  -----  \n",
      " 0   Ticker            2772 non-null   object \n",
      " 1   Name              2772 non-null   object \n",
      " 2   종목명 (Full)        2772 non-null   object \n",
      " 3   기업명 (한글)          2772 non-null   object \n",
      " 4   거래소 업종            2772 non-null   object \n",
      " 5   거래소 업종코드          2772 non-null   object \n",
      " 6   결산월               2772 non-null   int64  \n",
      " 7   회계년               2772 non-null   int64  \n",
      " 8   자기자본비율(%)         2772 non-null   object \n",
      " 9   차입금의존도(%)         2772 non-null   float64\n",
      " 10  총부채(천원)           2772 non-null   float64\n",
      " 11  영업이익률(%)          2772 non-null   float64\n",
      " 12  매출액(천원)           2772 non-null   float64\n",
      " 13  총자본회전율(회)         2772 non-null   object \n",
      " 14  영업활동으로인한현금흐름(천원)  2772 non-null   float64\n",
      " 15  당좌자산(천원)          2772 non-null   float64\n",
      " 16  유동부채(천원)          2772 non-null   float64\n",
      " 17  ROA(당기순이익)(%)     2772 non-null   object \n",
      " 18  신용등급 (채권, NICE)   710 non-null    object \n",
      " 19  신용등급 (CP, NICE)   384 non-null    object \n",
      " 20  ESG등급             2772 non-null   object \n",
      " 21  환경                2772 non-null   object \n",
      " 22  사회                2772 non-null   object \n",
      " 23  지배구조              2772 non-null   object \n",
      " 24  시가총액(천원)          2772 non-null   float64\n",
      " 25  WACC(시가총액평균)(%)   2772 non-null   object \n",
      " 26  Unnamed: 0        0 non-null      float64\n",
      " 27  이전년도매출액(천원)       2772 non-null   float64\n",
      " 28  매출액증가율(%)         2772 non-null   float64\n",
      "dtypes: float64(11), int64(2), object(16)\n",
      "memory usage: 649.7+ KB\n"
     ]
    }
   ],
   "source": [
    "df_2020.info()"
   ]
  },
  {
   "cell_type": "code",
   "execution_count": 62,
   "metadata": {},
   "outputs": [
    {
     "name": "stderr",
     "output_type": "stream",
     "text": [
      "C:\\Users\\jwlee\\AppData\\Local\\Temp\\ipykernel_15924\\1508299387.py:1: SettingWithCopyWarning: \n",
      "A value is trying to be set on a copy of a slice from a DataFrame.\n",
      "Try using .loc[row_indexer,col_indexer] = value instead\n",
      "\n",
      "See the caveats in the documentation: https://pandas.pydata.org/pandas-docs/stable/user_guide/indexing.html#returning-a-view-versus-a-copy\n",
      "  df_2020['부채 상환능력(%)'] = (df_2020['영업활동으로인한현금흐름(천원)'] / df_2020['총부채(천원)']) * 100\n"
     ]
    }
   ],
   "source": [
    "df_2020['부채 상환능력(%)'] = (df_2020['영업활동으로인한현금흐름(천원)'] / df_2020['총부채(천원)']) * 100"
   ]
  },
  {
   "cell_type": "code",
   "execution_count": 63,
   "metadata": {},
   "outputs": [
    {
     "data": {
      "text/plain": [
       "count    2772.000000\n",
       "mean       26.022223\n",
       "std       187.840756\n",
       "min      -399.546902\n",
       "25%         1.310985\n",
       "50%        11.528111\n",
       "75%        26.427288\n",
       "max      8270.425918\n",
       "Name: 부채 상환능력(%), dtype: float64"
      ]
     },
     "execution_count": 63,
     "metadata": {},
     "output_type": "execute_result"
    }
   ],
   "source": [
    "df_2020['부채 상환능력(%)'].describe()"
   ]
  },
  {
   "cell_type": "code",
   "execution_count": 64,
   "metadata": {},
   "outputs": [
    {
     "name": "stderr",
     "output_type": "stream",
     "text": [
      "C:\\Users\\jwlee\\AppData\\Local\\Temp\\ipykernel_15924\\1549935075.py:1: SettingWithCopyWarning: \n",
      "A value is trying to be set on a copy of a slice from a DataFrame.\n",
      "Try using .loc[row_indexer,col_indexer] = value instead\n",
      "\n",
      "See the caveats in the documentation: https://pandas.pydata.org/pandas-docs/stable/user_guide/indexing.html#returning-a-view-versus-a-copy\n",
      "  df_2020['당좌비율(%)'] = (df_2020['당좌자산(천원)'] / df_2020['유동부채(천원)']) * 100\n"
     ]
    }
   ],
   "source": [
    "df_2020['당좌비율(%)'] = (df_2020['당좌자산(천원)'] / df_2020['유동부채(천원)']) * 100"
   ]
  },
  {
   "cell_type": "code",
   "execution_count": 65,
   "metadata": {},
   "outputs": [],
   "source": [
    "# 선택할 컬럼 리스트 (제시한 순서대로 정렬)\n",
    "selected_columns = [\n",
    "    'Ticker', 'Name', '종목명 (Full)', '기업명 (한글)', '거래소 업종', '거래소 업종코드',\n",
    "    '결산월', '회계년', '자기자본비율(%)', '차입금의존도(%)', '매출액증가율(%)', '영업이익률(%)', \n",
    "    '총자본회전율(회)', '부채 상환능력(%)', '당좌비율(%)', 'ROA(당기순이익)(%)', \n",
    "    '신용등급 (채권, NICE)', '신용등급 (CP, NICE)', 'ESG등급', '환경', '사회', '지배구조', \n",
    "    '시가총액(천원)', 'WACC(시가총액평균)(%)'\n",
    "]\n",
    "\n",
    "# 새로운 데이터프레임 생성 (컬럼 순서 적용)\n",
    "df_final = df_2020[selected_columns]"
   ]
  },
  {
   "cell_type": "code",
   "execution_count": 66,
   "metadata": {},
   "outputs": [
    {
     "name": "stderr",
     "output_type": "stream",
     "text": [
      "C:\\Users\\jwlee\\AppData\\Local\\Temp\\ipykernel_15924\\2362784477.py:1: SettingWithCopyWarning: \n",
      "A value is trying to be set on a copy of a slice from a DataFrame.\n",
      "Try using .loc[row_indexer,col_indexer] = value instead\n",
      "\n",
      "See the caveats in the documentation: https://pandas.pydata.org/pandas-docs/stable/user_guide/indexing.html#returning-a-view-versus-a-copy\n",
      "  df_2020[\"자기자본비율(%)\"] = pd.to_numeric(df_2020[\"자기자본비율(%)\"], errors='coerce')\n",
      "C:\\Users\\jwlee\\AppData\\Local\\Temp\\ipykernel_15924\\2362784477.py:2: SettingWithCopyWarning: \n",
      "A value is trying to be set on a copy of a slice from a DataFrame.\n",
      "Try using .loc[row_indexer,col_indexer] = value instead\n",
      "\n",
      "See the caveats in the documentation: https://pandas.pydata.org/pandas-docs/stable/user_guide/indexing.html#returning-a-view-versus-a-copy\n",
      "  df_2020[\"총자본회전율(회)\"] = pd.to_numeric(df_2020[\"총자본회전율(회)\"], errors='coerce')\n",
      "C:\\Users\\jwlee\\AppData\\Local\\Temp\\ipykernel_15924\\2362784477.py:3: SettingWithCopyWarning: \n",
      "A value is trying to be set on a copy of a slice from a DataFrame.\n",
      "Try using .loc[row_indexer,col_indexer] = value instead\n",
      "\n",
      "See the caveats in the documentation: https://pandas.pydata.org/pandas-docs/stable/user_guide/indexing.html#returning-a-view-versus-a-copy\n",
      "  df_2020[\"ROA(당기순이익)(%)\"] = pd.to_numeric(df_2020[\"ROA(당기순이익)(%)\"], errors='coerce')\n",
      "C:\\Users\\jwlee\\AppData\\Local\\Temp\\ipykernel_15924\\2362784477.py:4: SettingWithCopyWarning: \n",
      "A value is trying to be set on a copy of a slice from a DataFrame.\n",
      "Try using .loc[row_indexer,col_indexer] = value instead\n",
      "\n",
      "See the caveats in the documentation: https://pandas.pydata.org/pandas-docs/stable/user_guide/indexing.html#returning-a-view-versus-a-copy\n",
      "  df_2020[\"WACC(시가총액평균)(%)\"] = pd.to_numeric(df_2020[\"WACC(시가총액평균)(%)\"], errors='coerce')\n"
     ]
    }
   ],
   "source": [
    "df_2020[\"자기자본비율(%)\"] = pd.to_numeric(df_2020[\"자기자본비율(%)\"], errors='coerce')\n",
    "df_2020[\"총자본회전율(회)\"] = pd.to_numeric(df_2020[\"총자본회전율(회)\"], errors='coerce')\n",
    "df_2020[\"ROA(당기순이익)(%)\"] = pd.to_numeric(df_2020[\"ROA(당기순이익)(%)\"], errors='coerce')\n",
    "df_2020[\"WACC(시가총액평균)(%)\"] = pd.to_numeric(df_2020[\"WACC(시가총액평균)(%)\"], errors='coerce')"
   ]
  },
  {
   "cell_type": "code",
   "execution_count": 67,
   "metadata": {},
   "outputs": [
    {
     "name": "stderr",
     "output_type": "stream",
     "text": [
      "C:\\Users\\jwlee\\AppData\\Local\\Temp\\ipykernel_15924\\1061948644.py:1: SettingWithCopyWarning: \n",
      "A value is trying to be set on a copy of a slice from a DataFrame.\n",
      "Try using .loc[row_indexer,col_indexer] = value instead\n",
      "\n",
      "See the caveats in the documentation: https://pandas.pydata.org/pandas-docs/stable/user_guide/indexing.html#returning-a-view-versus-a-copy\n",
      "  df_2020[\"총자본회전율(회)\"] = df_2020[\"총자본회전율(회)\"] * 100\n"
     ]
    }
   ],
   "source": [
    "df_2020[\"총자본회전율(회)\"] = df_2020[\"총자본회전율(회)\"] * 100\n",
    "df_2020 = df_2020.rename(columns={'총자본회전율(회)':'총자본회전율(%)'})"
   ]
  },
  {
   "cell_type": "code",
   "execution_count": 68,
   "metadata": {},
   "outputs": [
    {
     "name": "stdout",
     "output_type": "stream",
     "text": [
      "<class 'pandas.core.frame.DataFrame'>\n",
      "Index: 2772 entries, 2060 to 1059\n",
      "Data columns (total 31 columns):\n",
      " #   Column            Non-Null Count  Dtype  \n",
      "---  ------            --------------  -----  \n",
      " 0   Ticker            2772 non-null   object \n",
      " 1   Name              2772 non-null   object \n",
      " 2   종목명 (Full)        2772 non-null   object \n",
      " 3   기업명 (한글)          2772 non-null   object \n",
      " 4   거래소 업종            2772 non-null   object \n",
      " 5   거래소 업종코드          2772 non-null   object \n",
      " 6   결산월               2772 non-null   int64  \n",
      " 7   회계년               2772 non-null   int64  \n",
      " 8   자기자본비율(%)         2772 non-null   float64\n",
      " 9   차입금의존도(%)         2772 non-null   float64\n",
      " 10  총부채(천원)           2772 non-null   float64\n",
      " 11  영업이익률(%)          2772 non-null   float64\n",
      " 12  매출액(천원)           2772 non-null   float64\n",
      " 13  총자본회전율(%)         2772 non-null   float64\n",
      " 14  영업활동으로인한현금흐름(천원)  2772 non-null   float64\n",
      " 15  당좌자산(천원)          2772 non-null   float64\n",
      " 16  유동부채(천원)          2772 non-null   float64\n",
      " 17  ROA(당기순이익)(%)     2772 non-null   float64\n",
      " 18  신용등급 (채권, NICE)   710 non-null    object \n",
      " 19  신용등급 (CP, NICE)   384 non-null    object \n",
      " 20  ESG등급             2772 non-null   object \n",
      " 21  환경                2772 non-null   object \n",
      " 22  사회                2772 non-null   object \n",
      " 23  지배구조              2772 non-null   object \n",
      " 24  시가총액(천원)          2772 non-null   float64\n",
      " 25  WACC(시가총액평균)(%)   2772 non-null   float64\n",
      " 26  Unnamed: 0        0 non-null      float64\n",
      " 27  이전년도매출액(천원)       2772 non-null   float64\n",
      " 28  매출액증가율(%)         2772 non-null   float64\n",
      " 29  부채 상환능력(%)        2772 non-null   float64\n",
      " 30  당좌비율(%)           2772 non-null   float64\n",
      "dtypes: float64(17), int64(2), object(12)\n",
      "memory usage: 693.0+ KB\n"
     ]
    }
   ],
   "source": [
    "df_2020.info()"
   ]
  },
  {
   "cell_type": "code",
   "execution_count": 69,
   "metadata": {},
   "outputs": [
    {
     "data": {
      "text/html": [
       "<div>\n",
       "<style scoped>\n",
       "    .dataframe tbody tr th:only-of-type {\n",
       "        vertical-align: middle;\n",
       "    }\n",
       "\n",
       "    .dataframe tbody tr th {\n",
       "        vertical-align: top;\n",
       "    }\n",
       "\n",
       "    .dataframe thead th {\n",
       "        text-align: right;\n",
       "    }\n",
       "</style>\n",
       "<table border=\"1\" class=\"dataframe\">\n",
       "  <thead>\n",
       "    <tr style=\"text-align: right;\">\n",
       "      <th></th>\n",
       "      <th>Ticker</th>\n",
       "      <th>Name</th>\n",
       "      <th>종목명 (Full)</th>\n",
       "      <th>기업명 (한글)</th>\n",
       "      <th>거래소 업종</th>\n",
       "      <th>거래소 업종코드</th>\n",
       "      <th>결산월</th>\n",
       "      <th>회계년</th>\n",
       "      <th>자기자본비율(%)</th>\n",
       "      <th>차입금의존도(%)</th>\n",
       "      <th>...</th>\n",
       "      <th>환경</th>\n",
       "      <th>사회</th>\n",
       "      <th>지배구조</th>\n",
       "      <th>시가총액(천원)</th>\n",
       "      <th>WACC(시가총액평균)(%)</th>\n",
       "      <th>Unnamed: 0</th>\n",
       "      <th>이전년도매출액(천원)</th>\n",
       "      <th>매출액증가율(%)</th>\n",
       "      <th>부채 상환능력(%)</th>\n",
       "      <th>당좌비율(%)</th>\n",
       "    </tr>\n",
       "  </thead>\n",
       "  <tbody>\n",
       "    <tr>\n",
       "      <th>2060</th>\n",
       "      <td>A000020</td>\n",
       "      <td>동화약품</td>\n",
       "      <td>동화약품보통주</td>\n",
       "      <td>동화약품(주)</td>\n",
       "      <td>코스피 제약</td>\n",
       "      <td>I.009</td>\n",
       "      <td>12</td>\n",
       "      <td>2020</td>\n",
       "      <td>81.70</td>\n",
       "      <td>1.40</td>\n",
       "      <td>...</td>\n",
       "      <td>D</td>\n",
       "      <td>B+</td>\n",
       "      <td>B</td>\n",
       "      <td>548853000.0</td>\n",
       "      <td>5.54</td>\n",
       "      <td>NaN</td>\n",
       "      <td>307150025.8</td>\n",
       "      <td>-12.928899</td>\n",
       "      <td>68.804780</td>\n",
       "      <td>315.312431</td>\n",
       "    </tr>\n",
       "    <tr>\n",
       "      <th>2061</th>\n",
       "      <td>A000020</td>\n",
       "      <td>동화약품</td>\n",
       "      <td>동화약품보통주</td>\n",
       "      <td>동화약품(주)</td>\n",
       "      <td>코스피 제약</td>\n",
       "      <td>I.009</td>\n",
       "      <td>12</td>\n",
       "      <td>2021</td>\n",
       "      <td>82.70</td>\n",
       "      <td>0.78</td>\n",
       "      <td>...</td>\n",
       "      <td>C</td>\n",
       "      <td>B+</td>\n",
       "      <td>C</td>\n",
       "      <td>407799000.0</td>\n",
       "      <td>5.12</td>\n",
       "      <td>NaN</td>\n",
       "      <td>267438909.2</td>\n",
       "      <td>1.785185</td>\n",
       "      <td>42.403687</td>\n",
       "      <td>289.155054</td>\n",
       "    </tr>\n",
       "    <tr>\n",
       "      <th>2062</th>\n",
       "      <td>A000020</td>\n",
       "      <td>동화약품</td>\n",
       "      <td>동화약품보통주</td>\n",
       "      <td>동화약품(주)</td>\n",
       "      <td>코스피 제약</td>\n",
       "      <td>I.009</td>\n",
       "      <td>12</td>\n",
       "      <td>2022</td>\n",
       "      <td>83.70</td>\n",
       "      <td>0.78</td>\n",
       "      <td>...</td>\n",
       "      <td>C</td>\n",
       "      <td>B</td>\n",
       "      <td>C</td>\n",
       "      <td>258645000.0</td>\n",
       "      <td>10.28</td>\n",
       "      <td>NaN</td>\n",
       "      <td>272213188.3</td>\n",
       "      <td>16.059010</td>\n",
       "      <td>38.869866</td>\n",
       "      <td>239.866410</td>\n",
       "    </tr>\n",
       "    <tr>\n",
       "      <th>2063</th>\n",
       "      <td>A000020</td>\n",
       "      <td>동화약품</td>\n",
       "      <td>동화약품보통주</td>\n",
       "      <td>동화약품(주)</td>\n",
       "      <td>코스피 제약</td>\n",
       "      <td>I.009</td>\n",
       "      <td>12</td>\n",
       "      <td>2023</td>\n",
       "      <td>79.27</td>\n",
       "      <td>4.35</td>\n",
       "      <td>...</td>\n",
       "      <td>B</td>\n",
       "      <td>B</td>\n",
       "      <td>C</td>\n",
       "      <td>286856000.0</td>\n",
       "      <td>6.33</td>\n",
       "      <td>NaN</td>\n",
       "      <td>315927932.0</td>\n",
       "      <td>6.079589</td>\n",
       "      <td>28.783839</td>\n",
       "      <td>166.229629</td>\n",
       "    </tr>\n",
       "    <tr>\n",
       "      <th>3412</th>\n",
       "      <td>A000040</td>\n",
       "      <td>KR모터스</td>\n",
       "      <td>KR모터스보통주</td>\n",
       "      <td>케이알모터스(주)</td>\n",
       "      <td>코스피 운송장비·부품</td>\n",
       "      <td>I.015</td>\n",
       "      <td>12</td>\n",
       "      <td>2020</td>\n",
       "      <td>38.40</td>\n",
       "      <td>24.45</td>\n",
       "      <td>...</td>\n",
       "      <td>D</td>\n",
       "      <td>C</td>\n",
       "      <td>B</td>\n",
       "      <td>104035000.0</td>\n",
       "      <td>8.58</td>\n",
       "      <td>NaN</td>\n",
       "      <td>37365835.5</td>\n",
       "      <td>-45.891737</td>\n",
       "      <td>-10.544052</td>\n",
       "      <td>14.391917</td>\n",
       "    </tr>\n",
       "  </tbody>\n",
       "</table>\n",
       "<p>5 rows × 31 columns</p>\n",
       "</div>"
      ],
      "text/plain": [
       "       Ticker   Name 종목명 (Full)   기업명 (한글)       거래소 업종 거래소 업종코드  결산월   회계년  \\\n",
       "2060  A000020   동화약품    동화약품보통주    동화약품(주)       코스피 제약    I.009   12  2020   \n",
       "2061  A000020   동화약품    동화약품보통주    동화약품(주)       코스피 제약    I.009   12  2021   \n",
       "2062  A000020   동화약품    동화약품보통주    동화약품(주)       코스피 제약    I.009   12  2022   \n",
       "2063  A000020   동화약품    동화약품보통주    동화약품(주)       코스피 제약    I.009   12  2023   \n",
       "3412  A000040  KR모터스   KR모터스보통주  케이알모터스(주)  코스피 운송장비·부품    I.015   12  2020   \n",
       "\n",
       "      자기자본비율(%)  차입금의존도(%)  ...  환경  사회  지배구조     시가총액(천원)  WACC(시가총액평균)(%)  \\\n",
       "2060      81.70       1.40  ...   D  B+     B  548853000.0             5.54   \n",
       "2061      82.70       0.78  ...   C  B+     C  407799000.0             5.12   \n",
       "2062      83.70       0.78  ...   C   B     C  258645000.0            10.28   \n",
       "2063      79.27       4.35  ...   B   B     C  286856000.0             6.33   \n",
       "3412      38.40      24.45  ...   D   C     B  104035000.0             8.58   \n",
       "\n",
       "      Unnamed: 0  이전년도매출액(천원)  매출액증가율(%) 부채 상환능력(%)     당좌비율(%)  \n",
       "2060         NaN  307150025.8 -12.928899  68.804780  315.312431  \n",
       "2061         NaN  267438909.2   1.785185  42.403687  289.155054  \n",
       "2062         NaN  272213188.3  16.059010  38.869866  239.866410  \n",
       "2063         NaN  315927932.0   6.079589  28.783839  166.229629  \n",
       "3412         NaN   37365835.5 -45.891737 -10.544052   14.391917  \n",
       "\n",
       "[5 rows x 31 columns]"
      ]
     },
     "execution_count": 69,
     "metadata": {},
     "output_type": "execute_result"
    }
   ],
   "source": [
    "df_2020.head()"
   ]
  },
  {
   "cell_type": "code",
   "execution_count": 70,
   "metadata": {},
   "outputs": [],
   "source": [
    "# 선택할 컬럼 리스트 (제시한 순서대로 정렬)\n",
    "selected_columns = [\n",
    "    'Ticker', 'Name', '종목명 (Full)', '기업명 (한글)', '거래소 업종', '거래소 업종코드',\n",
    "    '결산월', '회계년', '자기자본비율(%)', '차입금의존도(%)', '매출액증가율(%)', '영업이익률(%)', \n",
    "    '총자본회전율(%)', '부채 상환능력(%)', '당좌비율(%)', 'ROA(당기순이익)(%)', \n",
    "    '신용등급 (채권, NICE)', '신용등급 (CP, NICE)', 'ESG등급', '환경', '사회', '지배구조', \n",
    "    '시가총액(천원)', 'WACC(시가총액평균)(%)'\n",
    "]\n",
    "\n",
    "# 새로운 데이터프레임 생성 (컬럼 순서 적용)\n",
    "df_final = df_2020[selected_columns]"
   ]
  },
  {
   "cell_type": "code",
   "execution_count": 71,
   "metadata": {},
   "outputs": [
    {
     "name": "stdout",
     "output_type": "stream",
     "text": [
      "<class 'pandas.core.frame.DataFrame'>\n",
      "Index: 2772 entries, 2060 to 1059\n",
      "Data columns (total 24 columns):\n",
      " #   Column           Non-Null Count  Dtype  \n",
      "---  ------           --------------  -----  \n",
      " 0   Ticker           2772 non-null   object \n",
      " 1   Name             2772 non-null   object \n",
      " 2   종목명 (Full)       2772 non-null   object \n",
      " 3   기업명 (한글)         2772 non-null   object \n",
      " 4   거래소 업종           2772 non-null   object \n",
      " 5   거래소 업종코드         2772 non-null   object \n",
      " 6   결산월              2772 non-null   int64  \n",
      " 7   회계년              2772 non-null   int64  \n",
      " 8   자기자본비율(%)        2772 non-null   float64\n",
      " 9   차입금의존도(%)        2772 non-null   float64\n",
      " 10  매출액증가율(%)        2772 non-null   float64\n",
      " 11  영업이익률(%)         2772 non-null   float64\n",
      " 12  총자본회전율(%)        2772 non-null   float64\n",
      " 13  부채 상환능력(%)       2772 non-null   float64\n",
      " 14  당좌비율(%)          2772 non-null   float64\n",
      " 15  ROA(당기순이익)(%)    2772 non-null   float64\n",
      " 16  신용등급 (채권, NICE)  710 non-null    object \n",
      " 17  신용등급 (CP, NICE)  384 non-null    object \n",
      " 18  ESG등급            2772 non-null   object \n",
      " 19  환경               2772 non-null   object \n",
      " 20  사회               2772 non-null   object \n",
      " 21  지배구조             2772 non-null   object \n",
      " 22  시가총액(천원)         2772 non-null   float64\n",
      " 23  WACC(시가총액평균)(%)  2772 non-null   float64\n",
      "dtypes: float64(10), int64(2), object(12)\n",
      "memory usage: 541.4+ KB\n"
     ]
    }
   ],
   "source": [
    "df_final.info()"
   ]
  },
  {
   "cell_type": "code",
   "execution_count": 72,
   "metadata": {},
   "outputs": [
    {
     "data": {
      "text/html": [
       "<div>\n",
       "<style scoped>\n",
       "    .dataframe tbody tr th:only-of-type {\n",
       "        vertical-align: middle;\n",
       "    }\n",
       "\n",
       "    .dataframe tbody tr th {\n",
       "        vertical-align: top;\n",
       "    }\n",
       "\n",
       "    .dataframe thead th {\n",
       "        text-align: right;\n",
       "    }\n",
       "</style>\n",
       "<table border=\"1\" class=\"dataframe\">\n",
       "  <thead>\n",
       "    <tr style=\"text-align: right;\">\n",
       "      <th></th>\n",
       "      <th>Ticker</th>\n",
       "      <th>Name</th>\n",
       "      <th>종목명 (Full)</th>\n",
       "      <th>기업명 (한글)</th>\n",
       "      <th>거래소 업종</th>\n",
       "      <th>거래소 업종코드</th>\n",
       "      <th>결산월</th>\n",
       "      <th>회계년</th>\n",
       "      <th>자기자본비율(%)</th>\n",
       "      <th>차입금의존도(%)</th>\n",
       "      <th>...</th>\n",
       "      <th>당좌비율(%)</th>\n",
       "      <th>ROA(당기순이익)(%)</th>\n",
       "      <th>신용등급 (채권, NICE)</th>\n",
       "      <th>신용등급 (CP, NICE)</th>\n",
       "      <th>ESG등급</th>\n",
       "      <th>환경</th>\n",
       "      <th>사회</th>\n",
       "      <th>지배구조</th>\n",
       "      <th>시가총액(천원)</th>\n",
       "      <th>WACC(시가총액평균)(%)</th>\n",
       "    </tr>\n",
       "  </thead>\n",
       "  <tbody>\n",
       "    <tr>\n",
       "      <th>2060</th>\n",
       "      <td>A000020</td>\n",
       "      <td>동화약품</td>\n",
       "      <td>동화약품보통주</td>\n",
       "      <td>동화약품(주)</td>\n",
       "      <td>코스피 제약</td>\n",
       "      <td>I.009</td>\n",
       "      <td>12</td>\n",
       "      <td>2020</td>\n",
       "      <td>81.70</td>\n",
       "      <td>1.40</td>\n",
       "      <td>...</td>\n",
       "      <td>315.312431</td>\n",
       "      <td>7.27</td>\n",
       "      <td>NaN</td>\n",
       "      <td>NaN</td>\n",
       "      <td>B</td>\n",
       "      <td>D</td>\n",
       "      <td>B+</td>\n",
       "      <td>B</td>\n",
       "      <td>548853000.0</td>\n",
       "      <td>5.54</td>\n",
       "    </tr>\n",
       "    <tr>\n",
       "      <th>2061</th>\n",
       "      <td>A000020</td>\n",
       "      <td>동화약품</td>\n",
       "      <td>동화약품보통주</td>\n",
       "      <td>동화약품(주)</td>\n",
       "      <td>코스피 제약</td>\n",
       "      <td>I.009</td>\n",
       "      <td>12</td>\n",
       "      <td>2021</td>\n",
       "      <td>82.70</td>\n",
       "      <td>0.78</td>\n",
       "      <td>...</td>\n",
       "      <td>289.155054</td>\n",
       "      <td>3.59</td>\n",
       "      <td>NaN</td>\n",
       "      <td>NaN</td>\n",
       "      <td>C</td>\n",
       "      <td>C</td>\n",
       "      <td>B+</td>\n",
       "      <td>C</td>\n",
       "      <td>407799000.0</td>\n",
       "      <td>5.12</td>\n",
       "    </tr>\n",
       "    <tr>\n",
       "      <th>2062</th>\n",
       "      <td>A000020</td>\n",
       "      <td>동화약품</td>\n",
       "      <td>동화약품보통주</td>\n",
       "      <td>동화약품(주)</td>\n",
       "      <td>코스피 제약</td>\n",
       "      <td>I.009</td>\n",
       "      <td>12</td>\n",
       "      <td>2022</td>\n",
       "      <td>83.70</td>\n",
       "      <td>0.78</td>\n",
       "      <td>...</td>\n",
       "      <td>239.866410</td>\n",
       "      <td>4.30</td>\n",
       "      <td>NaN</td>\n",
       "      <td>NaN</td>\n",
       "      <td>C</td>\n",
       "      <td>C</td>\n",
       "      <td>B</td>\n",
       "      <td>C</td>\n",
       "      <td>258645000.0</td>\n",
       "      <td>10.28</td>\n",
       "    </tr>\n",
       "    <tr>\n",
       "      <th>2063</th>\n",
       "      <td>A000020</td>\n",
       "      <td>동화약품</td>\n",
       "      <td>동화약품보통주</td>\n",
       "      <td>동화약품(주)</td>\n",
       "      <td>코스피 제약</td>\n",
       "      <td>I.009</td>\n",
       "      <td>12</td>\n",
       "      <td>2023</td>\n",
       "      <td>79.27</td>\n",
       "      <td>4.35</td>\n",
       "      <td>...</td>\n",
       "      <td>166.229629</td>\n",
       "      <td>5.79</td>\n",
       "      <td>NaN</td>\n",
       "      <td>NaN</td>\n",
       "      <td>C</td>\n",
       "      <td>B</td>\n",
       "      <td>B</td>\n",
       "      <td>C</td>\n",
       "      <td>286856000.0</td>\n",
       "      <td>6.33</td>\n",
       "    </tr>\n",
       "    <tr>\n",
       "      <th>3412</th>\n",
       "      <td>A000040</td>\n",
       "      <td>KR모터스</td>\n",
       "      <td>KR모터스보통주</td>\n",
       "      <td>케이알모터스(주)</td>\n",
       "      <td>코스피 운송장비·부품</td>\n",
       "      <td>I.015</td>\n",
       "      <td>12</td>\n",
       "      <td>2020</td>\n",
       "      <td>38.40</td>\n",
       "      <td>24.45</td>\n",
       "      <td>...</td>\n",
       "      <td>14.391917</td>\n",
       "      <td>-11.10</td>\n",
       "      <td>B-</td>\n",
       "      <td>NaN</td>\n",
       "      <td>C</td>\n",
       "      <td>D</td>\n",
       "      <td>C</td>\n",
       "      <td>B</td>\n",
       "      <td>104035000.0</td>\n",
       "      <td>8.58</td>\n",
       "    </tr>\n",
       "  </tbody>\n",
       "</table>\n",
       "<p>5 rows × 24 columns</p>\n",
       "</div>"
      ],
      "text/plain": [
       "       Ticker   Name 종목명 (Full)   기업명 (한글)       거래소 업종 거래소 업종코드  결산월   회계년  \\\n",
       "2060  A000020   동화약품    동화약품보통주    동화약품(주)       코스피 제약    I.009   12  2020   \n",
       "2061  A000020   동화약품    동화약품보통주    동화약품(주)       코스피 제약    I.009   12  2021   \n",
       "2062  A000020   동화약품    동화약품보통주    동화약품(주)       코스피 제약    I.009   12  2022   \n",
       "2063  A000020   동화약품    동화약품보통주    동화약품(주)       코스피 제약    I.009   12  2023   \n",
       "3412  A000040  KR모터스   KR모터스보통주  케이알모터스(주)  코스피 운송장비·부품    I.015   12  2020   \n",
       "\n",
       "      자기자본비율(%)  차입금의존도(%)  ...     당좌비율(%)  ROA(당기순이익)(%)  신용등급 (채권, NICE)  \\\n",
       "2060      81.70       1.40  ...  315.312431           7.27              NaN   \n",
       "2061      82.70       0.78  ...  289.155054           3.59              NaN   \n",
       "2062      83.70       0.78  ...  239.866410           4.30              NaN   \n",
       "2063      79.27       4.35  ...  166.229629           5.79              NaN   \n",
       "3412      38.40      24.45  ...   14.391917         -11.10               B-   \n",
       "\n",
       "      신용등급 (CP, NICE)  ESG등급  환경  사회 지배구조     시가총액(천원) WACC(시가총액평균)(%)  \n",
       "2060              NaN      B   D  B+    B  548853000.0            5.54  \n",
       "2061              NaN      C   C  B+    C  407799000.0            5.12  \n",
       "2062              NaN      C   C   B    C  258645000.0           10.28  \n",
       "2063              NaN      C   B   B    C  286856000.0            6.33  \n",
       "3412              NaN      C   D   C    B  104035000.0            8.58  \n",
       "\n",
       "[5 rows x 24 columns]"
      ]
     },
     "execution_count": 72,
     "metadata": {},
     "output_type": "execute_result"
    }
   ],
   "source": [
    "df_final.head()"
   ]
  },
  {
   "cell_type": "code",
   "execution_count": 73,
   "metadata": {},
   "outputs": [],
   "source": [
    "df_final.to_csv('preprocess250201.csv')"
   ]
  }
 ],
 "metadata": {
  "kernelspec": {
   "display_name": "Python 3",
   "language": "python",
   "name": "python3"
  },
  "language_info": {
   "codemirror_mode": {
    "name": "ipython",
    "version": 3
   },
   "file_extension": ".py",
   "mimetype": "text/x-python",
   "name": "python",
   "nbconvert_exporter": "python",
   "pygments_lexer": "ipython3",
   "version": "3.11.8"
  }
 },
 "nbformat": 4,
 "nbformat_minor": 2
}
